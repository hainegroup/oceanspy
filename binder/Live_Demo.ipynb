{
 "cells": [
  {
   "cell_type": "markdown",
   "metadata": {
    "slideshow": {
     "slide_type": "slide"
    }
   },
   "source": [
    "# Welcome to the OceanSpy demo\n",
    "<img src=\"_static/oceanspy_logo_blue.png\" width=\"50%\" alt=\"OceanSpy\">\n",
    "\n",
    "* Press `Alt`+`r` to enter/exit presentation mode.\n",
    "* Press `F11` to enter/exit full screen mode.\n",
    "* Press `Space` to move to the next slide.  \n",
    "* Press `Shift`+`Enter` to execute code."
   ]
  },
  {
   "cell_type": "markdown",
   "metadata": {
    "slideshow": {
     "slide_type": "subslide"
    }
   },
   "source": [
    "## What is OceanSpy?\n",
    "A Python package to facilitate ocean model data analysis and visualization."
   ]
  },
  {
   "cell_type": "markdown",
   "metadata": {
    "slideshow": {
     "slide_type": "subslide"
    }
   },
   "source": [
    "## Ocean circulation models are becoming increasingly realistic, producing:\n",
    "* Large volumes of data ⮕ [`Dask`](https://dask.org/)\n",
    "* Labelled multi-dimensional arrays ⮕ [`xarray`](http://xarray.pydata.org/)\n",
    "* Arrays on staggered grids ⮕ [`xgcm`](https://xgcm.readthedocs.io/)\n",
    "\n",
    "### OceanSpy builds on software packages developed by the [<span style=\"color:#5eb130\"><b>Pangeo</b></span>](https://pangeo.io/) community.\n",
    "###### Pangeo tutorial @ 15:30"
   ]
  },
  {
   "cell_type": "markdown",
   "metadata": {
    "slideshow": {
     "slide_type": "subslide"
    }
   },
   "source": [
    "## Why OceanSpy? \n",
    "To analyze model data in the way observational oceanographers analyze field measurements.\n",
    "\n",
    "<figure>\n",
    "  <img src=\"_static/bams-d-18-0217.1-f2.jpeg\"\n",
    "       width=\"70%\" alt=\"IGP\">\n",
    "  <figcaption>Figure from Renfrew et al., 2019.</figcaption>\n",
    "</figure>"
   ]
  },
  {
   "cell_type": "markdown",
   "metadata": {
    "slideshow": {
     "slide_type": "subslide"
    }
   },
   "source": [
    "## How to use OceanSpy?\n",
    "* Locally.\n",
    "* On remote data-analysis clusters (e.g., [<span style=\"color:#002D72\"><b>SciServer</b></span>](http://www.sciserver.org) or clouds).\n",
    "![SciServer.png](_static/SciServer.png)"
   ]
  },
  {
   "cell_type": "markdown",
   "metadata": {
    "slideshow": {
     "slide_type": "slide"
    }
   },
   "source": [
    "# Demo dataset\n",
    "\n",
    "<figure>\n",
    "  <img src=\"_static/jpo-d-17-0129.1-f1.jpeg\"\n",
    "       width=\"80%\" alt=\"model\">\n",
    "  <figcaption>Figure from Almansi et al., 2017.</figcaption>\n",
    "</figure>"
   ]
  },
  {
   "cell_type": "markdown",
   "metadata": {
    "slideshow": {
     "slide_type": "subslide"
    }
   },
   "source": [
    "Setup"
   ]
  },
  {
   "cell_type": "code",
   "execution_count": null,
   "metadata": {
    "slideshow": {
     "slide_type": "-"
    }
   },
   "outputs": [],
   "source": [
    "# Import OceanSpy\n",
    "import oceanspy as ospy\n",
    "\n",
    "# Shift+Enter to execute the code.\n",
    "# Space to continue."
   ]
  },
  {
   "cell_type": "code",
   "execution_count": null,
   "metadata": {
    "slideshow": {
     "slide_type": "fragment"
    }
   },
   "outputs": [],
   "source": [
    "import warnings\n",
    "\n",
    "import cartopy.crs as ccrs\n",
    "import matplotlib as mpl\n",
    "import matplotlib.pyplot as plt\n",
    "\n",
    "# Import additional packages and change some defaults\n",
    "import xarray as xr\n",
    "\n",
    "big = True\n",
    "xr.set_options(display_style=\"html\")\n",
    "mapsize = [10, 10] if big else [10, 5]\n",
    "mpl.rcParams[\"figure.figsize\"] = [15, 8] if big else [10, 5]\n",
    "mpl.rcParams[\"font.size\"] = 20 if big else 15\n",
    "warnings.filterwarnings(\"ignore\")"
   ]
  },
  {
   "cell_type": "markdown",
   "metadata": {
    "slideshow": {
     "slide_type": "subslide"
    }
   },
   "source": [
    "Open"
   ]
  },
  {
   "cell_type": "code",
   "execution_count": null,
   "metadata": {
    "slideshow": {
     "slide_type": "-"
    }
   },
   "outputs": [],
   "source": [
    "# Import OceanDataset\n",
    "od = ospy.open_oceandataset.from_zarr(\"OSM2020_EGshelfIIseas2km_ERAI_1D\")\n",
    "\n",
    "# Show OceanDataset\n",
    "od"
   ]
  },
  {
   "cell_type": "markdown",
   "metadata": {
    "slideshow": {
     "slide_type": "subslide"
    }
   },
   "source": [
    "xarray's Dataset"
   ]
  },
  {
   "cell_type": "code",
   "execution_count": null,
   "metadata": {
    "scrolled": true,
    "slideshow": {
     "slide_type": "-"
    }
   },
   "outputs": [],
   "source": [
    "# List variables and metadata.\n",
    "# Exit presentation mode (Alt+r) for better display.\n",
    "od.dataset"
   ]
  },
  {
   "cell_type": "markdown",
   "metadata": {
    "slideshow": {
     "slide_type": "subslide"
    }
   },
   "source": [
    "Plot bathymetry"
   ]
  },
  {
   "cell_type": "code",
   "execution_count": null,
   "metadata": {
    "slideshow": {
     "slide_type": "-"
    }
   },
   "outputs": [],
   "source": [
    "# Note: Automatically projected using od.projection\n",
    "fig = plt.figure(figsize=mapsize)\n",
    "ax = od.plot.horizontal_section(varName=\"Depth\")"
   ]
  },
  {
   "cell_type": "markdown",
   "metadata": {
    "slideshow": {
     "slide_type": "slide"
    }
   },
   "source": [
    "# Use case: Kögur\n",
    "<figure>\n",
    "  <img src=\"_static/array2.png\"\n",
    "       width=\"50%\" alt=\"Kogur\" style=\"background-color: #1c4966;\">\n",
    "  <figcaption>From http://kogur.whoi.edu/</figcaption>\n",
    "</figure>"
   ]
  },
  {
   "cell_type": "markdown",
   "metadata": {
    "slideshow": {
     "slide_type": "subslide"
    }
   },
   "source": [
    "## OceanSpy mooring array\n",
    "<figure>\n",
    "  <img src=\"_static/Kogur_15_1.png\"\n",
    "       width=\"70%\" alt=\"Kogur model\">\n",
    "  <figcaption>From https://oceanspy.readthedocs.io/en/latest/Kogur.html</figcaption>\n",
    "</figure>"
   ]
  },
  {
   "cell_type": "markdown",
   "metadata": {
    "slideshow": {
     "slide_type": "subslide"
    }
   },
   "source": [
    "Extract mooring array"
   ]
  },
  {
   "cell_type": "code",
   "execution_count": null,
   "metadata": {
    "slideshow": {
     "slide_type": "-"
    }
   },
   "outputs": [],
   "source": [
    "# Kögur coordinates\n",
    "lats_Kogur = [68.68, 67.52, 66.49]\n",
    "lons_Kogur = [-26.28, -23.77, -22.99]\n",
    "\n",
    "# Extract mooring array\n",
    "od_moor = od.subsample.mooring_array(Xmoor=lons_Kogur, Ymoor=lats_Kogur)"
   ]
  },
  {
   "cell_type": "markdown",
   "metadata": {
    "slideshow": {
     "slide_type": "subslide"
    }
   },
   "source": [
    "Plot moorings"
   ]
  },
  {
   "cell_type": "code",
   "execution_count": null,
   "metadata": {
    "slideshow": {
     "slide_type": "-"
    }
   },
   "outputs": [],
   "source": [
    "# Show the array on top of bathymetry\n",
    "fig = plt.figure(figsize=mapsize)\n",
    "ax = od.plot.horizontal_section(varName=\"Depth\")\n",
    "X, Y = od_moor.dataset[\"XC\"].squeeze(), od_moor.dataset[\"YC\"].squeeze()\n",
    "line = ax.plot(X, Y, \"r.\", transform=ccrs.PlateCarree())"
   ]
  },
  {
   "cell_type": "markdown",
   "metadata": {
    "slideshow": {
     "slide_type": "subslide"
    }
   },
   "source": [
    "T/S diagram (density needs to be computed!)"
   ]
  },
  {
   "cell_type": "code",
   "execution_count": null,
   "metadata": {
    "slideshow": {
     "slide_type": "-"
    }
   },
   "outputs": [],
   "source": [
    "# T/S diagram color-coded by depth (averaged over time).\n",
    "ax = od_moor.plot.TS_diagram(colorName=\"Z\", meanAxes=\"time\")"
   ]
  },
  {
   "cell_type": "markdown",
   "metadata": {
    "slideshow": {
     "slide_type": "subslide"
    }
   },
   "source": [
    "Animated T/S diagram"
   ]
  },
  {
   "cell_type": "code",
   "execution_count": null,
   "metadata": {
    "slideshow": {
     "slide_type": "-"
    }
   },
   "outputs": [],
   "source": [
    "# Using .animate instead of .plot\n",
    "anim = od_moor.animate.TS_diagram(colorName=\"Z\")\n",
    "plt.close()"
   ]
  },
  {
   "cell_type": "markdown",
   "metadata": {
    "slideshow": {
     "slide_type": "subslide"
    }
   },
   "source": [
    "## OceanSpy ship survey\n",
    "<figure>\n",
    "  <img src=\"_static/aoY1Qa3w-1024x683.jpeg\"\n",
    "       width=\"65%\" alt=\"survey\">\n",
    "  <figcaption>From https://web.whoi.edu/all0118</figcaption>\n",
    "</figure>"
   ]
  },
  {
   "cell_type": "markdown",
   "metadata": {
    "slideshow": {
     "slide_type": "subslide"
    }
   },
   "source": [
    "Extract ship survey"
   ]
  },
  {
   "cell_type": "code",
   "execution_count": null,
   "metadata": {
    "slideshow": {
     "slide_type": "-"
    }
   },
   "outputs": [],
   "source": [
    "# Extract survey overlapping the mooring array\n",
    "# Note: This function interpolates, getting rid of staggered grids\n",
    "varList = [\"Temp\", \"S\", \"U\", \"V\"]\n",
    "od_surv = od.subsample.survey_stations(\n",
    "    Xsurv=lons_Kogur, Ysurv=lats_Kogur, delta=2, varList=varList\n",
    ")\n",
    "\n",
    "# Change background color\n",
    "mpl.rcParams[\"axes.facecolor\"] = \".25\""
   ]
  },
  {
   "cell_type": "markdown",
   "metadata": {
    "slideshow": {
     "slide_type": "subslide"
    }
   },
   "source": [
    "Show vertical section"
   ]
  },
  {
   "cell_type": "code",
   "execution_count": null,
   "metadata": {
    "slideshow": {
     "slide_type": "-"
    }
   },
   "outputs": [],
   "source": [
    "# Vertical section of temperature with isopycnals\n",
    "xr_kwargs = dict(center=False, cmap=\"Spectral_r\")\n",
    "ax = od_surv.plot.vertical_section(\n",
    "    varName=\"Temp\", contourName=\"Sigma0\", meanAxes=\"time\", **xr_kwargs\n",
    ")"
   ]
  },
  {
   "cell_type": "markdown",
   "metadata": {
    "slideshow": {
     "slide_type": "subslide"
    }
   },
   "source": [
    "Rotate velocities"
   ]
  },
  {
   "cell_type": "code",
   "execution_count": null,
   "metadata": {
    "slideshow": {
     "slide_type": "-"
    }
   },
   "outputs": [],
   "source": [
    "# Switch reference system to cross/along-section\n",
    "od_surv = od_surv.compute.survey_aligned_velocities()"
   ]
  },
  {
   "cell_type": "markdown",
   "metadata": {
    "slideshow": {
     "slide_type": "subslide"
    }
   },
   "source": [
    "Show through section velocity"
   ]
  },
  {
   "cell_type": "code",
   "execution_count": null,
   "metadata": {},
   "outputs": [],
   "source": [
    "# Animation of velocity orthogonal to the section\n",
    "xr_kwargs = dict(robust=True)\n",
    "anim = od_surv.animate.vertical_section(\n",
    "    varName=\"ort_Vel\", contourName=\"Sigma0\", **xr_kwargs\n",
    ")\n",
    "plt.close()"
   ]
  },
  {
   "cell_type": "markdown",
   "metadata": {
    "slideshow": {
     "slide_type": "slide"
    }
   },
   "source": [
    "# OceanSpy diagnostics overview\n",
    "<figure>\n",
    "  <img src=\"_static/joss_table.png\"\n",
    "       width=\"55%\" alt=\"JOSStable\">\n",
    "  <figcaption>Table from Almansi et al., 2019.</figcaption>\n",
    "</figure>"
   ]
  },
  {
   "cell_type": "markdown",
   "metadata": {
    "slideshow": {
     "slide_type": "subslide"
    }
   },
   "source": [
    "Compute Ertel PV: $\\displaystyle{Q = - \\frac{\\omega \\cdot \\nabla \\rho}{\\rho}  =}\\displaystyle{(f + \\zeta)\\frac{N^2}{g} + \\frac{\\left(\\zeta_H+e\\hat{\\mathbf{y}}\\right)\\cdot\\nabla_H\\rho}{\\rho_0}}$"
   ]
  },
  {
   "cell_type": "code",
   "execution_count": null,
   "metadata": {},
   "outputs": [],
   "source": [
    "# Compute Ertel PV in the top 100m\n",
    "od100m = od.subsample.cutout(ZRange=[0, -100])\n",
    "od100m = od100m.compute.Ertel_potential_vorticity()"
   ]
  },
  {
   "cell_type": "code",
   "execution_count": null,
   "metadata": {
    "cell_style": "split",
    "slideshow": {
     "slide_type": "subslide"
    }
   },
   "outputs": [],
   "source": [
    "# Plot Ertel PV (averaged over Z).\n",
    "# Note: The vertical mean is automatically weighted.\n",
    "fig = plt.figure(figsize=mapsize)\n",
    "xr_kwargs = dict(robust=True, center=False, cmap=\"inferno\")\n",
    "anim = od100m.animate.horizontal_section(varName=\"Ertel_PV\", meanAxes=\"Z\", **xr_kwargs)\n",
    "plt.close()"
   ]
  },
  {
   "cell_type": "markdown",
   "metadata": {
    "cell_style": "split",
    "slideshow": {
     "slide_type": "-"
    }
   },
   "source": [
    "# More info:\n",
    "* OceanSpy documentation:  \n",
    "[<span style=\"color:#0081BC\"><b>https://oceanspy.readthedocs.io</b></span>](https://oceanspy.readthedocs.io)\n",
    "* OceanSpy GitHub:  \n",
    "[<span style=\"color:#0081BC\"><b>https://github.com/hainegroup/oceanspy</b></span>](https://github.com/hainegroup/oceanspy)\n",
    "* JOSS paper:  \n",
    "[<span style=\"color:#0081BC\"><b>https://doi.org/10.21105/joss.01506</b></span>](https://doi.org/10.21105/joss.01506)\n",
    "* SciServer:  \n",
    "[<span style=\"color:#0081BC\"><b>http://www.sciserver.org</b></span>](http://www.sciserver.org)\n",
    "* Poseidon project:  \n",
    "[<span style=\"color:#0081BC\"><b>https://poseidon.idies.jhu.edu</b></span>](https://poseidon.idies.jhu.edu)"
   ]
  },
  {
   "cell_type": "markdown",
   "metadata": {
    "slideshow": {
     "slide_type": "subslide"
    }
   },
   "source": [
    "# More info:\n",
    "* OceanSpy documentation:  \n",
    "[<span style=\"color:#0081BC\"><b>https://oceanspy.readthedocs.io</b></span>](https://oceanspy.readthedocs.io)\n",
    "* OceanSpy GitHub:  \n",
    "[<span style=\"color:#0081BC\"><b>https://github.com/hainegroup/oceanspy</b></span>](https://github.com/hainegroup/oceanspy)\n",
    "* JOSS paper:  \n",
    "[<span style=\"color:#0081BC\"><b>https://doi.org/10.21105/joss.01506</b></span>](https://doi.org/10.21105/joss.01506)\n",
    "* SciServer:  \n",
    "[<span style=\"color:#0081BC\"><b>http://www.sciserver.org</b></span>](http://www.sciserver.org)\n",
    "* Poseidon project:  \n",
    "[<span style=\"color:#0081BC\"><b>https://poseidon.idies.jhu.edu</b></span>](https://poseidon.idies.jhu.edu)"
   ]
  }
 ],
 "metadata": {
  "celltoolbar": "Slideshow",
  "kernelspec": {
   "display_name": "Python 3",
   "language": "python",
   "name": "python3"
  },
  "language_info": {
   "codemirror_mode": {
    "name": "ipython",
    "version": 3
   },
   "file_extension": ".py",
   "mimetype": "text/x-python",
   "name": "python",
   "nbconvert_exporter": "python",
   "pygments_lexer": "ipython3",
   "version": "3.8.1"
  },
  "livereveal": {
   "autolaunch": true,
   "enable_chalkboard": true,
   "overlay": "<h1 align='center'>Live demo: https://bndr.it/nakt7</h1>",
   "scroll": true
  }
 },
 "nbformat": 4,
 "nbformat_minor": 2
}
