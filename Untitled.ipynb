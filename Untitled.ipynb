{
 "cells": [
  {
   "cell_type": "code",
   "execution_count": 1,
   "metadata": {},
   "outputs": [
    {
     "name": "stderr",
     "output_type": "stream",
     "text": [
      "/home/mattia/anaconda3/envs/test_env/lib/python3.6/site-packages/dask/config.py:168: YAMLLoadWarning: calling yaml.load() without Loader=... is deprecated, as the default Loader is unsafe. Please read https://msg.pyyaml.org/load for full details.\n",
      "  data = yaml.load(f.read()) or {}\n",
      "/home/mattia/anaconda3/envs/test_env/lib/python3.6/site-packages/distributed/config.py:20: YAMLLoadWarning: calling yaml.load() without Loader=... is deprecated, as the default Loader is unsafe. Please read https://msg.pyyaml.org/load for full details.\n",
      "  defaults = yaml.load(f)\n"
     ]
    },
    {
     "name": "stdout",
     "output_type": "stream",
     "text": [
      "Opening dataset from [./oceanspy/tests/Data/MITgcm_rect_nc.nc].\n"
     ]
    }
   ],
   "source": [
    "%run -i 'oceanspy/tests/test_compute_calculus.py'"
   ]
  },
  {
   "cell_type": "code",
   "execution_count": 2,
   "metadata": {},
   "outputs": [],
   "source": [
    "%matplotlib inline\n",
    "import oceanspy as ospy"
   ]
  },
  {
   "cell_type": "code",
   "execution_count": null,
   "metadata": {},
   "outputs": [],
   "source": [
    "od4calc.dataset['sintime'].isel(Z=0, X=0, Y=0).plot()"
   ]
  },
  {
   "cell_type": "code",
   "execution_count": null,
   "metadata": {},
   "outputs": [],
   "source": [
    "od4calc.dataset['costime'].isel(Z=0, X=0, Y=0).plot()"
   ]
  },
  {
   "cell_type": "code",
   "execution_count": 3,
   "metadata": {},
   "outputs": [
    {
     "name": "stdout",
     "output_type": "stream",
     "text": [
      "Computing gradient.\n",
      "drC\n",
      "drF\n",
      "HFacC\n",
      "HFacW\n",
      "HFacS\n",
      "KPPGHAT\n",
      "KPPdiffKzS\n",
      "KPPdiffKzT\n",
      "KPPviscAz\n",
      "S\n",
      "Temp\n",
      "U\n",
      "V\n",
      "W\n",
      "RHOAnoma\n",
      "momVort3\n",
      "phiHyd\n",
      "ADVr_SLT\n",
      "ADVr_TH\n",
      "ADVx_SLT\n",
      "ADVx_TH\n",
      "ADVy_SLT\n",
      "ADVy_TH\n",
      "DFrI_SLT\n",
      "DFrI_TH\n",
      "KPPg_SLT\n",
      "KPPg_TH\n",
      "oceSPtnd\n",
      "sinX\n",
      "sinY\n",
      "sinZ\n",
      "sintime\n",
      "cosX\n",
      "cosY\n",
      "cosZ\n",
      "costime\n"
     ]
    }
   ],
   "source": [
    "ds = gradient(od4calc, varNameList=list(od4calc.dataset.data_vars))"
   ]
  },
  {
   "cell_type": "code",
   "execution_count": 5,
   "metadata": {},
   "outputs": [
    {
     "data": {
      "text/plain": [
       "<xarray.DataArray 'dHFacC_dX' (Z: 14, Y: 13, Xp1: 12)>\n",
       "array([[[nan,  0., ...,  0., nan],\n",
       "        [nan,  0., ...,  0., nan],\n",
       "        ...,\n",
       "        [nan,  0., ...,  0., nan],\n",
       "        [nan,  0., ...,  0., nan]],\n",
       "\n",
       "       [[nan,  0., ...,  0., nan],\n",
       "        [nan,  0., ...,  0., nan],\n",
       "        ...,\n",
       "        [nan,  0., ...,  0., nan],\n",
       "        [nan,  0., ...,  0., nan]],\n",
       "\n",
       "       ...,\n",
       "\n",
       "       [[nan,  0., ...,  0., nan],\n",
       "        [nan,  0., ...,  0., nan],\n",
       "        ...,\n",
       "        [nan,  0., ...,  0., nan],\n",
       "        [nan,  0., ...,  0., nan]],\n",
       "\n",
       "       [[nan,  0., ...,  0., nan],\n",
       "        [nan,  0., ...,  0., nan],\n",
       "        ...,\n",
       "        [nan,  0., ...,  0., nan],\n",
       "        [nan,  0., ...,  0., nan]]])\n",
       "Coordinates:\n",
       "  * Z        (Z) float64 -0.01 -0.02 -0.03 -0.04 ... -0.11 -0.12 -0.13 -0.14\n",
       "  * Xp1      (Xp1) float64 0.005 0.015 0.025 0.035 ... 0.085 0.095 0.105 0.115\n",
       "  * Y        (Y) float64 0.01 0.02 0.03 0.04 0.05 ... 0.09 0.1 0.11 0.12 0.13\n",
       "    XU       (Y, Xp1) float64 0.005 0.015 0.025 0.035 ... 0.095 0.105 0.115\n",
       "    YU       (Y, Xp1) float64 0.01 0.01 0.01 0.01 0.01 ... 0.13 0.13 0.13 0.13\n",
       "Attributes:\n",
       "    units:    - m^-1"
      ]
     },
     "execution_count": 5,
     "metadata": {},
     "output_type": "execute_result"
    }
   ],
   "source": [
    "ds['dHFacC_dX']"
   ]
  },
  {
   "cell_type": "code",
   "execution_count": 8,
   "metadata": {},
   "outputs": [
    {
     "data": {
      "text/plain": [
       "False"
      ]
     },
     "execution_count": 8,
     "metadata": {},
     "output_type": "execute_result"
    }
   ],
   "source": [
    "od4calc.dataset['HFacC'].units!='-'"
   ]
  },
  {
   "cell_type": "code",
   "execution_count": 9,
   "metadata": {},
   "outputs": [
    {
     "name": "stdout",
     "output_type": "stream",
     "text": [
      "Computing curl.\n",
      "Computing gradient.\n",
      "Computing gradient.\n",
      "V\n",
      "Computing gradient.\n",
      "U\n",
      "Computing gradient.\n"
     ]
    },
    {
     "data": {
      "text/plain": [
       "<xarray.Dataset>\n",
       "Dimensions:      (X: 11, Xp1: 12, Y: 13, Yp1: 14, Z: 14, Zl: 14, time: 17)\n",
       "Coordinates:\n",
       "  * time         (time) datetime64[ns] 1990-09-27 ... 1990-09-27T00:00:00.160000\n",
       "  * Z            (Z) float64 -0.01 -0.02 -0.03 -0.04 ... -0.11 -0.12 -0.13 -0.14\n",
       "  * Yp1          (Yp1) float64 0.005 0.015 0.025 0.035 ... 0.115 0.125 0.135\n",
       "  * Xp1          (Xp1) float64 0.005 0.015 0.025 0.035 ... 0.095 0.105 0.115\n",
       "    XG           (Yp1, Xp1) float64 0.005 0.015 0.025 ... 0.095 0.105 0.115\n",
       "    YG           (Yp1, Xp1) float64 0.005 0.005 0.005 ... 0.135 0.135 0.135\n",
       "  * Zl           (Zl) float64 -0.005 -0.015 -0.025 ... -0.115 -0.125 -0.135\n",
       "  * X            (X) float64 0.01 0.02 0.03 0.04 0.05 ... 0.08 0.09 0.1 0.11\n",
       "    XV           (Yp1, X) float64 0.01 0.02 0.03 0.04 ... 0.08 0.09 0.1 0.11\n",
       "    YV           (Yp1, X) float64 0.005 0.005 0.005 0.005 ... 0.135 0.135 0.135\n",
       "  * Y            (Y) float64 0.01 0.02 0.03 0.04 0.05 ... 0.1 0.11 0.12 0.13\n",
       "    XU           (Y, Xp1) float64 0.005 0.015 0.025 0.035 ... 0.095 0.105 0.115\n",
       "    YU           (Y, Xp1) float64 0.01 0.01 0.01 0.01 ... 0.13 0.13 0.13 0.13\n",
       "Data variables:\n",
       "    dV_dX-dU_dY  (time, Z, Yp1, Xp1) float64 nan nan nan nan ... nan nan nan nan\n",
       "    dW_dY-dV_dZ  (time, Zl, Yp1, X) float64 nan nan nan nan ... nan nan nan nan\n",
       "    dU_dZ-dW_dX  (time, Zl, Y, Xp1) float64 nan nan nan ... -0.1561 0.5388 nan\n",
       "Attributes:\n",
       "    OceanSpy_grid_coords:    {'Y': {'Y': None, 'Yp1': 0.5}, 'X': {'X': None, ...\n",
       "    OceanSpy_name:           EGshelfIIseas2km_ASR\n",
       "    OceanSpy_description:    High-resolution (~2km) numerical simulation cove...\n",
       "    OceanSpy_parameters:     {'rSphere': 6371.0, 'eq_state': 'jmd95', 'rho0':...\n",
       "    OceanSpy_projection:     Mercator(**{'central_longitude': -17.49216449999...\n",
       "    OceanSpy_grid_periodic:  []"
      ]
     },
     "execution_count": 9,
     "metadata": {},
     "output_type": "execute_result"
    }
   ],
   "source": [
    "ospy.compute.curl(od4calc, iName='U', jName='V', kName='W')"
   ]
  },
  {
   "cell_type": "code",
   "execution_count": null,
   "metadata": {},
   "outputs": [],
   "source": [
    "od4calc.dataset['costime'].isel(Z=0, X=0, Y=0).plot()\n",
    "ds['dsintime_dtime'].isel(X=0, Y=0, Z=0).plot()"
   ]
  },
  {
   "cell_type": "code",
   "execution_count": null,
   "metadata": {},
   "outputs": [],
   "source": [
    "(od4calc.dataset['time_midp'][0]-od4calc.dataset['time_midp'])"
   ]
  },
  {
   "cell_type": "code",
   "execution_count": null,
   "metadata": {},
   "outputs": [],
   "source": [
    "(od4calc.dataset['time_midp'][0]-od4calc.dataset['time_midp'])"
   ]
  },
  {
   "cell_type": "code",
   "execution_count": null,
   "metadata": {},
   "outputs": [],
   "source": [
    "(od4calc.dataset['time_midp']-od4calc.dataset['time_midp'][0])/np.timedelta64(1, 's')"
   ]
  },
  {
   "cell_type": "code",
   "execution_count": null,
   "metadata": {},
   "outputs": [],
   "source": [
    "od4calc.dataset['X']"
   ]
  },
  {
   "cell_type": "code",
   "execution_count": null,
   "metadata": {},
   "outputs": [],
   "source": [
    "od4calc.dataset['Temp'].dims in [od4calc.grid_coords[axis].keys() for axis in od4calc.grid_coords if axis in ['X']]"
   ]
  },
  {
   "cell_type": "code",
   "execution_count": null,
   "metadata": {},
   "outputs": [],
   "source": [
    "[dim for axis in od4calc.grid_coords if axis in ['X', 'Y'] for dim in od4calc.grid_coords[axis].keys()]"
   ]
  },
  {
   "cell_type": "code",
   "execution_count": null,
   "metadata": {},
   "outputs": [],
   "source": [
    "a = set(od4calc.dataset['Temp'].dims).intersection(set([dim for axis in od4calc.grid_coords if axis in ['X', 'Y'] for dim in od4calc.grid_coords[axis].keys()]))"
   ]
  },
  {
   "cell_type": "code",
   "execution_count": null,
   "metadata": {},
   "outputs": [],
   "source": [
    "len(a)"
   ]
  },
  {
   "cell_type": "code",
   "execution_count": null,
   "metadata": {},
   "outputs": [],
   "source": []
  }
 ],
 "metadata": {
  "kernelspec": {
   "display_name": "Python 3",
   "language": "python",
   "name": "python3"
  },
  "language_info": {
   "codemirror_mode": {
    "name": "ipython",
    "version": 3
   },
   "file_extension": ".py",
   "mimetype": "text/x-python",
   "name": "python",
   "nbconvert_exporter": "python",
   "pygments_lexer": "ipython3",
   "version": "3.6.7"
  }
 },
 "nbformat": 4,
 "nbformat_minor": 2
}
