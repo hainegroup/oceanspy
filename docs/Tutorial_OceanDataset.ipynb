{
 "cells": [
  {
   "cell_type": "markdown",
   "metadata": {},
   "source": [
    "# Tutorial OceanDataset"
   ]
  },
  {
   "cell_type": "markdown",
   "metadata": {},
   "source": [
    "If you need to install OceanSpy dependencies, set this True"
   ]
  },
  {
   "cell_type": "code",
   "execution_count": 1,
   "metadata": {},
   "outputs": [],
   "source": [
    "if False:\n",
    "    import sys\n",
    "    !conda install --yes --prefix {sys.prefix} dask distributed bottleneck netCDF4\n",
    "    !conda install --yes --prefix {sys.prefix} -c conda-forge xarray cartopy esmpy\n",
    "    !{sys.executable} -m pip install geopy xgcm xmitgcm xesmf"
   ]
  },
  {
   "cell_type": "markdown",
   "metadata": {},
   "source": [
    "Now install OceanSpy from my brunch"
   ]
  },
  {
   "cell_type": "markdown",
   "metadata": {},
   "source": [
    "OceanSpy can be easily imported by doing `import oceanspy`. I like using the alias `ospy`.\n",
    "OceanSpy is TAB-friendly, which means that you can get a lot of information using the TAB button.  "
   ]
  },
  {
   "cell_type": "markdown",
   "metadata": {},
   "source": [
    "OceanDataset objects are used by all OceanSpy functions. They combine [`xarray.Dataset`](http://xarray.pydata.org/en/stable/generated/xarray.Dataset.html) with several other objects/variables needed by OceanSpy, such as [`xgcm.Grid`](https://xgcm.readthedocs.io/en/stable/grids.html#Grid-Objects), parameters, coefficients, variable names, some plotting info in the future, ...\n",
    "\n",
    "To create an OceanDataset, you only need a `dataset`.  \n",
    "Let's use one of the `xarray` tutorial datasets to initialize an `oceandataset`."
   ]
  },
  {
   "cell_type": "code",
   "execution_count": 2,
   "metadata": {},
   "outputs": [],
   "source": [
    "import oceanspy as ospy\n",
    "import xarray as xr\n",
    "ds = xr.tutorial.open_dataset('rasm')\n",
    "od = ospy.OceanDataset(ds)"
   ]
  },
  {
   "cell_type": "markdown",
   "metadata": {},
   "source": [
    "When you print an `od`, the attributes added to the `ds` are shown.  \n",
    "We didn't add anything yet, so `od` only shows the original `ds`. There are several methods to add attributes. Check out the documentation!"
   ]
  },
  {
   "cell_type": "code",
   "execution_count": 3,
   "metadata": {},
   "outputs": [
    {
     "data": {
      "text/plain": [
       "<oceanspy.OceanDataset>\n",
       "\n",
       "Main attributes:\n",
       "   .dataset: <xarray.Dataset>"
      ]
     },
     "execution_count": 3,
     "metadata": {},
     "output_type": "execute_result"
    }
   ],
   "source": [
    "od"
   ]
  },
  {
   "cell_type": "markdown",
   "metadata": {},
   "source": [
    "Let's add a name and a description:"
   ]
  },
  {
   "cell_type": "code",
   "execution_count": 4,
   "metadata": {},
   "outputs": [
    {
     "data": {
      "text/plain": [
       "<oceanspy.OceanDataset>\n",
       "\n",
       "Main attributes:\n",
       "   .name: OceanDataset #1\n",
       "   .description: My first OceanDataset!\n",
       "   .dataset: <xarray.Dataset>"
      ]
     },
     "execution_count": 4,
     "metadata": {},
     "output_type": "execute_result"
    }
   ],
   "source": [
    "name = 'OceanDataset #1'\n",
    "desc = 'My first OceanDataset!'\n",
    "od = od.set_name(name).set_description(desc)\n",
    "od"
   ]
  },
  {
   "cell_type": "markdown",
   "metadata": {},
   "source": [
    "`oceanspy.OceanDataset` follows 2 main rules.  \n",
    "\n",
    "#### Rule #1: Spies look for secret information.   \n",
    "Whenever you ask for an attribute, let's say `name`, OceanDataset is actually reading and decoding information stored as global attributes in the `dataset`.  \n",
    "In this simple case, `OceanSpy_name` and `OceanSpy_description` have been added to the dataset."
   ]
  },
  {
   "cell_type": "code",
   "execution_count": 5,
   "metadata": {},
   "outputs": [
    {
     "data": {
      "text/plain": [
       "OrderedDict([('title',\n",
       "              '/workspace/jhamman/processed/R1002RBRxaaa01a/lnd/temp/R1002RBRxaaa01a.vic.ha.1979-09-01.nc'),\n",
       "             ('institution', 'U.W.'),\n",
       "             ('source', 'RACM R1002RBRxaaa01a'),\n",
       "             ('output_frequency', 'daily'),\n",
       "             ('output_mode', 'averaged'),\n",
       "             ('convention', 'CF-1.4'),\n",
       "             ('references',\n",
       "              'Based on the initial model of Liang et al., 1994, JGR, 99, 14,415- 14,429.'),\n",
       "             ('comment',\n",
       "              'Output from the Variable Infiltration Capacity (VIC) model.'),\n",
       "             ('nco_openmp_thread_number', 1),\n",
       "             ('NCO', '\"4.6.0\"'),\n",
       "             ('history',\n",
       "              'Tue Dec 27 14:15:22 2016: ncatted -a dimensions,,d,, rasm.nc rasm.nc\\nTue Dec 27 13:38:40 2016: ncks -3 rasm.nc rasm.nc\\nhistory deleted for brevity'),\n",
       "             ('OceanSpy_name', 'OceanDataset #1'),\n",
       "             ('OceanSpy_description', 'My first OceanDataset!')])"
      ]
     },
     "execution_count": 5,
     "metadata": {},
     "output_type": "execute_result"
    }
   ],
   "source": [
    "od.dataset.attrs"
   ]
  },
  {
   "cell_type": "markdown",
   "metadata": {},
   "source": [
    "If we want to change some `od` attribute, you need to change the `ds` global attributes.  \n",
    "We can NOT do this:"
   ]
  },
  {
   "cell_type": "code",
   "execution_count": 6,
   "metadata": {},
   "outputs": [
    {
     "ename": "AttributeError",
     "evalue": "Set new `name` using .set_name",
     "output_type": "error",
     "traceback": [
      "\u001b[0;31m\u001b[0m",
      "\u001b[0;31mAttributeError\u001b[0mTraceback (most recent call last)",
      "\u001b[0;32m<ipython-input-6-305ee14dda06>\u001b[0m in \u001b[0;36m<module>\u001b[0;34m()\u001b[0m\n\u001b[1;32m      2\u001b[0m \u001b[0mnew_name\u001b[0m \u001b[0;34m=\u001b[0m \u001b[0;34m'OceanDataset #2'\u001b[0m\u001b[0;34m\u001b[0m\u001b[0m\n\u001b[1;32m      3\u001b[0m \u001b[0mnew_desc\u001b[0m \u001b[0;34m=\u001b[0m \u001b[0;34m'I learned how to change attributes!'\u001b[0m\u001b[0;34m\u001b[0m\u001b[0m\n\u001b[0;32m----> 4\u001b[0;31m \u001b[0mod\u001b[0m\u001b[0;34m.\u001b[0m\u001b[0mname\u001b[0m \u001b[0;34m=\u001b[0m \u001b[0mnew_name\u001b[0m\u001b[0;34m\u001b[0m\u001b[0m\n\u001b[0m",
      "\u001b[0;32m~/workspace/Storage/malmans2/persistent/oceanspy/oceanspy/_oceandataset.py\u001b[0m in \u001b[0;36mname\u001b[0;34m(self, name)\u001b[0m\n\u001b[1;32m    109\u001b[0m         \"\"\"\n\u001b[1;32m    110\u001b[0m \u001b[0;34m\u001b[0m\u001b[0m\n\u001b[0;32m--> 111\u001b[0;31m         \u001b[0;32mraise\u001b[0m \u001b[0mAttributeError\u001b[0m\u001b[0;34m(\u001b[0m\u001b[0;34m\"Set new `name` using .set_name\"\u001b[0m\u001b[0;34m)\u001b[0m\u001b[0;34m\u001b[0m\u001b[0m\n\u001b[0m\u001b[1;32m    112\u001b[0m \u001b[0;34m\u001b[0m\u001b[0m\n\u001b[1;32m    113\u001b[0m     \u001b[0;32mdef\u001b[0m \u001b[0mset_name\u001b[0m\u001b[0;34m(\u001b[0m\u001b[0mself\u001b[0m\u001b[0;34m,\u001b[0m \u001b[0mname\u001b[0m\u001b[0;34m,\u001b[0m \u001b[0moverwrite\u001b[0m\u001b[0;34m=\u001b[0m\u001b[0;32mNone\u001b[0m\u001b[0;34m)\u001b[0m\u001b[0;34m:\u001b[0m\u001b[0;34m\u001b[0m\u001b[0m\n",
      "\u001b[0;31mAttributeError\u001b[0m: Set new `name` using .set_name"
     ]
    }
   ],
   "source": [
    "# Wrong way to do it!\n",
    "new_name = 'OceanDataset #2'\n",
    "new_desc = 'I learned how to change attributes!'\n",
    "od.name = new_name"
   ]
  },
  {
   "cell_type": "markdown",
   "metadata": {},
   "source": [
    "We have to use the class methods:"
   ]
  },
  {
   "cell_type": "code",
   "execution_count": null,
   "metadata": {},
   "outputs": [],
   "source": [
    "new_od = od.set_name(new_name, overwrite=True).set_description(new_desc, overwrite=True)\n",
    "new_od"
   ]
  },
  {
   "cell_type": "markdown",
   "metadata": {},
   "source": [
    "#### Rule #2: Spies use fake identities.\n",
    "The main reason behind this rule is that we want to be able to use OceanSpy with any dataset.\n",
    "However, different datasets (especially products from different models) use different variable names.  \n",
    "The dataset returned by `.dataset` is the fake identity! The real dataset is under `._ds` (similarly, there is `._grid`).  \n",
    "`.dataset` looks at `._ds`, and returns it renaming the variables. So, OceanSpy's function always operate on `._ds` and `._grid`, while users work `.dataset` and `.grid`. \n",
    "\n",
    "Here is an example: `od.dataset` has dimension `x` and `y`, and coordinates `xc`, and `yc`.  \n",
    "But OceanSpy reference names for this variables are capitalized. We need to inform OceanSpy that `x` is actually `X`, `y` is `Y`, and so on.\n",
    "\n",
    "If we try to rename the variables under `.dataset`, nothing will actually change:"
   ]
  },
  {
   "cell_type": "code",
   "execution_count": 7,
   "metadata": {},
   "outputs": [
    {
     "data": {
      "text/plain": [
       "<xarray.Dataset>\n",
       "Dimensions:  (time: 36, x: 275, y: 205)\n",
       "Coordinates:\n",
       "  * time     (time) object 0001-01-01 00:00:00 ... 0001-01-01 00:00:00\n",
       "    xc       (y, x) float64 ...\n",
       "    yc       (y, x) float64 ...\n",
       "Dimensions without coordinates: x, y\n",
       "Data variables:\n",
       "    Tair     (time, y, x) float64 ...\n",
       "Attributes:\n",
       "    title:                     /workspace/jhamman/processed/R1002RBRxaaa01a/l...\n",
       "    institution:               U.W.\n",
       "    source:                    RACM R1002RBRxaaa01a\n",
       "    output_frequency:          daily\n",
       "    output_mode:               averaged\n",
       "    convention:                CF-1.4\n",
       "    references:                Based on the initial model of Liang et al., 19...\n",
       "    comment:                   Output from the Variable Infiltration Capacity...\n",
       "    nco_openmp_thread_number:  1\n",
       "    NCO:                       \"4.6.0\"\n",
       "    history:                   Tue Dec 27 14:15:22 2016: ncatted -a dimension...\n",
       "    OceanSpy_name:             OceanDataset #1\n",
       "    OceanSpy_description:      My first OceanDataset!"
      ]
     },
     "execution_count": 7,
     "metadata": {},
     "output_type": "execute_result"
    }
   ],
   "source": [
    "# Wrong way to do it!\n",
    "od.dataset['X'] = od.dataset['x']\n",
    "od.dataset"
   ]
  },
  {
   "cell_type": "markdown",
   "metadata": {},
   "source": [
    "We have to use the proper class method:"
   ]
  },
  {
   "cell_type": "code",
   "execution_count": 8,
   "metadata": {},
   "outputs": [
    {
     "name": "stdout",
     "output_type": "stream",
     "text": [
      "\n",
      "\n",
      "\n",
      "od_aliases.dataset has the same names of the original dataset:\n",
      "<xarray.Dataset>\n",
      "Dimensions:  (time: 36, x: 275, y: 205)\n",
      "Coordinates:\n",
      "  * time     (time) object 0001-01-01 00:00:00 ... 0001-01-01 00:00:00\n",
      "    xc       (y, x) float64 ...\n",
      "    yc       (y, x) float64 ...\n",
      "Dimensions without coordinates: x, y\n",
      "Data variables:\n",
      "    Tair     (time, y, x) float64 ...\n",
      "Attributes:\n",
      "    title:                     /workspace/jhamman/processed/R1002RBRxaaa01a/l...\n",
      "    institution:               U.W.\n",
      "    source:                    RACM R1002RBRxaaa01a\n",
      "    output_frequency:          daily\n",
      "    output_mode:               averaged\n",
      "    convention:                CF-1.4\n",
      "    references:                Based on the initial model of Liang et al., 19...\n",
      "    comment:                   Output from the Variable Infiltration Capacity...\n",
      "    nco_openmp_thread_number:  1\n",
      "    NCO:                       \"4.6.0\"\n",
      "    history:                   Tue Dec 27 14:15:22 2016: ncatted -a dimension...\n",
      "    OceanSpy_name:             OceanDataset #3\n",
      "    OceanSpy_description:      I learned how to set aliases!\n",
      "    OceanSpy_aliases:          {'X': 'x', 'Y': 'y', 'XC': 'xc', 'YC': 'yc'}\n",
      "\n",
      "\n",
      "\n",
      "od_aliases._ds has the OceanSpy reference names:\n",
      "<xarray.Dataset>\n",
      "Dimensions:  (X: 275, Y: 205, time: 36)\n",
      "Coordinates:\n",
      "  * time     (time) object 0001-01-01 00:00:00 ... 0001-01-01 00:00:00\n",
      "    XC       (Y, X) float64 ...\n",
      "    YC       (Y, X) float64 ...\n",
      "Dimensions without coordinates: X, Y\n",
      "Data variables:\n",
      "    Tair     (time, Y, X) float64 ...\n",
      "Attributes:\n",
      "    title:                     /workspace/jhamman/processed/R1002RBRxaaa01a/l...\n",
      "    institution:               U.W.\n",
      "    source:                    RACM R1002RBRxaaa01a\n",
      "    output_frequency:          daily\n",
      "    output_mode:               averaged\n",
      "    convention:                CF-1.4\n",
      "    references:                Based on the initial model of Liang et al., 19...\n",
      "    comment:                   Output from the Variable Infiltration Capacity...\n",
      "    nco_openmp_thread_number:  1\n",
      "    NCO:                       \"4.6.0\"\n",
      "    history:                   Tue Dec 27 14:15:22 2016: ncatted -a dimension...\n",
      "    OceanSpy_name:             OceanDataset #3\n",
      "    OceanSpy_description:      I learned how to set aliases!\n",
      "    OceanSpy_aliases:          {'X': 'x', 'Y': 'y', 'XC': 'xc', 'YC': 'yc'}\n"
     ]
    }
   ],
   "source": [
    "name    = 'OceanDataset #3'\n",
    "desc    = 'I learned how to set aliases!' \n",
    "aliases = {'X': 'x', 'Y': 'y', 'XC': 'xc', 'YC': 'yc'} \n",
    "od_aliases = od.set_name(name, overwrite=True).set_description(desc, overwrite=True).set_aliases(aliases) \n",
    "\n",
    "print('\\n\\n')\n",
    "print('od_aliases.dataset has the same names of the original dataset:')\n",
    "print(od_aliases.dataset)\n",
    "print('\\n\\n')\n",
    "print('od_aliases._ds has the OceanSpy reference names:')\n",
    "print(od_aliases._ds)"
   ]
  },
  {
   "cell_type": "markdown",
   "metadata": {},
   "source": [
    "OceanSpy internal functions should always use `_ds` and `_grid`, while users should use `dataset` and `ds`. For example, let's create two simple OceanSpy functions:\n",
    "1. Round latitute and longitude.\n",
    "2. Compute the difference between rounded and not rounded coordinates"
   ]
  },
  {
   "cell_type": "code",
   "execution_count": 9,
   "metadata": {},
   "outputs": [
    {
     "data": {
      "text/plain": [
       "<xarray.Dataset>\n",
       "Dimensions:        (time: 36, x: 275, y: 205)\n",
       "Coordinates:\n",
       "  * time           (time) object 0001-01-01 00:00:00 ... 0001-01-01 00:00:00\n",
       "    xc             (y, x) float64 0.0 0.0 0.0 0.0 0.0 ... 0.0 0.0 0.0 0.0 0.0\n",
       "    yc             (y, x) float64 0.0 0.0 0.0 0.0 0.0 ... 0.0 0.0 0.0 0.0 0.0\n",
       "Dimensions without coordinates: x, y\n",
       "Data variables:\n",
       "    Tair           (time, y, x) float64 ...\n",
       "    XC_round       (y, x) float64 0.0 0.0 0.0 0.0 0.0 ... 0.0 0.0 0.0 0.0 0.0\n",
       "    YC_round       (y, x) float64 0.0 0.0 0.0 0.0 0.0 ... 0.0 0.0 0.0 0.0 0.0\n",
       "    XC_diff_round  (y, x) float64 0.0 0.0 0.0 0.0 0.0 ... 0.0 0.0 0.0 0.0 0.0\n",
       "    YC_diff_round  (y, x) float64 0.0 0.0 0.0 0.0 0.0 ... 0.0 0.0 0.0 0.0 0.0\n",
       "Attributes:\n",
       "    title:                     /workspace/jhamman/processed/R1002RBRxaaa01a/l...\n",
       "    institution:               U.W.\n",
       "    source:                    RACM R1002RBRxaaa01a\n",
       "    output_frequency:          daily\n",
       "    output_mode:               averaged\n",
       "    convention:                CF-1.4\n",
       "    references:                Based on the initial model of Liang et al., 19...\n",
       "    comment:                   Output from the Variable Infiltration Capacity...\n",
       "    nco_openmp_thread_number:  1\n",
       "    NCO:                       \"4.6.0\"\n",
       "    history:                   Tue Dec 27 14:15:22 2016: ncatted -a dimension...\n",
       "    OceanSpy_name:             OceanDataset #3\n",
       "    OceanSpy_description:      I learned how to set aliases!\n",
       "    OceanSpy_aliases:          {'X': 'x', 'Y': 'y', 'XC': 'xc', 'YC': 'yc'}"
      ]
     },
     "execution_count": 9,
     "metadata": {},
     "output_type": "execute_result"
    }
   ],
   "source": [
    "def ospy_round_coords(od):\n",
    "    # We need to do a shallow copy first because we want to keep the input od as it is.\n",
    "    import copy\n",
    "    od = copy.copy(od)\n",
    "    # Now we can add new variables to od\n",
    "    od._ds['XC_round'] = od._ds['XC'].round()\n",
    "    od._ds['YC_round'] = od._ds['YC'].round()\n",
    "    return od\n",
    "\n",
    "def ospy_diff_round_coords(od):\n",
    "    # We need to do a shallow copy first because we want to keep the input od as it is.\n",
    "    import copy\n",
    "    od = copy.copy(od)\n",
    "    # Now we can add new variables to od\n",
    "    od._ds['XC_diff_round'] = od._ds['XC_round'] - od._ds['XC']\n",
    "    od._ds['YC_diff_round'] = od._ds['YC_round'] - od._ds['YC']\n",
    "    return od\n",
    "od_round_dev = ospy_round_coords(od_aliases)\n",
    "od_round_dev = ospy_diff_round_coords(od_round_dev)\n",
    "od_round_dev.dataset"
   ]
  },
  {
   "cell_type": "markdown",
   "metadata": {},
   "source": [
    "This is how we can add new variables to the oceandataset:"
   ]
  },
  {
   "cell_type": "code",
   "execution_count": 10,
   "metadata": {},
   "outputs": [
    {
     "data": {
      "text/plain": [
       "<xarray.Dataset>\n",
       "Dimensions:   (time: 36, x: 275, y: 205)\n",
       "Coordinates:\n",
       "  * time      (time) object 0001-01-01 00:00:00 ... 0001-01-01 00:00:00\n",
       "    xc        (y, x) float64 0.0 0.0 0.0 0.0 0.0 0.0 ... 0.0 0.0 0.0 0.0 0.0 0.0\n",
       "    yc        (y, x) float64 0.0 0.0 0.0 0.0 0.0 0.0 ... 0.0 0.0 0.0 0.0 0.0 0.0\n",
       "Dimensions without coordinates: x, y\n",
       "Data variables:\n",
       "    Tair      (time, y, x) float64 ...\n",
       "    xc_round  (y, x) float64 0.0 0.0 0.0 0.0 0.0 0.0 ... 0.0 0.0 0.0 0.0 0.0 0.0\n",
       "    yc_round  (y, x) float64 0.0 0.0 0.0 0.0 0.0 0.0 ... 0.0 0.0 0.0 0.0 0.0 0.0\n",
       "Attributes:\n",
       "    title:                     /workspace/jhamman/processed/R1002RBRxaaa01a/l...\n",
       "    institution:               U.W.\n",
       "    source:                    RACM R1002RBRxaaa01a\n",
       "    output_frequency:          daily\n",
       "    output_mode:               averaged\n",
       "    convention:                CF-1.4\n",
       "    references:                Based on the initial model of Liang et al., 19...\n",
       "    comment:                   Output from the Variable Infiltration Capacity...\n",
       "    nco_openmp_thread_number:  1\n",
       "    NCO:                       \"4.6.0\"\n",
       "    history:                   Tue Dec 27 14:15:22 2016: ncatted -a dimension...\n",
       "    OceanSpy_name:             OceanDataset #3\n",
       "    OceanSpy_description:      I learned how to set aliases!\n",
       "    OceanSpy_aliases:          {'X': 'x', 'Y': 'y', 'XC': 'xc', 'YC': 'yc'}"
      ]
     },
     "execution_count": 10,
     "metadata": {},
     "output_type": "execute_result"
    }
   ],
   "source": [
    "ds_user = od_aliases.dataset\n",
    "ds_user['xc_round'] = ds_user['xc'].round()\n",
    "ds_user['yc_round'] = ds_user['yc'].round()\n",
    "od_round_user = ospy.OceanDataset(ds_user)\n",
    "od_round_user.dataset"
   ]
  },
  {
   "cell_type": "markdown",
   "metadata": {},
   "source": [
    "Or, we can use OceanSpy methods:"
   ]
  },
  {
   "cell_type": "code",
   "execution_count": 11,
   "metadata": {},
   "outputs": [
    {
     "data": {
      "text/plain": [
       "<xarray.Dataset>\n",
       "Dimensions:   (time: 36, x: 275, y: 205)\n",
       "Coordinates:\n",
       "  * time      (time) object 0001-01-01 00:00:00 ... 0001-01-01 00:00:00\n",
       "    xc        (y, x) float64 0.0 0.0 0.0 0.0 0.0 0.0 ... 0.0 0.0 0.0 0.0 0.0 0.0\n",
       "    yc        (y, x) float64 0.0 0.0 0.0 0.0 0.0 0.0 ... 0.0 0.0 0.0 0.0 0.0 0.0\n",
       "Dimensions without coordinates: x, y\n",
       "Data variables:\n",
       "    Tair      (time, y, x) float64 ...\n",
       "    xc_round  (y, x) float64 0.0 0.0 0.0 0.0 0.0 0.0 ... 0.0 0.0 0.0 0.0 0.0 0.0\n",
       "    yc_round  (y, x) float64 0.0 0.0 0.0 0.0 0.0 0.0 ... 0.0 0.0 0.0 0.0 0.0 0.0\n",
       "Attributes:\n",
       "    title:                     /workspace/jhamman/processed/R1002RBRxaaa01a/l...\n",
       "    institution:               U.W.\n",
       "    source:                    RACM R1002RBRxaaa01a\n",
       "    output_frequency:          daily\n",
       "    output_mode:               averaged\n",
       "    convention:                CF-1.4\n",
       "    references:                Based on the initial model of Liang et al., 19...\n",
       "    comment:                   Output from the Variable Infiltration Capacity...\n",
       "    nco_openmp_thread_number:  1\n",
       "    NCO:                       \"4.6.0\"\n",
       "    history:                   Tue Dec 27 14:15:22 2016: ncatted -a dimension...\n",
       "    OceanSpy_name:             OceanDataset #3\n",
       "    OceanSpy_description:      I learned how to set aliases!\n",
       "    OceanSpy_aliases:          {'X': 'x', 'Y': 'y', 'XC': 'xc', 'YC': 'yc'}"
      ]
     },
     "execution_count": 11,
     "metadata": {},
     "output_type": "execute_result"
    }
   ],
   "source": [
    "xc_round = od_aliases.dataset['xc'].round().rename('xc_round')\n",
    "yc_round = od_aliases.dataset['yc'].round().rename('yc_round')\n",
    "od_round_user = od_aliases.add_DataArray(xc_round).add_DataArray(yc_round)\n",
    "od_round_user.dataset\n",
    "# Alternatively, you could merge the two DataArray first, the use OceanDataset.merge_Dataset()"
   ]
  },
  {
   "cell_type": "markdown",
   "metadata": {},
   "source": [
    "We want to tell OceanSpy that `xc_round` and `yc_round` are the same variables that OceanSpy knows as `XC_round`, `YC_rount`. Then, we can use the OceanSpy function that computes the difference between rounded and not rounded coordinates"
   ]
  },
  {
   "cell_type": "code",
   "execution_count": 12,
   "metadata": {},
   "outputs": [
    {
     "ename": "KeyError",
     "evalue": "'XC_round'",
     "output_type": "error",
     "traceback": [
      "\u001b[0;31m\u001b[0m",
      "\u001b[0;31mKeyError\u001b[0mTraceback (most recent call last)",
      "\u001b[0;32m~/miniconda3/lib/python3.6/site-packages/xarray/core/dataset.py\u001b[0m in \u001b[0;36m_construct_dataarray\u001b[0;34m(self, name)\u001b[0m\n\u001b[1;32m    886\u001b[0m         \u001b[0;32mtry\u001b[0m\u001b[0;34m:\u001b[0m\u001b[0;34m\u001b[0m\u001b[0m\n\u001b[0;32m--> 887\u001b[0;31m             \u001b[0mvariable\u001b[0m \u001b[0;34m=\u001b[0m \u001b[0mself\u001b[0m\u001b[0;34m.\u001b[0m\u001b[0m_variables\u001b[0m\u001b[0;34m[\u001b[0m\u001b[0mname\u001b[0m\u001b[0;34m]\u001b[0m\u001b[0;34m\u001b[0m\u001b[0m\n\u001b[0m\u001b[1;32m    888\u001b[0m         \u001b[0;32mexcept\u001b[0m \u001b[0mKeyError\u001b[0m\u001b[0;34m:\u001b[0m\u001b[0;34m\u001b[0m\u001b[0m\n",
      "\u001b[0;31mKeyError\u001b[0m: 'XC_round'",
      "\nDuring handling of the above exception, another exception occurred:\n",
      "\u001b[0;31mKeyError\u001b[0mTraceback (most recent call last)",
      "\u001b[0;32m<ipython-input-12-80e6fdecc5a8>\u001b[0m in \u001b[0;36m<module>\u001b[0;34m()\u001b[0m\n\u001b[1;32m      1\u001b[0m \u001b[0;31m# Wrong way to do it!\u001b[0m\u001b[0;34m\u001b[0m\u001b[0;34m\u001b[0m\u001b[0m\n\u001b[0;32m----> 2\u001b[0;31m \u001b[0mospy_diff_round_coords\u001b[0m\u001b[0;34m(\u001b[0m\u001b[0mod_round_user\u001b[0m\u001b[0;34m)\u001b[0m\u001b[0;34m\u001b[0m\u001b[0m\n\u001b[0m",
      "\u001b[0;32m<ipython-input-9-f4d75fe52647>\u001b[0m in \u001b[0;36mospy_diff_round_coords\u001b[0;34m(od)\u001b[0m\n\u001b[1;32m     13\u001b[0m     \u001b[0mod\u001b[0m \u001b[0;34m=\u001b[0m \u001b[0mcopy\u001b[0m\u001b[0;34m.\u001b[0m\u001b[0mcopy\u001b[0m\u001b[0;34m(\u001b[0m\u001b[0mod\u001b[0m\u001b[0;34m)\u001b[0m\u001b[0;34m\u001b[0m\u001b[0m\n\u001b[1;32m     14\u001b[0m     \u001b[0;31m# Now we can add new variables to od\u001b[0m\u001b[0;34m\u001b[0m\u001b[0;34m\u001b[0m\u001b[0m\n\u001b[0;32m---> 15\u001b[0;31m     \u001b[0mod\u001b[0m\u001b[0;34m.\u001b[0m\u001b[0m_ds\u001b[0m\u001b[0;34m[\u001b[0m\u001b[0;34m'XC_diff_round'\u001b[0m\u001b[0;34m]\u001b[0m \u001b[0;34m=\u001b[0m \u001b[0mod\u001b[0m\u001b[0;34m.\u001b[0m\u001b[0m_ds\u001b[0m\u001b[0;34m[\u001b[0m\u001b[0;34m'XC_round'\u001b[0m\u001b[0;34m]\u001b[0m \u001b[0;34m-\u001b[0m \u001b[0mod\u001b[0m\u001b[0;34m.\u001b[0m\u001b[0m_ds\u001b[0m\u001b[0;34m[\u001b[0m\u001b[0;34m'XC'\u001b[0m\u001b[0;34m]\u001b[0m\u001b[0;34m\u001b[0m\u001b[0m\n\u001b[0m\u001b[1;32m     16\u001b[0m     \u001b[0mod\u001b[0m\u001b[0;34m.\u001b[0m\u001b[0m_ds\u001b[0m\u001b[0;34m[\u001b[0m\u001b[0;34m'YC_diff_round'\u001b[0m\u001b[0;34m]\u001b[0m \u001b[0;34m=\u001b[0m \u001b[0mod\u001b[0m\u001b[0;34m.\u001b[0m\u001b[0m_ds\u001b[0m\u001b[0;34m[\u001b[0m\u001b[0;34m'YC_round'\u001b[0m\u001b[0;34m]\u001b[0m \u001b[0;34m-\u001b[0m \u001b[0mod\u001b[0m\u001b[0;34m.\u001b[0m\u001b[0m_ds\u001b[0m\u001b[0;34m[\u001b[0m\u001b[0;34m'YC'\u001b[0m\u001b[0;34m]\u001b[0m\u001b[0;34m\u001b[0m\u001b[0m\n\u001b[1;32m     17\u001b[0m     \u001b[0;32mreturn\u001b[0m \u001b[0mod\u001b[0m\u001b[0;34m\u001b[0m\u001b[0m\n",
      "\u001b[0;32m~/miniconda3/lib/python3.6/site-packages/xarray/core/dataset.py\u001b[0m in \u001b[0;36m__getitem__\u001b[0;34m(self, key)\u001b[0m\n\u001b[1;32m    959\u001b[0m \u001b[0;34m\u001b[0m\u001b[0m\n\u001b[1;32m    960\u001b[0m         \u001b[0;32mif\u001b[0m \u001b[0mhashable\u001b[0m\u001b[0;34m(\u001b[0m\u001b[0mkey\u001b[0m\u001b[0;34m)\u001b[0m\u001b[0;34m:\u001b[0m\u001b[0;34m\u001b[0m\u001b[0m\n\u001b[0;32m--> 961\u001b[0;31m             \u001b[0;32mreturn\u001b[0m \u001b[0mself\u001b[0m\u001b[0;34m.\u001b[0m\u001b[0m_construct_dataarray\u001b[0m\u001b[0;34m(\u001b[0m\u001b[0mkey\u001b[0m\u001b[0;34m)\u001b[0m\u001b[0;34m\u001b[0m\u001b[0m\n\u001b[0m\u001b[1;32m    962\u001b[0m         \u001b[0;32melse\u001b[0m\u001b[0;34m:\u001b[0m\u001b[0;34m\u001b[0m\u001b[0m\n\u001b[1;32m    963\u001b[0m             \u001b[0;32mreturn\u001b[0m \u001b[0mself\u001b[0m\u001b[0;34m.\u001b[0m\u001b[0m_copy_listed\u001b[0m\u001b[0;34m(\u001b[0m\u001b[0mnp\u001b[0m\u001b[0;34m.\u001b[0m\u001b[0masarray\u001b[0m\u001b[0;34m(\u001b[0m\u001b[0mkey\u001b[0m\u001b[0;34m)\u001b[0m\u001b[0;34m)\u001b[0m\u001b[0;34m\u001b[0m\u001b[0m\n",
      "\u001b[0;32m~/miniconda3/lib/python3.6/site-packages/xarray/core/dataset.py\u001b[0m in \u001b[0;36m_construct_dataarray\u001b[0;34m(self, name)\u001b[0m\n\u001b[1;32m    888\u001b[0m         \u001b[0;32mexcept\u001b[0m \u001b[0mKeyError\u001b[0m\u001b[0;34m:\u001b[0m\u001b[0;34m\u001b[0m\u001b[0m\n\u001b[1;32m    889\u001b[0m             _, name, variable = _get_virtual_variable(\n\u001b[0;32m--> 890\u001b[0;31m                 self._variables, name, self._level_coords, self.dims)\n\u001b[0m\u001b[1;32m    891\u001b[0m \u001b[0;34m\u001b[0m\u001b[0m\n\u001b[1;32m    892\u001b[0m         \u001b[0mcoords\u001b[0m \u001b[0;34m=\u001b[0m \u001b[0mOrderedDict\u001b[0m\u001b[0;34m(\u001b[0m\u001b[0;34m)\u001b[0m\u001b[0;34m\u001b[0m\u001b[0m\n",
      "\u001b[0;32m~/miniconda3/lib/python3.6/site-packages/xarray/core/dataset.py\u001b[0m in \u001b[0;36m_get_virtual_variable\u001b[0;34m(variables, key, level_vars, dim_sizes)\u001b[0m\n\u001b[1;32m     74\u001b[0m         \u001b[0mref_var\u001b[0m \u001b[0;34m=\u001b[0m \u001b[0mdim_var\u001b[0m\u001b[0;34m.\u001b[0m\u001b[0mto_index_variable\u001b[0m\u001b[0;34m(\u001b[0m\u001b[0;34m)\u001b[0m\u001b[0;34m.\u001b[0m\u001b[0mget_level_variable\u001b[0m\u001b[0;34m(\u001b[0m\u001b[0mref_name\u001b[0m\u001b[0;34m)\u001b[0m\u001b[0;34m\u001b[0m\u001b[0m\n\u001b[1;32m     75\u001b[0m     \u001b[0;32melse\u001b[0m\u001b[0;34m:\u001b[0m\u001b[0;34m\u001b[0m\u001b[0m\n\u001b[0;32m---> 76\u001b[0;31m         \u001b[0mref_var\u001b[0m \u001b[0;34m=\u001b[0m \u001b[0mvariables\u001b[0m\u001b[0;34m[\u001b[0m\u001b[0mref_name\u001b[0m\u001b[0;34m]\u001b[0m\u001b[0;34m\u001b[0m\u001b[0m\n\u001b[0m\u001b[1;32m     77\u001b[0m \u001b[0;34m\u001b[0m\u001b[0m\n\u001b[1;32m     78\u001b[0m     \u001b[0;32mif\u001b[0m \u001b[0mvar_name\u001b[0m \u001b[0;32mis\u001b[0m \u001b[0;32mNone\u001b[0m\u001b[0;34m:\u001b[0m\u001b[0;34m\u001b[0m\u001b[0m\n",
      "\u001b[0;31mKeyError\u001b[0m: 'XC_round'"
     ]
    }
   ],
   "source": [
    "# Wrong way to do it!\n",
    "ospy_diff_round_coords(od_round_user)"
   ]
  },
  {
   "cell_type": "code",
   "execution_count": 13,
   "metadata": {},
   "outputs": [
    {
     "data": {
      "text/plain": [
       "<xarray.Dataset>\n",
       "Dimensions:        (time: 36, x: 275, y: 205)\n",
       "Coordinates:\n",
       "  * time           (time) object 0001-01-01 00:00:00 ... 0001-01-01 00:00:00\n",
       "    xc             (y, x) float64 0.0 0.0 0.0 0.0 0.0 ... 0.0 0.0 0.0 0.0 0.0\n",
       "    yc             (y, x) float64 0.0 0.0 0.0 0.0 0.0 ... 0.0 0.0 0.0 0.0 0.0\n",
       "Dimensions without coordinates: x, y\n",
       "Data variables:\n",
       "    Tair           (time, y, x) float64 ...\n",
       "    xc_round       (y, x) float64 0.0 0.0 0.0 0.0 0.0 ... 0.0 0.0 0.0 0.0 0.0\n",
       "    yc_round       (y, x) float64 0.0 0.0 0.0 0.0 0.0 ... 0.0 0.0 0.0 0.0 0.0\n",
       "    XC_diff_round  (y, x) float64 0.0 0.0 0.0 0.0 0.0 ... 0.0 0.0 0.0 0.0 0.0\n",
       "    YC_diff_round  (y, x) float64 0.0 0.0 0.0 0.0 0.0 ... 0.0 0.0 0.0 0.0 0.0\n",
       "Attributes:\n",
       "    title:                     /workspace/jhamman/processed/R1002RBRxaaa01a/l...\n",
       "    institution:               U.W.\n",
       "    source:                    RACM R1002RBRxaaa01a\n",
       "    output_frequency:          daily\n",
       "    output_mode:               averaged\n",
       "    convention:                CF-1.4\n",
       "    references:                Based on the initial model of Liang et al., 19...\n",
       "    comment:                   Output from the Variable Infiltration Capacity...\n",
       "    nco_openmp_thread_number:  1\n",
       "    NCO:                       \"4.6.0\"\n",
       "    history:                   Tue Dec 27 14:15:22 2016: ncatted -a dimension...\n",
       "    OceanSpy_name:             OceanDataset #3\n",
       "    OceanSpy_description:      I learned how to set aliases!\n",
       "    OceanSpy_aliases:          {'X': 'x', 'Y': 'y', 'XC': 'xc', 'YC': 'yc', '..."
      ]
     },
     "execution_count": 13,
     "metadata": {},
     "output_type": "execute_result"
    }
   ],
   "source": [
    "# Let's set the aliases first!\n",
    "od_round_user = od_round_user.set_aliases({'XC_round': 'xc_round', 'YC_round': 'yc_round'}, overwrite=False)\n",
    "od_round_user = ospy_diff_round_coords(od_round_user)\n",
    "od_round_user.dataset"
   ]
  },
  {
   "cell_type": "markdown",
   "metadata": {},
   "source": [
    "Do you prefer having `XC_diff_round` and `YC_diff_round` lowercase? Just add some alias!  \n",
    "I doesn't matter if you set the aliases before or after running the function."
   ]
  },
  {
   "cell_type": "markdown",
   "metadata": {},
   "source": [
    "We can store your `od` in NetCDF format."
   ]
  },
  {
   "cell_type": "code",
   "execution_count": 14,
   "metadata": {},
   "outputs": [
    {
     "name": "stdout",
     "output_type": "stream",
     "text": [
      "Writing dataset to ./my_first_od.nc\n",
      "[########################################] | 100% Completed |  0.1s\n"
     ]
    }
   ],
   "source": [
    "path = './my_first_od.nc'\n",
    "od_round_user.to_netcdf('./my_first_od.nc')"
   ]
  },
  {
   "cell_type": "markdown",
   "metadata": {},
   "source": [
    "And re-open it:"
   ]
  },
  {
   "cell_type": "code",
   "execution_count": 15,
   "metadata": {},
   "outputs": [
    {
     "name": "stdout",
     "output_type": "stream",
     "text": [
      "Opening dataset from [./my_first_od.nc]\n"
     ]
    },
    {
     "data": {
      "text/plain": [
       "<oceanspy.OceanDataset>\n",
       "\n",
       "Main attributes:\n",
       "   .name: OceanDataset #3\n",
       "   .description: I learned how to set aliases!\n",
       "   .dataset: <xarray.Dataset>\n",
       "\n",
       "More attributes:\n",
       "   .aliases: <class 'dict'>"
      ]
     },
     "execution_count": 15,
     "metadata": {},
     "output_type": "execute_result"
    }
   ],
   "source": [
    "od_from_nc = ospy.open_oceandataset.from_netcdf(path)\n",
    "od_from_nc"
   ]
  },
  {
   "cell_type": "markdown",
   "metadata": {},
   "source": [
    "There are several method that allows to initialize an `oceandataset` properly. They create grid, they create missing dimensions, ... Most of these methods are used by `oceanspy.open_oceandataset`."
   ]
  }
 ],
 "metadata": {
  "kernelspec": {
   "display_name": "Python 3",
   "language": "python",
   "name": "python3"
  },
  "language_info": {
   "codemirror_mode": {
    "name": "ipython",
    "version": 3
   },
   "file_extension": ".py",
   "mimetype": "text/x-python",
   "name": "python",
   "nbconvert_exporter": "python",
   "pygments_lexer": "ipython3",
   "version": "3.6.6"
  }
 },
 "nbformat": 4,
 "nbformat_minor": 2
}
