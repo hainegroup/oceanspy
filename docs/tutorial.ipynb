{
 "cells": [
  {
   "cell_type": "markdown",
   "metadata": {},
   "source": [
    "# Tutorial\n",
    "OceanSpy builds on software packages developed by the [Pangeo](http://pangeo-data.org/) community.  \n",
    "OceanSpy is documented [here](https://oceanspy.readthedocs.io/en/latest/), and makes heavy use of [xarray](http://xarray.pydata.org/en/stable/index.html) and [xgcm](http://xgcm.readthedocs.io/en/latest/).\n",
    "Familiarity with these packages is recommended, but not required."
   ]
  },
  {
   "cell_type": "markdown",
   "metadata": {},
   "source": [
    "Install and import OceanSpy\n",
    "-------------------------------"
   ]
  },
  {
   "cell_type": "markdown",
   "metadata": {},
   "source": [
    "### Install\n",
    "Run the following commands only if OceanSpy is not installed yet."
   ]
  },
  {
   "cell_type": "code",
   "execution_count": null,
   "metadata": {},
   "outputs": [],
   "source": [
    "import sys\n",
    "!conda install --yes --prefix {sys.prefix} dask distributed bottleneck netCDF4\n",
    "!conda install --yes --prefix {sys.prefix} -c conda-forge xarray cartopy esmpy \n",
    "!conda install --yes --prefix {sys.prefix} -c pyviz hvplot geoviews\n",
    "!{sys.executable} -m pip install geopy xgcm xesmf oceanspy"
   ]
  },
  {
   "cell_type": "markdown",
   "metadata": {},
   "source": [
    "###  Import\n",
    "OceanSpy is ``Tab``-friendly: every OceanSpy component (objects, modules, functions, ...) is documented and self-explanatory names are used. Check the [API](https://oceanspy.readthedocs.io/en/latest/installation.html) section, use ``help()``, and take advantage of the ``Tab`` key. Most of the functions demonstrated here have additional options for expert users!"
   ]
  },
  {
   "cell_type": "code",
   "execution_count": 1,
   "metadata": {},
   "outputs": [
    {
     "name": "stdout",
     "output_type": "stream",
     "text": [
      "Help on package oceanspy:\n",
      "\n",
      "NAME\n",
      "    oceanspy\n",
      "\n",
      "PACKAGE CONTENTS\n",
      "    compute\n",
      "    open_dataset\n",
      "    subsample\n",
      "    utils\n",
      "    visualize\n",
      "\n",
      "DATA\n",
      "    __email__ = 'mattia.almansi@jhu.edu'\n",
      "\n",
      "VERSION\n",
      "    0.0.10\n",
      "\n",
      "AUTHOR\n",
      "    Mattia Almansi\n",
      "\n",
      "FILE\n",
      "    /home/idies/workspace/Temporary/malmans2/scratch/testOspy/oceanspy/oceanspy/__init__.py\n",
      "\n",
      "\n"
     ]
    }
   ],
   "source": [
    "import oceanspy as ospy\n",
    "help(ospy)"
   ]
  },
  {
   "cell_type": "markdown",
   "metadata": {},
   "source": [
    "Open dataset\n",
    "--------------\n",
    "OceanSpy will create two crucial variables: ``ds`` is a ``xarray.Dataset`` containing model outputs, while ``info`` is an object containing several information used by OceanSpy (e.g., ``info.grid`` is a ``xgcm.Grid`` object). If you want to learn more about ``Dataset`` and ``Grid``, take a look at [xarray](http://xarray.pydata.org/en/stable/index.html) and [xgcm](http://xgcm.readthedocs.io/en/latest/) documentations, examples, and tutorials.  \n",
    "NOTE: it might take a couple fo minutes when you open a dataset for the very first time."
   ]
  },
  {
   "cell_type": "code",
   "execution_count": 2,
   "metadata": {},
   "outputs": [
    {
     "name": "stdout",
     "output_type": "stream",
     "text": [
      "Opening exp_ASR\n",
      "\n",
      "\n",
      "This is a dataset:\n",
      " <xarray.Dataset>\n",
      "Dimensions:     (X: 960, Xp1: 961, Y: 880, Yp1: 881, Z: 216, Zl: 216, Zp1: 217, Zu: 216, time: 1464)\n",
      "Coordinates:\n",
      "  * Z           (Z) float64 -1.0 -3.5 -7.0 -11.5 -17.0 -23.5 -31.0 -39.5 ...\n",
      "  * Zp1         (Zp1) float64 0.0 -2.0 -5.0 -9.0 -14.0 -20.0 -27.0 -35.0 ...\n",
      "  * Zu          (Zu) float64 -2.0 -5.0 -9.0 -14.0 -20.0 -27.0 -35.0 -44.0 ...\n",
      "  * Zl          (Zl) float64 0.0 -2.0 -5.0 -9.0 -14.0 -20.0 -27.0 -35.0 ...\n",
      "  * X           (X) float64 -46.92 -46.83 -46.74 -46.65 -46.57 -46.48 -46.4 ...\n",
      "  * Y           (Y) float64 56.81 56.85 56.89 56.93 56.96 57.0 57.04 57.08 ...\n",
      "  * Xp1         (Xp1) float64 -46.96 -46.87 -46.78 -46.7 -46.61 -46.53 ...\n",
      "  * Yp1         (Yp1) float64 56.79 56.83 56.87 56.91 56.95 56.98 57.02 ...\n",
      "  * time        (time) datetime64[ns] 2007-09-01 2007-09-01T06:00:00 ...\n",
      "Data variables:\n",
      "    drC         (Zp1) float64 -1.0 -2.5 -3.5 -4.5 -5.5 -6.5 -7.5 -8.5 -9.5 ...\n",
      "    drF         (Z) float64 -2.0 -3.0 -4.0 -5.0 -6.0 -7.0 -8.0 -9.0 -10.0 ...\n",
      "    dxC         (Y, Xp1) float64 ...\n",
      "    dyC         (Yp1, X) float64 ...\n",
      "    dxF         (Y, X) float64 ...\n",
      "    dyF         (Y, X) float64 ...\n",
      "    dxG         (Yp1, X) float64 ...\n",
      "    dyG         (Y, Xp1) float64 ...\n",
      "    dxV         (Yp1, Xp1) float64 ...\n",
      "    dyU         (Yp1, Xp1) float64 ...\n",
      "    rA          (Y, X) float64 ...\n",
      "    rAw         (Y, Xp1) float64 ...\n",
      "    rAs         (Yp1, X) float64 ...\n",
      "    rAz         (Yp1, Xp1) float64 ...\n",
      "    fCori       (Y, X) float64 ...\n",
      "    fCoriG      (Yp1, Xp1) float64 ...\n",
      "    R_low       (Y, X) float64 ...\n",
      "    Ro_surf     (Y, X) float64 ...\n",
      "    Depth       (Y, X) float64 ...\n",
      "    HFacC       (Z, Y, X) float64 ...\n",
      "    HFacW       (Z, Y, Xp1) float64 ...\n",
      "    HFacS       (Z, Yp1, X) float64 ...\n",
      "    EXFaqh      (time, Y, X) float64 dask.array<shape=(1464, 880, 960), chunksize=(40, 880, 960)>\n",
      "    EXFatemp    (time, Y, X) float64 dask.array<shape=(1464, 880, 960), chunksize=(40, 880, 960)>\n",
      "    EXFempmr    (time, Y, X) float64 dask.array<shape=(1464, 880, 960), chunksize=(40, 880, 960)>\n",
      "    EXFevap     (time, Y, X) float64 dask.array<shape=(1464, 880, 960), chunksize=(40, 880, 960)>\n",
      "    EXFhl       (time, Y, X) float64 dask.array<shape=(1464, 880, 960), chunksize=(40, 880, 960)>\n",
      "    EXFhs       (time, Y, X) float64 dask.array<shape=(1464, 880, 960), chunksize=(40, 880, 960)>\n",
      "    EXFlwnet    (time, Y, X) float64 dask.array<shape=(1464, 880, 960), chunksize=(40, 880, 960)>\n",
      "    EXFpreci    (time, Y, X) float64 dask.array<shape=(1464, 880, 960), chunksize=(40, 880, 960)>\n",
      "    EXFpress    (time, Y, X) float64 dask.array<shape=(1464, 880, 960), chunksize=(40, 880, 960)>\n",
      "    EXFqnet     (time, Y, X) float64 dask.array<shape=(1464, 880, 960), chunksize=(40, 880, 960)>\n",
      "    EXFroff     (time, Y, X) float64 dask.array<shape=(1464, 880, 960), chunksize=(40, 880, 960)>\n",
      "    EXFroft     (time, Y, X) float64 dask.array<shape=(1464, 880, 960), chunksize=(40, 880, 960)>\n",
      "    EXFsnow     (time, Y, X) float64 dask.array<shape=(1464, 880, 960), chunksize=(40, 880, 960)>\n",
      "    EXFswnet    (time, Y, X) float64 dask.array<shape=(1464, 880, 960), chunksize=(40, 880, 960)>\n",
      "    EXFtaux     (time, Y, X) float64 dask.array<shape=(1464, 880, 960), chunksize=(40, 880, 960)>\n",
      "    EXFtauy     (time, Y, X) float64 dask.array<shape=(1464, 880, 960), chunksize=(40, 880, 960)>\n",
      "    EXFuwind    (time, Y, X) float64 dask.array<shape=(1464, 880, 960), chunksize=(40, 880, 960)>\n",
      "    EXFvwind    (time, Y, X) float64 dask.array<shape=(1464, 880, 960), chunksize=(40, 880, 960)>\n",
      "    KPPhbl      (time, Y, X) float64 dask.array<shape=(1464, 880, 960), chunksize=(40, 880, 960)>\n",
      "    MXLDEPTH    (time, Y, X) float64 dask.array<shape=(1464, 880, 960), chunksize=(40, 880, 960)>\n",
      "    TRELAX      (time, Y, X) float64 dask.array<shape=(1464, 880, 960), chunksize=(40, 880, 960)>\n",
      "    SRELAX      (time, Y, X) float64 dask.array<shape=(1464, 880, 960), chunksize=(40, 880, 960)>\n",
      "    RHOAnoma    (time, Z, Y, X) float64 dask.array<shape=(1464, 216, 880, 960), chunksize=(40, 216, 880, 960)>\n",
      "    SIarea      (time, Y, X) float64 dask.array<shape=(1464, 880, 960), chunksize=(40, 880, 960)>\n",
      "    SIheff      (time, Y, X) float64 dask.array<shape=(1464, 880, 960), chunksize=(40, 880, 960)>\n",
      "    SIhsnow     (time, Y, X) float64 dask.array<shape=(1464, 880, 960), chunksize=(40, 880, 960)>\n",
      "    SIhsalt     (time, Y, X) float64 dask.array<shape=(1464, 880, 960), chunksize=(40, 880, 960)>\n",
      "    SIuice      (time, Y, Xp1) float64 dask.array<shape=(1464, 880, 961), chunksize=(40, 880, 961)>\n",
      "    SIvice      (time, Yp1, X) float64 dask.array<shape=(1464, 881, 960), chunksize=(40, 881, 960)>\n",
      "    KPPviscAz   (time, Z, Y, X) float64 dask.array<shape=(1464, 216, 880, 960), chunksize=(68, 216, 880, 960)>\n",
      "    KPPdiffKzT  (time, Z, Y, X) float64 dask.array<shape=(1464, 216, 880, 960), chunksize=(68, 216, 880, 960)>\n",
      "    KPPdiffKzS  (time, Z, Y, X) float64 dask.array<shape=(1464, 216, 880, 960), chunksize=(68, 216, 880, 960)>\n",
      "    KPPGHAT     (time, Z, Y, X) float64 dask.array<shape=(1464, 216, 880, 960), chunksize=(68, 216, 880, 960)>\n",
      "    KPPHBL      (time, Y, X) float64 dask.array<shape=(1464, 880, 960), chunksize=(68, 880, 960)>\n",
      "    momVort3    (time, Z, Yp1, Xp1) float64 dask.array<shape=(1464, 216, 881, 961), chunksize=(40, 216, 881, 961)>\n",
      "    oceTAUX     (time, Y, Xp1) float64 dask.array<shape=(1464, 880, 961), chunksize=(40, 880, 961)>\n",
      "    oceTAUY     (time, Yp1, X) float64 dask.array<shape=(1464, 881, 960), chunksize=(40, 881, 960)>\n",
      "    oceFWflx    (time, Y, X) float64 dask.array<shape=(1464, 880, 960), chunksize=(40, 880, 960)>\n",
      "    oceSflux    (time, Y, X) float64 dask.array<shape=(1464, 880, 960), chunksize=(40, 880, 960)>\n",
      "    oceQnet     (time, Y, X) float64 dask.array<shape=(1464, 880, 960), chunksize=(40, 880, 960)>\n",
      "    oceQsw      (time, Y, X) float64 dask.array<shape=(1464, 880, 960), chunksize=(40, 880, 960)>\n",
      "    oceFreez    (time, Y, X) float64 dask.array<shape=(1464, 880, 960), chunksize=(40, 880, 960)>\n",
      "    oceSPflx    (time, Y, X) float64 dask.array<shape=(1464, 880, 960), chunksize=(40, 880, 960)>\n",
      "    oceSPDep    (time, Y, X) float64 dask.array<shape=(1464, 880, 960), chunksize=(40, 880, 960)>\n",
      "    phiHyd      (time, Z, Y, X) float64 dask.array<shape=(1464, 216, 880, 960), chunksize=(40, 216, 880, 960)>\n",
      "    phiHydLow   (time, Y, X) float64 dask.array<shape=(1464, 880, 960), chunksize=(40, 880, 960)>\n",
      "    Eta         (time, Y, X) float64 dask.array<shape=(1464, 880, 960), chunksize=(40, 880, 960)>\n",
      "    S           (time, Z, Y, X) float64 dask.array<shape=(1464, 216, 880, 960), chunksize=(40, 216, 880, 960)>\n",
      "    Temp        (time, Z, Y, X) float64 dask.array<shape=(1464, 216, 880, 960), chunksize=(40, 216, 880, 960)>\n",
      "    U           (time, Z, Y, Xp1) float64 dask.array<shape=(1464, 216, 880, 961), chunksize=(40, 216, 880, 961)>\n",
      "    V           (time, Z, Yp1, X) float64 dask.array<shape=(1464, 216, 881, 960), chunksize=(40, 216, 881, 960)>\n",
      "    W           (time, Zl, Y, X) float64 dask.array<shape=(1464, 216, 880, 960), chunksize=(40, 216, 880, 960)>\n",
      "    surForcT    (time, Y, X) float64 dask.array<shape=(1464, 880, 960), chunksize=(40, 880, 960)>\n",
      "    surForcS    (time, Y, X) float64 dask.array<shape=(1464, 880, 960), chunksize=(40, 880, 960)>\n",
      "\n",
      "\n",
      "This class contains information that will be used by OceanSpy\n",
      " <oceanspy.open_dataset._info>\n",
      "* name: exp_ASR\n",
      "* grid: True\n",
      "* Other info: parameters\n",
      "              var_names\n"
     ]
    }
   ],
   "source": [
    "ds, info = ospy.open_dataset.exp_ASR()\n",
    "print('\\n\\nThis is a dataset:\\n',ds)\n",
    "print('\\n\\nThis class contains information that will be used by OceanSpy\\n',info)"
   ]
  },
  {
   "cell_type": "markdown",
   "metadata": {},
   "source": [
    "Visualize\n",
    "----------\n",
    "Run ``ospy.visualize.interactive()`` to plot ``ds``. OceanSpy will print several information, and a GUI allows to change some parameters, such as time and vertical levels. You can also zoom in, and save any plots.  \n",
    "NOTE: The whole dataset is big and OceanSpy's response might be slow (especially 3D variables)."
   ]
  },
  {
   "cell_type": "code",
   "execution_count": 3,
   "metadata": {},
   "outputs": [
    {
     "name": "stdout",
     "output_type": "stream",
     "text": [
      "description : r cell center separation\n",
      "\n",
      "Dimension : Zp1\n",
      "      units : meters\n",
      "      long_name : vertical coordinate of cell interface\n",
      "      positive : up\n",
      "      axis : Z\n",
      "      c_grid_axis_shift : -0.5\n"
     ]
    },
    {
     "data": {
      "application/javascript": [
       "\n",
       "// Ugly hack - see #2574 for more information\n",
       "if (!(document.getElementById('76b24fcc-2f68-458f-97e9-5c51e582b3ac')) && !(document.getElementById('_anim_imgNone'))) {\n",
       "  console.log(\"Creating DOM nodes dynamically for assumed nbconvert export. To generate clean HTML output set HV_DOC_HTML as an environment variable.\")\n",
       "  var htmlObject = document.createElement('div');\n",
       "  htmlObject.innerHTML = `<div id='76b24fcc-2f68-458f-97e9-5c51e582b3ac' style='display: table; margin: 0 auto;'>\n",
       "\n",
       "\n",
       "\n",
       "\n",
       "\n",
       "  <div class=\"bk-root\" id=\"9a946384-43e1-4282-a724-c3f7fcfa2677\"></div>\n",
       "</div>`;\n",
       "  var scriptTags = document.getElementsByTagName('script');\n",
       "  var parentTag = scriptTags[scriptTags.length-1].parentNode;\n",
       "  parentTag.append(htmlObject)\n",
       "}\n",
       "(function(root) {\n",
       "  function embed_document(root) {\n",
       "    \n",
       "  var docs_json = {\"ddcd9852-332b-4b2a-869a-9ab07cf4d77e\":{\"roots\":{\"references\":[{\"attributes\":{\"active_drag\":\"auto\",\"active_inspect\":\"auto\",\"active_multi\":null,\"active_scroll\":\"auto\",\"active_tap\":\"auto\",\"tools\":[{\"id\":\"373c6a9e-1df6-4e2e-8f88-136b146468f5\",\"type\":\"HoverTool\"},{\"id\":\"0cdd597d-493f-4121-b236-9979d1f7832e\",\"type\":\"SaveTool\"},{\"id\":\"0aafc532-5585-4c22-bdd6-e7a253251c8e\",\"type\":\"PanTool\"},{\"id\":\"c8a3839e-65ec-4a45-a733-58977c5f2bdd\",\"type\":\"WheelZoomTool\"},{\"id\":\"2882ea99-9637-4f97-951d-55f59c51d5f5\",\"type\":\"BoxZoomTool\"},{\"id\":\"25712665-6f5a-4f87-842f-0b159906f525\",\"type\":\"ResetTool\"}]},\"id\":\"cca6b01d-b32d-457d-ac96-f857a65493b2\",\"type\":\"Toolbar\"},{\"attributes\":{},\"id\":\"1d86cb5b-6fbf-49fa-b359-d25bc4207464\",\"type\":\"BasicTickFormatter\"},{\"attributes\":{\"source\":{\"id\":\"01c371b2-df9b-48f8-bcb1-4d483ac28f6b\",\"type\":\"ColumnDataSource\"}},\"id\":\"bb1fb74b-934b-4f21-82ee-df4798201f92\",\"type\":\"CDSView\"},{\"attributes\":{\"dimension\":1,\"grid_line_color\":{\"value\":null},\"plot\":{\"id\":\"76b24fcc-2f68-458f-97e9-5c51e582b3ac\",\"subtype\":\"Figure\",\"type\":\"Plot\"},\"ticker\":{\"id\":\"0ea1be90-b1cc-4ee2-b699-2a9198000afa\",\"type\":\"BasicTicker\"}},\"id\":\"28bdee80-2b31-45c1-988b-dc2fcddb136e\",\"type\":\"Grid\"},{\"attributes\":{},\"id\":\"25712665-6f5a-4f87-842f-0b159906f525\",\"type\":\"ResetTool\"},{\"attributes\":{\"line_alpha\":0.1,\"line_color\":\"#1f77b4\",\"line_width\":2,\"x\":{\"field\":\"drC\"},\"y\":{\"field\":\"Zp1\"}},\"id\":\"67cfda1f-a801-4c3e-8537-e69b759b56f5\",\"type\":\"Line\"},{\"attributes\":{\"axis_label\":\"Zp1\",\"bounds\":\"auto\",\"formatter\":{\"id\":\"520f24ca-ed5a-4b45-a78d-4ec3c675d8a0\",\"type\":\"BasicTickFormatter\"},\"major_label_orientation\":\"horizontal\",\"plot\":{\"id\":\"76b24fcc-2f68-458f-97e9-5c51e582b3ac\",\"subtype\":\"Figure\",\"type\":\"Plot\"},\"ticker\":{\"id\":\"0ea1be90-b1cc-4ee2-b699-2a9198000afa\",\"type\":\"BasicTicker\"}},\"id\":\"d8876a38-cb28-4155-bed5-aceac023550a\",\"type\":\"LinearAxis\"},{\"attributes\":{\"line_color\":\"#1f77b4\",\"line_width\":2,\"x\":{\"field\":\"drC\"},\"y\":{\"field\":\"Zp1\"}},\"id\":\"119ed38b-44bf-4c19-a0d6-b7b62381a544\",\"type\":\"Line\"},{\"attributes\":{\"below\":[{\"id\":\"9bf1a34f-bd7f-42d0-82b3-48bf9f9bec95\",\"type\":\"LinearAxis\"}],\"left\":[{\"id\":\"d8876a38-cb28-4155-bed5-aceac023550a\",\"type\":\"LinearAxis\"}],\"min_border_bottom\":10,\"min_border_left\":10,\"min_border_right\":10,\"min_border_top\":10,\"plot_height\":300,\"plot_width\":700,\"renderers\":[{\"id\":\"9bf1a34f-bd7f-42d0-82b3-48bf9f9bec95\",\"type\":\"LinearAxis\"},{\"id\":\"cdeeab96-6e91-49f7-aecc-61a591b608ab\",\"type\":\"Grid\"},{\"id\":\"d8876a38-cb28-4155-bed5-aceac023550a\",\"type\":\"LinearAxis\"},{\"id\":\"28bdee80-2b31-45c1-988b-dc2fcddb136e\",\"type\":\"Grid\"},{\"id\":\"91051736-78de-492a-a76d-4b069e826f8d\",\"type\":\"BoxAnnotation\"},{\"id\":\"90dacb29-9893-42fe-a65f-3fb7c245c17c\",\"type\":\"GlyphRenderer\"}],\"title\":{\"id\":\"850813bb-5080-4575-93cf-929a1d0f725a\",\"type\":\"Title\"},\"toolbar\":{\"id\":\"cca6b01d-b32d-457d-ac96-f857a65493b2\",\"type\":\"Toolbar\"},\"x_range\":{\"id\":\"27e72274-3350-4cd7-8e1d-a9a1d066027e\",\"type\":\"Range1d\"},\"x_scale\":{\"id\":\"9279b460-97ee-4a15-98e1-c4dc905fd87c\",\"type\":\"LinearScale\"},\"y_range\":{\"id\":\"11cc1255-64ba-4b0b-9631-3712f696d1d2\",\"type\":\"Range1d\"},\"y_scale\":{\"id\":\"30497924-d422-4a39-b880-8a7f421a451f\",\"type\":\"LinearScale\"}},\"id\":\"76b24fcc-2f68-458f-97e9-5c51e582b3ac\",\"subtype\":\"Figure\",\"type\":\"Plot\"},{\"attributes\":{\"plot\":null,\"text\":\"\",\"text_color\":{\"value\":\"black\"},\"text_font_size\":{\"value\":\"12pt\"}},\"id\":\"850813bb-5080-4575-93cf-929a1d0f725a\",\"type\":\"Title\"},{\"attributes\":{},\"id\":\"0ea1be90-b1cc-4ee2-b699-2a9198000afa\",\"type\":\"BasicTicker\"},{\"attributes\":{},\"id\":\"c8a3839e-65ec-4a45-a733-58977c5f2bdd\",\"type\":\"WheelZoomTool\"},{\"attributes\":{\"overlay\":{\"id\":\"91051736-78de-492a-a76d-4b069e826f8d\",\"type\":\"BoxAnnotation\"}},\"id\":\"2882ea99-9637-4f97-951d-55f59c51d5f5\",\"type\":\"BoxZoomTool\"},{\"attributes\":{},\"id\":\"5bf4ac74-961f-44ef-b2fe-ac3702aa2075\",\"type\":\"BasicTicker\"},{\"attributes\":{\"callback\":null,\"end\":0.0,\"reset_end\":0.0,\"reset_start\":-3149.0,\"start\":-3149.0},\"id\":\"11cc1255-64ba-4b0b-9631-3712f696d1d2\",\"type\":\"Range1d\"},{\"attributes\":{},\"id\":\"70aedaaa-6558-406f-8aeb-91f3bb319524\",\"type\":\"UnionRenderers\"},{\"attributes\":{\"data_source\":{\"id\":\"01c371b2-df9b-48f8-bcb1-4d483ac28f6b\",\"type\":\"ColumnDataSource\"},\"glyph\":{\"id\":\"119ed38b-44bf-4c19-a0d6-b7b62381a544\",\"type\":\"Line\"},\"hover_glyph\":null,\"muted_glyph\":{\"id\":\"7862642a-9b4c-4320-a4d0-5387898b18a9\",\"type\":\"Line\"},\"nonselection_glyph\":{\"id\":\"67cfda1f-a801-4c3e-8537-e69b759b56f5\",\"type\":\"Line\"},\"selection_glyph\":null,\"view\":{\"id\":\"bb1fb74b-934b-4f21-82ee-df4798201f92\",\"type\":\"CDSView\"}},\"id\":\"90dacb29-9893-42fe-a65f-3fb7c245c17c\",\"type\":\"GlyphRenderer\"},{\"attributes\":{},\"id\":\"520f24ca-ed5a-4b45-a78d-4ec3c675d8a0\",\"type\":\"BasicTickFormatter\"},{\"attributes\":{\"grid_line_color\":{\"value\":null},\"plot\":{\"id\":\"76b24fcc-2f68-458f-97e9-5c51e582b3ac\",\"subtype\":\"Figure\",\"type\":\"Plot\"},\"ticker\":{\"id\":\"5bf4ac74-961f-44ef-b2fe-ac3702aa2075\",\"type\":\"BasicTicker\"}},\"id\":\"cdeeab96-6e91-49f7-aecc-61a591b608ab\",\"type\":\"Grid\"},{\"attributes\":{},\"id\":\"0aafc532-5585-4c22-bdd6-e7a253251c8e\",\"type\":\"PanTool\"},{\"attributes\":{},\"id\":\"30497924-d422-4a39-b880-8a7f421a451f\",\"type\":\"LinearScale\"},{\"attributes\":{\"callback\":null,\"data\":{\"Zp1\":{\"__ndarray__\":\"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\",\"dtype\":\"float64\",\"shape\":[217]},\"drC\":{\"__ndarray__\":\"AAAAAAAA8L8AAAAAAAAEwAAAAAAAAAzAAAAAAAAAEsAAAAAAAAAWwAAAAAAAABrAAAAAAAAAHsAAAAAAAAAhwAAAAAAAACPAAAAAAAAAJcAAAAAAAAAnwAAAAAAAACnAAAAAAAAAK8AAAAAAAAAtwAAAAAAAAC7AAAAAAAAALsAAAAAAAAAuwAAAAAAAAC7AAAAAAAAALsAAAAAAAAAuwAAAAAAAAC7AAAAAAAAALsAAAAAAAAAuwAAAAAAAAC7AAAAAAAAALsAAAAAAAAAuwAAAAAAAAC7AAAAAAAAALsAAAAAAAAAuwAAAAAAAAC7AAAAAAAAALsAAAAAAAAAuwAAAAAAAAC7AAAAAAAAALsAAAAAAAAAuwAAAAAAAAC7AAAAAAAAALsAAAAAAAAAuwAAAAAAAAC7AAAAAAAAALsAAAAAAAAAuwAAAAAAAAC7AAAAAAAAALsAAAAAAAAAuwAAAAAAAAC7AAAAAAAAALsAAAAAAAAAuwAAAAAAAAC7AAAAAAAAALsAAAAAAAAAuwAAAAAAAAC7AAAAAAAAALsAAAAAAAAAuwAAAAAAAAC7AAAAAAAAALsAAAAAAAAAuwAAAAAAAAC7AAAAAAAAALsAAAAAAAAAuwAAAAAAAAC7AAAAAAAAALsAAAAAAAAAuwAAAAAAAAC7AAAAAAAAALsAAAAAAAAAuwAAAAAAAAC7AAAAAAAAALsAAAAAAAAAuwAAAAAAAAC7AAAAAAAAALsAAAAAAAAAuwAAAAAAAAC7AAAAAAAAALsAAAAAAAAAuwAAAAAAAAC7AAAAAAAAALsAAAAAAAAAuwAAAAAAAAC7AAAAAAAAALsAAAAAAAAAuwAAAAAAAAC7AAAAAAAAALsAAAAAAAAAuwAAAAAAAAC7AAAAAAAAALsAAAAAAAAAuwAAAAAAAAC7AAAAAAAAALsAAAAAAAAAuwAAAAAAAAC7AAAAAAAAALsAAAAAAAAAuwAAAAAAAAC7AAAAAAAAALsAAAAAAAAAuwAAAAAAAAC7AAAAAAAAALsAAAAAAAAAuwAAAAAAAAC7AAAAAAAAALsAAAAAAAAAuwAAAAAAAAC7AAAAAAAAALsAAAAAAAAAuwAAAAAAAAC7AAAAAAAAALsAAAAAAAAAuwAAAAAAAAC7AAAAAAAAALsAAAAAAAAAuwAAAAAAAAC7AAAAAAAAALsAAAAAAAAAuwAAAAAAAAC7AAAAAAAAALsAAAAAAAAAuwAAAAAAAAC7AAAAAAAAALsAAAAAAAAAuwAAAAAAAAC7AAAAAAAAALsAAAAAAAAAuwAAAAAAAAC7AAAAAAAAALsAAAAAAAAAuwAAAAAAAAC7AAAAAAAAALsAAAAAAAAAuwAAAAAAAAC7AAAAAAAAALsAAAAAAAAAuwAAAAAAAAC7AAAAAAAAALsAAAAAAAAAuwAAAAAAAAC7AAAAAAAAALsAAAAAAAAAuwAAAAAAAAC7AAAAAAAAALsAAAAAAAAAuwAAAAAAAAC7AAAAAAAAALsAAAAAAAAAuwAAAAAAAAC7AAAAAAAAALsAAAAAAAAAuwAAAAAAAAC7AAAAAAAAALsAAAAAAAAAuwAAAAAAAAC7AAAAAAAAALsAAAAAAAAAuwAAAAAAAAC7AAAAAAAAALsAAAAAAAAAuwAAAAAAAAC7AAAAAAAAALsAAAAAAAAAuwAAAAAAAAC7AAAAAAAAALsAAAAAAAAAuwAAAAAAAAC7AAAAAAAAALsAAAAAAAAAuwAAAAAAAAC7AAAAAAAAALsAAAAAAAAAuwAAAAAAAAC7AAAAAAAAALsAAAAAAAAAuwAAAAAAAAC7AAAAAAAAALsAAAAAAAAAuwAAAAAAAAC7AAAAAAAAALsAAAAAAAAAuwAAAAAAAAC7AAAAAAAAALsAAAAAAAAAuwAAAAAAAAC7AAAAAAAAALsAAAAAAAAAuwAAAAAAAAC7AAAAAAAAALsAAAAAAAAAuwAAAAAAAAC7AAAAAAAAALsAAAAAAAAAuwAAAAAAAAC7AAAAAAAAALsAAAAAAAAAuwAAAAAAAAC7AAAAAAAAALsAAAAAAAAAuwAAAAAAAAC7AAAAAAAAALsAAAAAAAAAuwAAAAAAAAC7AAAAAAAAALsAAAAAAAAAuwAAAAAAAAC7AAAAAAAAALsAAAAAAAAAuwAAAAAAAAC7AAAAAAAAALsAAAAAAAAAuwAAAAAAAAC7AAAAAAAAALsAAAAAAAAAuwAAAAAAAAC7AAAAAAAAALsAAAAAAAAAuwAAAAAAAAC7AAAAAAAAALsAAAAAAAAAuwAAAAAAAAC7AAAAAAAAAHsA=\",\"dtype\":\"float64\",\"shape\":[217]}},\"selected\":{\"id\":\"39bf1877-40dc-4720-82c5-145750f51b28\",\"type\":\"Selection\"},\"selection_policy\":{\"id\":\"70aedaaa-6558-406f-8aeb-91f3bb319524\",\"type\":\"UnionRenderers\"}},\"id\":\"01c371b2-df9b-48f8-bcb1-4d483ac28f6b\",\"type\":\"ColumnDataSource\"},{\"attributes\":{\"line_alpha\":0.2,\"line_color\":\"#1f77b4\",\"line_width\":2,\"x\":{\"field\":\"drC\"},\"y\":{\"field\":\"Zp1\"}},\"id\":\"7862642a-9b4c-4320-a4d0-5387898b18a9\",\"type\":\"Line\"},{\"attributes\":{\"callback\":null,\"renderers\":[{\"id\":\"90dacb29-9893-42fe-a65f-3fb7c245c17c\",\"type\":\"GlyphRenderer\"}],\"tooltips\":[[\"Zp1\",\"@{Zp1}\"],[\"drC\",\"@{drC}\"]]},\"id\":\"373c6a9e-1df6-4e2e-8f88-136b146468f5\",\"type\":\"HoverTool\"},{\"attributes\":{},\"id\":\"0cdd597d-493f-4121-b236-9979d1f7832e\",\"type\":\"SaveTool\"},{\"attributes\":{\"axis_label\":\"drC\",\"bounds\":\"auto\",\"formatter\":{\"id\":\"1d86cb5b-6fbf-49fa-b359-d25bc4207464\",\"type\":\"BasicTickFormatter\"},\"major_label_orientation\":\"horizontal\",\"plot\":{\"id\":\"76b24fcc-2f68-458f-97e9-5c51e582b3ac\",\"subtype\":\"Figure\",\"type\":\"Plot\"},\"ticker\":{\"id\":\"5bf4ac74-961f-44ef-b2fe-ac3702aa2075\",\"type\":\"BasicTicker\"}},\"id\":\"9bf1a34f-bd7f-42d0-82b3-48bf9f9bec95\",\"type\":\"LinearAxis\"},{\"attributes\":{},\"id\":\"39bf1877-40dc-4720-82c5-145750f51b28\",\"type\":\"Selection\"},{\"attributes\":{\"bottom_units\":\"screen\",\"fill_alpha\":{\"value\":0.5},\"fill_color\":{\"value\":\"lightgrey\"},\"left_units\":\"screen\",\"level\":\"overlay\",\"line_alpha\":{\"value\":1.0},\"line_color\":{\"value\":\"black\"},\"line_dash\":[4,4],\"line_width\":{\"value\":2},\"plot\":null,\"render_mode\":\"css\",\"right_units\":\"screen\",\"top_units\":\"screen\"},\"id\":\"91051736-78de-492a-a76d-4b069e826f8d\",\"type\":\"BoxAnnotation\"},{\"attributes\":{},\"id\":\"9279b460-97ee-4a15-98e1-c4dc905fd87c\",\"type\":\"LinearScale\"},{\"attributes\":{\"callback\":null,\"end\":-1.0,\"reset_end\":-1.0,\"reset_start\":-15.0,\"start\":-15.0},\"id\":\"27e72274-3350-4cd7-8e1d-a9a1d066027e\",\"type\":\"Range1d\"}],\"root_ids\":[\"76b24fcc-2f68-458f-97e9-5c51e582b3ac\"]},\"title\":\"Bokeh Application\",\"version\":\"0.13.0\"}};\n",
       "  var render_items = [{\"docid\":\"ddcd9852-332b-4b2a-869a-9ab07cf4d77e\",\"roots\":{\"76b24fcc-2f68-458f-97e9-5c51e582b3ac\":\"9a946384-43e1-4282-a724-c3f7fcfa2677\"}}];\n",
       "  root.Bokeh.embed.embed_items_notebook(docs_json, render_items);\n",
       "\n",
       "  }\n",
       "  if (root.Bokeh !== undefined) {\n",
       "    embed_document(root);\n",
       "  } else {\n",
       "    var attempts = 0;\n",
       "    var timer = setInterval(function(root) {\n",
       "      if (root.Bokeh !== undefined) {\n",
       "        embed_document(root);\n",
       "        clearInterval(timer);\n",
       "      }\n",
       "      attempts++;\n",
       "      if (attempts > 100) {\n",
       "        console.log(\"Bokeh: ERROR: Unable to run BokehJS code because BokehJS library is missing\")\n",
       "        clearInterval(timer);\n",
       "      }\n",
       "    }, 10, root)\n",
       "  }\n",
       "})(window);"
      ],
      "application/vnd.holoviews_exec.v0+json": "",
      "text/html": [
       "<div id='76b24fcc-2f68-458f-97e9-5c51e582b3ac' style='display: table; margin: 0 auto;'>\n",
       "\n",
       "\n",
       "\n",
       "\n",
       "\n",
       "  <div class=\"bk-root\" id=\"9a946384-43e1-4282-a724-c3f7fcfa2677\"></div>\n",
       "</div>"
      ],
      "text/plain": [
       ":Curve   [Zp1]   (drC)"
      ]
     },
     "metadata": {
      "application/vnd.holoviews_exec.v0+json": {
       "id": "76b24fcc-2f68-458f-97e9-5c51e582b3ac"
      }
     },
     "output_type": "display_data"
    }
   ],
   "source": [
    "_ = ospy.visualize.interactive(ds, info)"
   ]
  },
  {
   "cell_type": "markdown",
   "metadata": {},
   "source": [
    "![alt](images/tutorial_ds.png)"
   ]
  },
  {
   "cell_type": "markdown",
   "metadata": {},
   "source": [
    "You can produce customized plot using ``hvplot_kwargs``, or you can make your own plots from scratch using [xarray plot()](http://xarray.pydata.org/en/stable/plotting.html), [matplotlib](https://matplotlib.org/), and [cartopy](https://scitools.org.uk/cartopy/docs/latest/)."
   ]
  },
  {
   "cell_type": "code",
   "execution_count": 4,
   "metadata": {},
   "outputs": [
    {
     "name": "stdout",
     "output_type": "stream",
     "text": [
      "Help on function interactive in module oceanspy.visualize:\n",
      "\n",
      "interactive(dsORda, info, hvplot_kwargs={})\n",
      "    GUI for plotting data interactively using hvPlot.\n",
      "    Plot maps using Orthographic projection, \n",
      "    and recognize vertical sections/profiles\n",
      "    \n",
      "    Parameters\n",
      "    ----------\n",
      "    dsORda: xarray.Dataset or xarray.DataArray\n",
      "    info: oceanspy.open_dataset._info\n",
      "    hvplot_kwargs: dict\n",
      "        Keyword arguments for hvPlot: https://hvplot.pyviz.org/user_guide/index.html\n",
      "    \n",
      "    Returns\n",
      "    -------\n",
      "    GUI\n",
      "\n"
     ]
    }
   ],
   "source": [
    "help(ospy.visualize.interactive)"
   ]
  },
  {
   "cell_type": "markdown",
   "metadata": {},
   "source": [
    "Subsample\n",
    "----------"
   ]
  },
  {
   "cell_type": "markdown",
   "metadata": {},
   "source": [
    "### Cutout\n",
    "It is better to work with subsample when possible.\n",
    "Run ``ospy.subsample.cutout()`` to reduce the dataset. Check the documentation to learn more about available options.  \n",
    "NOTE: most of the functions affect the original ``ds`` and ``info``. If you are planning to use the input variables in the future, set ``deep_copy=True`` (it takes a few seconds), otherwise use ``deep_copy=False`` (default) to save time. Check out the differences between the original dataset and the cutout (e.g., print and plot ``ds`` and ``ds_cut``).  "
   ]
  },
  {
   "cell_type": "code",
   "execution_count": 5,
   "metadata": {},
   "outputs": [
    {
     "name": "stdout",
     "output_type": "stream",
     "text": [
      "Copying ds and info\n",
      "Cutting out\n",
      "Resampling timeseries\n"
     ]
    },
    {
     "data": {
      "text/plain": [
       "<xarray.Dataset>\n",
       "Dimensions:  (X: 677, Xp1: 678, Y: 575, Yp1: 576, Z: 12, Zl: 12, Zp1: 13, Zu: 12, time: 30)\n",
       "Coordinates:\n",
       "  * X        (X) float64 -39.97 -39.92 -39.88 -39.83 -39.79 -39.75 -39.7 ...\n",
       "  * Y        (Y) float64 60.01 60.03 60.05 60.07 60.09 60.11 60.13 60.14 ...\n",
       "  * Z        (Z) float64 -1.0 -3.5 -7.0 -11.5 -17.0 -23.5 -31.0 -39.5 -49.0 ...\n",
       "  * Zp1      (Zp1) float64 0.0 -2.0 -5.0 -9.0 -14.0 -20.0 -27.0 -35.0 -44.0 ...\n",
       "  * Zu       (Zu) float64 -2.0 -5.0 -9.0 -14.0 -20.0 -27.0 -35.0 -44.0 -54.0 ...\n",
       "  * Zl       (Zl) float64 0.0 -2.0 -5.0 -9.0 -14.0 -20.0 -27.0 -35.0 -44.0 ...\n",
       "  * Xp1      (Xp1) float64 -39.99 -39.94 -39.9 -39.86 -39.81 -39.77 -39.72 ...\n",
       "  * Yp1      (Yp1) float64 60.0 60.02 60.04 60.06 60.08 60.1 60.12 60.14 ...\n",
       "  * time     (time) datetime64[ns] 2007-09-01 2007-09-02 2007-09-03 ...\n",
       "Data variables:\n",
       "    Depth    (Y, X) float64 2.514e+03 2.519e+03 2.532e+03 2.546e+03 ...\n",
       "    Eta      (time, Y, X) float64 dask.array<shape=(30, 575, 677), chunksize=(1, 575, 677)>"
      ]
     },
     "execution_count": 5,
     "metadata": {},
     "output_type": "execute_result"
    }
   ],
   "source": [
    "ds_cut, info_cut = ospy.subsample.cutout(ds,\n",
    "                                         info,\n",
    "                                         varList    = ['Eta', 'Depth'],\n",
    "                                         latRange   = [60,  71],\n",
    "                                         lonRange   = [-40, -10],\n",
    "                                         depthRange = [0, -100],\n",
    "                                         timeRange  = ['2007-09-01T00', '2007-09-30T18'],\n",
    "                                         timeFreq   = '1D',\n",
    "                                         sampMethod = 'mean',\n",
    "                                         deep_copy  = True)\n",
    "ds_cut"
   ]
  },
  {
   "cell_type": "markdown",
   "metadata": {},
   "source": [
    "### Save\n",
    "\n",
    "``ds`` and ``info`` can be saved at any time (NetCDF format for ``ds``, object format for ``info``) to create checkpoints, or to download data. For example, use ``ds_cut`` and ``info_cut`` to create a checkpoint. This cutout is quite small, and you can store it in your ``Storage`` directory. Take a look at this [Important Information about Compute Container File Storage](https://apps.sciserver.org/compute/)."
   ]
  },
  {
   "cell_type": "code",
   "execution_count": 6,
   "metadata": {},
   "outputs": [
    {
     "name": "stdout",
     "output_type": "stream",
     "text": [
      "Saving ds to ./tmp/checkpoint.nc\n"
     ]
    },
    {
     "name": "stderr",
     "output_type": "stream",
     "text": [
      "/home/idies/miniconda3/lib/python3.6/site-packages/dask/array/numpy_compat.py:28: RuntimeWarning: invalid value encountered in true_divide\n",
      "  x = np.divide(x1, x2, out)\n"
     ]
    },
    {
     "name": "stdout",
     "output_type": "stream",
     "text": [
      "Saving info to ./tmp/checkpoint.obj\n",
      "Opening ds from ./tmp/checkpoint.nc\n",
      "Opening info from ./tmp/checkpoint.obj\n"
     ]
    }
   ],
   "source": [
    "path = './tmp/checkpoint'\n",
    "ospy.utils.save_ds_info(ds_cut, info_cut, path)\n",
    "ds_cut, info_cut = ospy.utils.open_ds_info(path)"
   ]
  },
  {
   "cell_type": "markdown",
   "metadata": {},
   "source": [
    "Compute\n",
    "--------\n",
    "``ospy.compute`` includes several functions and algorithms that add new variables to the dataset. ``ds`` and ``info`` are always input and output of these function, and the ``deep_copy`` option is always available. Here is the list of functions, and their descriptions:"
   ]
  },
  {
   "cell_type": "code",
   "execution_count": 7,
   "metadata": {},
   "outputs": [
    {
     "name": "stdout",
     "output_type": "stream",
     "text": [
      "Help on module oceanspy.compute in oceanspy:\n",
      "\n",
      "NAME\n",
      "    oceanspy.compute - Compute: add new variables to the dataset\n",
      "\n",
      "FUNCTIONS\n",
      "    EKE(ds, info, deep_copy=False)\n",
      "        Compute Eddy Kinetic Energy and add to dataset.\n",
      "        http://mitgcm.readthedocs.io/en/latest/algorithm/algorithm.html#kinetic-energy\n",
      "        Note: non-hydrostatic term is omitted (\\epsilon_{nh}=0)\n",
      "        \n",
      "        Parameters\n",
      "        ----------\n",
      "        ds: xarray.Dataset\n",
      "        info: oceanspy.open_dataset._info\n",
      "        deep_copy: bool\n",
      "            If True, deep copy ds and infod\n",
      "        \n",
      "        Returns\n",
      "        -------\n",
      "        ds: xarray.Dataset \n",
      "        info: oceanspy.open_dataset._info\n",
      "    \n",
      "    Ertel_PV(ds, info, deep_copy=False)\n",
      "        Compute Ertel Potential Vorticity and add to dataset.\n",
      "        Eq. 2.2 in OC3D, Klinger and Haine, 2018.\n",
      "        \n",
      "        Parameters\n",
      "        ----------\n",
      "        ds: xarray.Dataset\n",
      "        info: oceanspy.open_dataset._info\n",
      "        deep_copy: bool\n",
      "            If True, deep copy ds and infod\n",
      "        \n",
      "        Returns\n",
      "        -------\n",
      "        ds: xarray.Dataset \n",
      "        info: oceanspy.open_dataset._info\n",
      "    \n",
      "    KE(ds, info, deep_copy=False)\n",
      "        Compute Kinetic Energy and add to dataset.\n",
      "        http://mitgcm.readthedocs.io/en/latest/algorithm/algorithm.html#kinetic-energy\n",
      "        Note: non-hydrostatic term is omitted (\\epsilon_{nh}=0)\n",
      "        \n",
      "        Parameters\n",
      "        ----------\n",
      "        ds: xarray.Dataset\n",
      "        info: oceanspy.open_dataset._info\n",
      "        deep_copy: bool\n",
      "            If True, deep copy ds and infod\n",
      "        \n",
      "        Returns\n",
      "        -------\n",
      "        ds: xarray.Dataset \n",
      "        info: oceanspy.open_dataset._info\n",
      "    \n",
      "    N2(ds, info, deep_copy=False)\n",
      "        Compute Brunt-Väisälä Frequency and add to dataset.\n",
      "        -(g/rho0)(dSigma0/dZ)\n",
      "        \n",
      "        Parameters\n",
      "        ----------\n",
      "        ds: xarray.Dataset\n",
      "        info: oceanspy.open_dataset._info\n",
      "        deep_copy: bool\n",
      "            If True, deep copy ds and infod\n",
      "        \n",
      "        Returns\n",
      "        -------\n",
      "        ds: xarray.Dataset \n",
      "        info: oceanspy.open_dataset._info\n",
      "    \n",
      "    Sigma0(ds, info, deep_copy=False)\n",
      "        Compute potential density anomaly and add to dataset.\n",
      "        \n",
      "        Parameters\n",
      "        ----------\n",
      "        ds: xarray.Dataset\n",
      "        info: oceanspy.open_dataset._info\n",
      "        deep_copy: bool\n",
      "            If True, deep copy ds and infod\n",
      "        \n",
      "        Returns\n",
      "        -------\n",
      "        ds: xarray.Dataset \n",
      "        info: oceanspy.open_dataset._info\n",
      "        \n",
      "        REFERENCES\n",
      "        ----------\n",
      "        .. [1] Jackett and McDougall, 1995 https://doi.org/10.1175/1520-0426(1995)012<0381:MAOHPT>2.0.CO;2\n",
      "    \n",
      "    momVort1(ds, info, deep_copy=False)\n",
      "        Compute 1st component of Vorticity and add to dataset.\n",
      "        dW/dY - dV/dZ\n",
      "        Use the same discretization of the 3rd component:\n",
      "        http://mitgcm.readthedocs.io/en/latest/algorithm/algorithm.html#relative-vorticity\n",
      "        \n",
      "        Parameters\n",
      "        ----------\n",
      "        ds: xarray.Dataset\n",
      "        info: oceanspy.open_dataset._info\n",
      "        deep_copy: bool\n",
      "            If True, deep copy ds and infod\n",
      "        \n",
      "        Returns\n",
      "        -------\n",
      "        ds: xarray.Dataset \n",
      "        info: oceanspy.open_dataset._info\n",
      "    \n",
      "    momVort2(ds, info, deep_copy=False)\n",
      "        Compute 2nd component of Vorticity and add to dataset.\n",
      "        dU/dZ - dW/dX\n",
      "        Use the same discretization of the 3rd component:\n",
      "        http://mitgcm.readthedocs.io/en/latest/algorithm/algorithm.html#relative-vorticity\n",
      "        \n",
      "        Parameters\n",
      "        ----------\n",
      "        ds: xarray.Dataset\n",
      "        info: oceanspy.open_dataset._info\n",
      "        deep_copy: bool\n",
      "            If True, deep copy ds and infod\n",
      "        \n",
      "        Returns\n",
      "        -------\n",
      "        ds: xarray.Dataset \n",
      "        info: oceanspy.open_dataset._info\n",
      "    \n",
      "    momVort3(ds, info, deep_copy=False)\n",
      "        Compute 3rd component of Vorticity and add to dataset.\n",
      "        dV/dX - dU/dY \n",
      "        http://mitgcm.readthedocs.io/en/latest/algorithm/algorithm.html#relative-vorticity\n",
      "        \n",
      "        Parameters\n",
      "        ----------\n",
      "        ds: xarray.Dataset\n",
      "        info: oceanspy.open_dataset._info\n",
      "        deep_copy: bool\n",
      "            If True, deep copy ds and infod\n",
      "        \n",
      "        Returns\n",
      "        -------\n",
      "        ds: xarray.Dataset \n",
      "        info: oceanspy.open_dataset._info\n",
      "    \n",
      "    ort_Vel(ds, info, deep_copy=False)\n",
      "        Compute velocity component orthogonal to a vertical section,\n",
      "        and add to dataset.\n",
      "        \n",
      "        Parameters\n",
      "        ----------\n",
      "        ds: xarray.Dataset\n",
      "        info: oceanspy.open_dataset._info\n",
      "        deep_copy: bool\n",
      "            If True, deep copy ds and infod\n",
      "        \n",
      "        Returns\n",
      "        -------\n",
      "        ds: xarray.Dataset \n",
      "        info: oceanspy.open_dataset._info\n",
      "    \n",
      "    tan_Vel(ds, info, deep_copy=False)\n",
      "        Compute velocity component tangential to a vertical section,\n",
      "        and add to dataset.\n",
      "        \n",
      "        Parameters\n",
      "        ----------\n",
      "        ds: xarray.Dataset\n",
      "        info: oceanspy.open_dataset._info\n",
      "        deep_copy: bool\n",
      "            If True, deep copy ds and infod\n",
      "        \n",
      "        Returns\n",
      "        -------\n",
      "        ds: xarray.Dataset \n",
      "        info: oceanspy.open_dataset._info\n",
      "\n",
      "FILE\n",
      "    /home/idies/workspace/Temporary/malmans2/scratch/testOspy/oceanspy/oceanspy/compute.py\n",
      "\n",
      "\n"
     ]
    }
   ],
   "source": [
    "help(ospy.compute)"
   ]
  },
  {
   "cell_type": "markdown",
   "metadata": {},
   "source": [
    "### Potential Density Anomaly\n",
    "\n",
    "To test ``ospy.compute``, create a new cutout with all the original variables, then compute the potential density anomamly, and explore the new dataset:"
   ]
  },
  {
   "cell_type": "code",
   "execution_count": 8,
   "metadata": {},
   "outputs": [
    {
     "name": "stdout",
     "output_type": "stream",
     "text": [
      "Copying ds and info\n",
      "Cutting out\n",
      "Resampling timeseries\n",
      "Computing Sigma0\n"
     ]
    },
    {
     "data": {
      "text/plain": [
       "<xarray.Dataset>\n",
       "Dimensions:     (X: 677, Xp1: 678, Y: 575, Yp1: 576, Z: 12, Zl: 12, Zp1: 13, Zu: 12, time: 30)\n",
       "Coordinates:\n",
       "  * X           (X) float64 -39.97 -39.92 -39.88 -39.83 -39.79 -39.75 -39.7 ...\n",
       "  * Xp1         (Xp1) float64 -39.99 -39.94 -39.9 -39.86 -39.81 -39.77 ...\n",
       "  * Y           (Y) float64 60.01 60.03 60.05 60.07 60.09 60.11 60.13 60.14 ...\n",
       "  * Yp1         (Yp1) float64 60.0 60.02 60.04 60.06 60.08 60.1 60.12 60.14 ...\n",
       "  * Z           (Z) float64 -1.0 -3.5 -7.0 -11.5 -17.0 -23.5 -31.0 -39.5 ...\n",
       "  * Zl          (Zl) float64 0.0 -2.0 -5.0 -9.0 -14.0 -20.0 -27.0 -35.0 ...\n",
       "  * Zp1         (Zp1) float64 0.0 -2.0 -5.0 -9.0 -14.0 -20.0 -27.0 -35.0 ...\n",
       "  * Zu          (Zu) float64 -2.0 -5.0 -9.0 -14.0 -20.0 -27.0 -35.0 -44.0 ...\n",
       "  * time        (time) datetime64[ns] 2007-09-01 2007-09-02 2007-09-03 ...\n",
       "Data variables:\n",
       "    drC         (Zp1) float64 -1.0 -2.5 -3.5 -4.5 -5.5 -6.5 -7.5 -8.5 -9.5 ...\n",
       "    drF         (Z) float64 -2.0 -3.0 -4.0 -5.0 -6.0 -7.0 -8.0 -9.0 -10.0 ...\n",
       "    dxC         (Y, Xp1) float64 2.444e+03 2.444e+03 2.444e+03 2.444e+03 ...\n",
       "    dyC         (Yp1, X) float64 2.123e+03 2.123e+03 2.123e+03 2.123e+03 ...\n",
       "    dxF         (Y, X) float64 2.444e+03 2.444e+03 2.444e+03 2.444e+03 ...\n",
       "    dyF         (Y, X) float64 2.123e+03 2.123e+03 2.123e+03 2.123e+03 ...\n",
       "    dxG         (Yp1, X) float64 2.445e+03 2.445e+03 2.445e+03 2.445e+03 ...\n",
       "    dyG         (Y, Xp1) float64 2.123e+03 2.123e+03 2.123e+03 2.123e+03 ...\n",
       "    dxV         (Yp1, Xp1) float64 2.445e+03 2.445e+03 2.445e+03 2.445e+03 ...\n",
       "    dyU         (Yp1, Xp1) float64 2.123e+03 2.123e+03 2.123e+03 2.123e+03 ...\n",
       "    rA          (Y, X) float64 5.191e+06 5.191e+06 5.191e+06 5.191e+06 ...\n",
       "    rAw         (Y, Xp1) float64 5.191e+06 5.191e+06 5.191e+06 5.191e+06 ...\n",
       "    rAs         (Yp1, X) float64 5.192e+06 5.192e+06 5.192e+06 5.192e+06 ...\n",
       "    rAz         (Yp1, Xp1) float64 5.192e+06 5.192e+06 5.192e+06 5.192e+06 ...\n",
       "    fCori       (Y, X) float64 0.0001263 0.0001263 0.0001263 0.0001263 ...\n",
       "    fCoriG      (Yp1, Xp1) float64 0.0001263 0.0001263 0.0001263 0.0001263 ...\n",
       "    R_low       (Y, X) float64 -2.514e+03 -2.519e+03 -2.532e+03 -2.546e+03 ...\n",
       "    Ro_surf     (Y, X) float64 0.0 0.0 0.0 0.0 0.0 0.0 0.0 0.0 0.0 0.0 0.0 ...\n",
       "    Depth       (Y, X) float64 2.514e+03 2.519e+03 2.532e+03 2.546e+03 ...\n",
       "    HFacC       (Z, Y, X) float64 1.0 1.0 1.0 1.0 1.0 1.0 1.0 1.0 1.0 1.0 ...\n",
       "    HFacW       (Z, Y, Xp1) float64 1.0 1.0 1.0 1.0 1.0 1.0 1.0 1.0 1.0 1.0 ...\n",
       "    HFacS       (Z, Yp1, X) float64 1.0 1.0 1.0 1.0 1.0 1.0 1.0 1.0 1.0 1.0 ...\n",
       "    EXFaqh      (time, Y, X) float64 dask.array<shape=(30, 575, 677), chunksize=(1, 575, 677)>\n",
       "    EXFatemp    (time, Y, X) float64 dask.array<shape=(30, 575, 677), chunksize=(1, 575, 677)>\n",
       "    EXFempmr    (time, Y, X) float64 dask.array<shape=(30, 575, 677), chunksize=(1, 575, 677)>\n",
       "    EXFevap     (time, Y, X) float64 dask.array<shape=(30, 575, 677), chunksize=(1, 575, 677)>\n",
       "    EXFhl       (time, Y, X) float64 dask.array<shape=(30, 575, 677), chunksize=(1, 575, 677)>\n",
       "    EXFhs       (time, Y, X) float64 dask.array<shape=(30, 575, 677), chunksize=(1, 575, 677)>\n",
       "    EXFlwnet    (time, Y, X) float64 dask.array<shape=(30, 575, 677), chunksize=(1, 575, 677)>\n",
       "    EXFpreci    (time, Y, X) float64 dask.array<shape=(30, 575, 677), chunksize=(1, 575, 677)>\n",
       "    EXFpress    (time, Y, X) float64 dask.array<shape=(30, 575, 677), chunksize=(1, 575, 677)>\n",
       "    EXFqnet     (time, Y, X) float64 dask.array<shape=(30, 575, 677), chunksize=(1, 575, 677)>\n",
       "    EXFroff     (time, Y, X) float64 dask.array<shape=(30, 575, 677), chunksize=(1, 575, 677)>\n",
       "    EXFroft     (time, Y, X) float64 dask.array<shape=(30, 575, 677), chunksize=(1, 575, 677)>\n",
       "    EXFsnow     (time, Y, X) float64 dask.array<shape=(30, 575, 677), chunksize=(1, 575, 677)>\n",
       "    EXFswnet    (time, Y, X) float64 dask.array<shape=(30, 575, 677), chunksize=(1, 575, 677)>\n",
       "    EXFtaux     (time, Y, X) float64 dask.array<shape=(30, 575, 677), chunksize=(1, 575, 677)>\n",
       "    EXFtauy     (time, Y, X) float64 dask.array<shape=(30, 575, 677), chunksize=(1, 575, 677)>\n",
       "    EXFuwind    (time, Y, X) float64 dask.array<shape=(30, 575, 677), chunksize=(1, 575, 677)>\n",
       "    EXFvwind    (time, Y, X) float64 dask.array<shape=(30, 575, 677), chunksize=(1, 575, 677)>\n",
       "    KPPhbl      (time, Y, X) float64 dask.array<shape=(30, 575, 677), chunksize=(1, 575, 677)>\n",
       "    MXLDEPTH    (time, Y, X) float64 dask.array<shape=(30, 575, 677), chunksize=(1, 575, 677)>\n",
       "    TRELAX      (time, Y, X) float64 dask.array<shape=(30, 575, 677), chunksize=(1, 575, 677)>\n",
       "    SRELAX      (time, Y, X) float64 dask.array<shape=(30, 575, 677), chunksize=(1, 575, 677)>\n",
       "    RHOAnoma    (time, Z, Y, X) float64 dask.array<shape=(30, 12, 575, 677), chunksize=(1, 12, 575, 677)>\n",
       "    SIarea      (time, Y, X) float64 dask.array<shape=(30, 575, 677), chunksize=(1, 575, 677)>\n",
       "    SIheff      (time, Y, X) float64 dask.array<shape=(30, 575, 677), chunksize=(1, 575, 677)>\n",
       "    SIhsnow     (time, Y, X) float64 dask.array<shape=(30, 575, 677), chunksize=(1, 575, 677)>\n",
       "    SIhsalt     (time, Y, X) float64 dask.array<shape=(30, 575, 677), chunksize=(1, 575, 677)>\n",
       "    SIuice      (time, Y, Xp1) float64 dask.array<shape=(30, 575, 678), chunksize=(1, 575, 678)>\n",
       "    SIvice      (time, Yp1, X) float64 dask.array<shape=(30, 576, 677), chunksize=(1, 576, 677)>\n",
       "    KPPviscAz   (time, Z, Y, X) float64 dask.array<shape=(30, 12, 575, 677), chunksize=(1, 12, 575, 677)>\n",
       "    KPPdiffKzT  (time, Z, Y, X) float64 dask.array<shape=(30, 12, 575, 677), chunksize=(1, 12, 575, 677)>\n",
       "    KPPdiffKzS  (time, Z, Y, X) float64 dask.array<shape=(30, 12, 575, 677), chunksize=(1, 12, 575, 677)>\n",
       "    KPPGHAT     (time, Z, Y, X) float64 dask.array<shape=(30, 12, 575, 677), chunksize=(1, 12, 575, 677)>\n",
       "    KPPHBL      (time, Y, X) float64 dask.array<shape=(30, 575, 677), chunksize=(1, 575, 677)>\n",
       "    momVort3    (time, Z, Yp1, Xp1) float64 dask.array<shape=(30, 12, 576, 678), chunksize=(1, 12, 576, 678)>\n",
       "    oceTAUX     (time, Y, Xp1) float64 dask.array<shape=(30, 575, 678), chunksize=(1, 575, 678)>\n",
       "    oceTAUY     (time, Yp1, X) float64 dask.array<shape=(30, 576, 677), chunksize=(1, 576, 677)>\n",
       "    oceFWflx    (time, Y, X) float64 dask.array<shape=(30, 575, 677), chunksize=(1, 575, 677)>\n",
       "    oceSflux    (time, Y, X) float64 dask.array<shape=(30, 575, 677), chunksize=(1, 575, 677)>\n",
       "    oceQnet     (time, Y, X) float64 dask.array<shape=(30, 575, 677), chunksize=(1, 575, 677)>\n",
       "    oceQsw      (time, Y, X) float64 dask.array<shape=(30, 575, 677), chunksize=(1, 575, 677)>\n",
       "    oceFreez    (time, Y, X) float64 dask.array<shape=(30, 575, 677), chunksize=(1, 575, 677)>\n",
       "    oceSPflx    (time, Y, X) float64 dask.array<shape=(30, 575, 677), chunksize=(1, 575, 677)>\n",
       "    oceSPDep    (time, Y, X) float64 dask.array<shape=(30, 575, 677), chunksize=(1, 575, 677)>\n",
       "    phiHyd      (time, Z, Y, X) float64 dask.array<shape=(30, 12, 575, 677), chunksize=(1, 12, 575, 677)>\n",
       "    phiHydLow   (time, Y, X) float64 dask.array<shape=(30, 575, 677), chunksize=(1, 575, 677)>\n",
       "    Eta         (time, Y, X) float64 dask.array<shape=(30, 575, 677), chunksize=(1, 575, 677)>\n",
       "    S           (time, Z, Y, X) float64 dask.array<shape=(30, 12, 575, 677), chunksize=(1, 12, 575, 677)>\n",
       "    Temp        (time, Z, Y, X) float64 dask.array<shape=(30, 12, 575, 677), chunksize=(1, 12, 575, 677)>\n",
       "    U           (time, Z, Y, Xp1) float64 dask.array<shape=(30, 12, 575, 678), chunksize=(1, 12, 575, 678)>\n",
       "    V           (time, Z, Yp1, X) float64 dask.array<shape=(30, 12, 576, 677), chunksize=(1, 12, 576, 677)>\n",
       "    W           (time, Zl, Y, X) float64 dask.array<shape=(30, 12, 575, 677), chunksize=(1, 12, 575, 677)>\n",
       "    surForcT    (time, Y, X) float64 dask.array<shape=(30, 575, 677), chunksize=(1, 575, 677)>\n",
       "    surForcS    (time, Y, X) float64 dask.array<shape=(30, 575, 677), chunksize=(1, 575, 677)>\n",
       "    Sigma0      (time, Z, Y, X) float64 dask.array<shape=(30, 12, 575, 677), chunksize=(1, 12, 575, 677)>"
      ]
     },
     "execution_count": 8,
     "metadata": {},
     "output_type": "execute_result"
    }
   ],
   "source": [
    "ds_cut, info_cut = ospy.subsample.cutout(ds,\n",
    "                                         info,\n",
    "                                         latRange   = [60,  71],\n",
    "                                         lonRange   = [-40, -10],\n",
    "                                         depthRange = [0, -100],\n",
    "                                         timeRange  = ['2007-09-01T00', '2007-09-30T18'],\n",
    "                                         timeFreq   = '1D',\n",
    "                                         sampMethod = 'mean',\n",
    "                                         deep_copy  = True)\n",
    "ds_Sigma0, info_Sigma0 = ospy.compute.Sigma0(ds_cut, info_cut)\n",
    "ds_Sigma0"
   ]
  },
  {
   "cell_type": "markdown",
   "metadata": {},
   "source": [
    "### Ertel PV\n",
    "\n",
    "Some of the diagnostics produced by OceanSpy make use of several ``ospy.compute`` functions. For example, Ertel Potential Vorticity is computed using the following equation:   \n",
    "``Ertel_PV`` $=(f+\\zeta)\\frac{N^2}{g}+\\frac{(\\boldsymbol{\\zeta}_h+e\\hat{\\boldsymbol{y}})\\cdot\\boldsymbol{\\nabla}_h\\rho}{\\rho_0}$.   \n",
    "All the variables computed by OceanSpy that show up in the ``Ertel_PV`` equation are also added to ``ds``."
   ]
  },
  {
   "cell_type": "code",
   "execution_count": 9,
   "metadata": {},
   "outputs": [
    {
     "name": "stdout",
     "output_type": "stream",
     "text": [
      "Copying ds and info\n",
      "Computing N2\n",
      "Computing momVort1\n",
      "Computing momVort2\n",
      "Computing Ertel_PV\n"
     ]
    },
    {
     "data": {
      "text/plain": [
       "<xarray.Dataset>\n",
       "Dimensions:     (X: 677, Xp1: 678, Y: 575, Yp1: 576, Z: 12, Zl: 12, Zp1: 13, Zu: 12, time: 30)\n",
       "Coordinates:\n",
       "  * X           (X) float64 -39.97 -39.92 -39.88 -39.83 -39.79 -39.75 -39.7 ...\n",
       "  * Xp1         (Xp1) float64 -39.99 -39.94 -39.9 -39.86 -39.81 -39.77 ...\n",
       "  * Y           (Y) float64 60.01 60.03 60.05 60.07 60.09 60.11 60.13 60.14 ...\n",
       "  * Yp1         (Yp1) float64 60.0 60.02 60.04 60.06 60.08 60.1 60.12 60.14 ...\n",
       "  * Z           (Z) float64 -1.0 -3.5 -7.0 -11.5 -17.0 -23.5 -31.0 -39.5 ...\n",
       "  * Zl          (Zl) float64 0.0 -2.0 -5.0 -9.0 -14.0 -20.0 -27.0 -35.0 ...\n",
       "  * Zp1         (Zp1) float64 0.0 -2.0 -5.0 -9.0 -14.0 -20.0 -27.0 -35.0 ...\n",
       "  * Zu          (Zu) float64 -2.0 -5.0 -9.0 -14.0 -20.0 -27.0 -35.0 -44.0 ...\n",
       "  * time        (time) datetime64[ns] 2007-09-01 2007-09-02 2007-09-03 ...\n",
       "Data variables:\n",
       "    drC         (Zp1) float64 -1.0 -2.5 -3.5 -4.5 -5.5 -6.5 -7.5 -8.5 -9.5 ...\n",
       "    drF         (Z) float64 -2.0 -3.0 -4.0 -5.0 -6.0 -7.0 -8.0 -9.0 -10.0 ...\n",
       "    dxC         (Y, Xp1) float64 2.444e+03 2.444e+03 2.444e+03 2.444e+03 ...\n",
       "    dyC         (Yp1, X) float64 2.123e+03 2.123e+03 2.123e+03 2.123e+03 ...\n",
       "    dxF         (Y, X) float64 2.444e+03 2.444e+03 2.444e+03 2.444e+03 ...\n",
       "    dyF         (Y, X) float64 2.123e+03 2.123e+03 2.123e+03 2.123e+03 ...\n",
       "    dxG         (Yp1, X) float64 2.445e+03 2.445e+03 2.445e+03 2.445e+03 ...\n",
       "    dyG         (Y, Xp1) float64 2.123e+03 2.123e+03 2.123e+03 2.123e+03 ...\n",
       "    dxV         (Yp1, Xp1) float64 2.445e+03 2.445e+03 2.445e+03 2.445e+03 ...\n",
       "    dyU         (Yp1, Xp1) float64 2.123e+03 2.123e+03 2.123e+03 2.123e+03 ...\n",
       "    rA          (Y, X) float64 5.191e+06 5.191e+06 5.191e+06 5.191e+06 ...\n",
       "    rAw         (Y, Xp1) float64 5.191e+06 5.191e+06 5.191e+06 5.191e+06 ...\n",
       "    rAs         (Yp1, X) float64 5.192e+06 5.192e+06 5.192e+06 5.192e+06 ...\n",
       "    rAz         (Yp1, Xp1) float64 5.192e+06 5.192e+06 5.192e+06 5.192e+06 ...\n",
       "    fCori       (Y, X) float64 0.0001263 0.0001263 0.0001263 0.0001263 ...\n",
       "    fCoriG      (Yp1, Xp1) float64 0.0001263 0.0001263 0.0001263 0.0001263 ...\n",
       "    R_low       (Y, X) float64 -2.514e+03 -2.519e+03 -2.532e+03 -2.546e+03 ...\n",
       "    Ro_surf     (Y, X) float64 0.0 0.0 0.0 0.0 0.0 0.0 0.0 0.0 0.0 0.0 0.0 ...\n",
       "    Depth       (Y, X) float64 2.514e+03 2.519e+03 2.532e+03 2.546e+03 ...\n",
       "    HFacC       (Z, Y, X) float64 1.0 1.0 1.0 1.0 1.0 1.0 1.0 1.0 1.0 1.0 ...\n",
       "    HFacW       (Z, Y, Xp1) float64 1.0 1.0 1.0 1.0 1.0 1.0 1.0 1.0 1.0 1.0 ...\n",
       "    HFacS       (Z, Yp1, X) float64 1.0 1.0 1.0 1.0 1.0 1.0 1.0 1.0 1.0 1.0 ...\n",
       "    EXFaqh      (time, Y, X) float64 dask.array<shape=(30, 575, 677), chunksize=(1, 575, 677)>\n",
       "    EXFatemp    (time, Y, X) float64 dask.array<shape=(30, 575, 677), chunksize=(1, 575, 677)>\n",
       "    EXFempmr    (time, Y, X) float64 dask.array<shape=(30, 575, 677), chunksize=(1, 575, 677)>\n",
       "    EXFevap     (time, Y, X) float64 dask.array<shape=(30, 575, 677), chunksize=(1, 575, 677)>\n",
       "    EXFhl       (time, Y, X) float64 dask.array<shape=(30, 575, 677), chunksize=(1, 575, 677)>\n",
       "    EXFhs       (time, Y, X) float64 dask.array<shape=(30, 575, 677), chunksize=(1, 575, 677)>\n",
       "    EXFlwnet    (time, Y, X) float64 dask.array<shape=(30, 575, 677), chunksize=(1, 575, 677)>\n",
       "    EXFpreci    (time, Y, X) float64 dask.array<shape=(30, 575, 677), chunksize=(1, 575, 677)>\n",
       "    EXFpress    (time, Y, X) float64 dask.array<shape=(30, 575, 677), chunksize=(1, 575, 677)>\n",
       "    EXFqnet     (time, Y, X) float64 dask.array<shape=(30, 575, 677), chunksize=(1, 575, 677)>\n",
       "    EXFroff     (time, Y, X) float64 dask.array<shape=(30, 575, 677), chunksize=(1, 575, 677)>\n",
       "    EXFroft     (time, Y, X) float64 dask.array<shape=(30, 575, 677), chunksize=(1, 575, 677)>\n",
       "    EXFsnow     (time, Y, X) float64 dask.array<shape=(30, 575, 677), chunksize=(1, 575, 677)>\n",
       "    EXFswnet    (time, Y, X) float64 dask.array<shape=(30, 575, 677), chunksize=(1, 575, 677)>\n",
       "    EXFtaux     (time, Y, X) float64 dask.array<shape=(30, 575, 677), chunksize=(1, 575, 677)>\n",
       "    EXFtauy     (time, Y, X) float64 dask.array<shape=(30, 575, 677), chunksize=(1, 575, 677)>\n",
       "    EXFuwind    (time, Y, X) float64 dask.array<shape=(30, 575, 677), chunksize=(1, 575, 677)>\n",
       "    EXFvwind    (time, Y, X) float64 dask.array<shape=(30, 575, 677), chunksize=(1, 575, 677)>\n",
       "    KPPhbl      (time, Y, X) float64 dask.array<shape=(30, 575, 677), chunksize=(1, 575, 677)>\n",
       "    MXLDEPTH    (time, Y, X) float64 dask.array<shape=(30, 575, 677), chunksize=(1, 575, 677)>\n",
       "    TRELAX      (time, Y, X) float64 dask.array<shape=(30, 575, 677), chunksize=(1, 575, 677)>\n",
       "    SRELAX      (time, Y, X) float64 dask.array<shape=(30, 575, 677), chunksize=(1, 575, 677)>\n",
       "    RHOAnoma    (time, Z, Y, X) float64 dask.array<shape=(30, 12, 575, 677), chunksize=(1, 12, 575, 677)>\n",
       "    SIarea      (time, Y, X) float64 dask.array<shape=(30, 575, 677), chunksize=(1, 575, 677)>\n",
       "    SIheff      (time, Y, X) float64 dask.array<shape=(30, 575, 677), chunksize=(1, 575, 677)>\n",
       "    SIhsnow     (time, Y, X) float64 dask.array<shape=(30, 575, 677), chunksize=(1, 575, 677)>\n",
       "    SIhsalt     (time, Y, X) float64 dask.array<shape=(30, 575, 677), chunksize=(1, 575, 677)>\n",
       "    SIuice      (time, Y, Xp1) float64 dask.array<shape=(30, 575, 678), chunksize=(1, 575, 678)>\n",
       "    SIvice      (time, Yp1, X) float64 dask.array<shape=(30, 576, 677), chunksize=(1, 576, 677)>\n",
       "    KPPviscAz   (time, Z, Y, X) float64 dask.array<shape=(30, 12, 575, 677), chunksize=(1, 12, 575, 677)>\n",
       "    KPPdiffKzT  (time, Z, Y, X) float64 dask.array<shape=(30, 12, 575, 677), chunksize=(1, 12, 575, 677)>\n",
       "    KPPdiffKzS  (time, Z, Y, X) float64 dask.array<shape=(30, 12, 575, 677), chunksize=(1, 12, 575, 677)>\n",
       "    KPPGHAT     (time, Z, Y, X) float64 dask.array<shape=(30, 12, 575, 677), chunksize=(1, 12, 575, 677)>\n",
       "    KPPHBL      (time, Y, X) float64 dask.array<shape=(30, 575, 677), chunksize=(1, 575, 677)>\n",
       "    momVort3    (time, Z, Yp1, Xp1) float64 dask.array<shape=(30, 12, 576, 678), chunksize=(1, 12, 576, 678)>\n",
       "    oceTAUX     (time, Y, Xp1) float64 dask.array<shape=(30, 575, 678), chunksize=(1, 575, 678)>\n",
       "    oceTAUY     (time, Yp1, X) float64 dask.array<shape=(30, 576, 677), chunksize=(1, 576, 677)>\n",
       "    oceFWflx    (time, Y, X) float64 dask.array<shape=(30, 575, 677), chunksize=(1, 575, 677)>\n",
       "    oceSflux    (time, Y, X) float64 dask.array<shape=(30, 575, 677), chunksize=(1, 575, 677)>\n",
       "    oceQnet     (time, Y, X) float64 dask.array<shape=(30, 575, 677), chunksize=(1, 575, 677)>\n",
       "    oceQsw      (time, Y, X) float64 dask.array<shape=(30, 575, 677), chunksize=(1, 575, 677)>\n",
       "    oceFreez    (time, Y, X) float64 dask.array<shape=(30, 575, 677), chunksize=(1, 575, 677)>\n",
       "    oceSPflx    (time, Y, X) float64 dask.array<shape=(30, 575, 677), chunksize=(1, 575, 677)>\n",
       "    oceSPDep    (time, Y, X) float64 dask.array<shape=(30, 575, 677), chunksize=(1, 575, 677)>\n",
       "    phiHyd      (time, Z, Y, X) float64 dask.array<shape=(30, 12, 575, 677), chunksize=(1, 12, 575, 677)>\n",
       "    phiHydLow   (time, Y, X) float64 dask.array<shape=(30, 575, 677), chunksize=(1, 575, 677)>\n",
       "    Eta         (time, Y, X) float64 dask.array<shape=(30, 575, 677), chunksize=(1, 575, 677)>\n",
       "    S           (time, Z, Y, X) float64 dask.array<shape=(30, 12, 575, 677), chunksize=(1, 12, 575, 677)>\n",
       "    Temp        (time, Z, Y, X) float64 dask.array<shape=(30, 12, 575, 677), chunksize=(1, 12, 575, 677)>\n",
       "    U           (time, Z, Y, Xp1) float64 dask.array<shape=(30, 12, 575, 678), chunksize=(1, 12, 575, 678)>\n",
       "    V           (time, Z, Yp1, X) float64 dask.array<shape=(30, 12, 576, 677), chunksize=(1, 12, 576, 677)>\n",
       "    W           (time, Zl, Y, X) float64 dask.array<shape=(30, 12, 575, 677), chunksize=(1, 12, 575, 677)>\n",
       "    surForcT    (time, Y, X) float64 dask.array<shape=(30, 575, 677), chunksize=(1, 575, 677)>\n",
       "    surForcS    (time, Y, X) float64 dask.array<shape=(30, 575, 677), chunksize=(1, 575, 677)>\n",
       "    Sigma0      (time, Z, Y, X) float64 dask.array<shape=(30, 12, 575, 677), chunksize=(1, 12, 575, 677)>\n",
       "    N2          (time, Zp1, Y, X) float64 dask.array<shape=(30, 13, 575, 677), chunksize=(1, 1, 575, 677)>\n",
       "    momVort1    (time, Zl, Yp1, X) float64 dask.array<shape=(30, 12, 576, 677), chunksize=(1, 11, 1, 677)>\n",
       "    momVort2    (time, Zl, Y, Xp1) float64 dask.array<shape=(30, 12, 575, 678), chunksize=(1, 11, 575, 1)>\n",
       "    Ertel_PV    (time, Z, Y, X) float64 dask.array<shape=(30, 12, 575, 677), chunksize=(1, 1, 1, 1)>"
      ]
     },
     "execution_count": 9,
     "metadata": {},
     "output_type": "execute_result"
    }
   ],
   "source": [
    "ds_PV, info_PV = ospy.compute.Ertel_PV(ds_cut, info_cut, deep_copy  = True)\n",
    "ds_PV"
   ]
  },
  {
   "cell_type": "markdown",
   "metadata": {},
   "source": [
    "Vertical sections\n",
    "-------------------\n",
    "Extract vertical sections from the model similarly to ship surveys conducted by observational oceanographer. Then use OceanSpy to plot the vertical sections.  \n",
    "NOTE: Surveys need heavy interpolations that are immediately computed by OceanSpy. Use a light survey to test this functionality."
   ]
  },
  {
   "cell_type": "code",
   "execution_count": 10,
   "metadata": {},
   "outputs": [
    {
     "name": "stdout",
     "output_type": "stream",
     "text": [
      "regrid_method : bilinear\n",
      "description : fluid thickness in r coordinates (at rest)\n",
      "\n",
      "Dimension : dist_VS\n",
      "      long_name : Distance from vertex 1\n",
      "      units : km\n"
     ]
    },
    {
     "data": {
      "application/javascript": [
       "\n",
       "// Ugly hack - see #2574 for more information\n",
       "if (!(document.getElementById('197896b0-6ed3-4c5a-b798-b38f4d93b362')) && !(document.getElementById('_anim_imgNone'))) {\n",
       "  console.log(\"Creating DOM nodes dynamically for assumed nbconvert export. To generate clean HTML output set HV_DOC_HTML as an environment variable.\")\n",
       "  var htmlObject = document.createElement('div');\n",
       "  htmlObject.innerHTML = `<div id='197896b0-6ed3-4c5a-b798-b38f4d93b362' style='display: table; margin: 0 auto;'>\n",
       "\n",
       "\n",
       "\n",
       "\n",
       "\n",
       "  <div class=\"bk-root\" id=\"92c90bc6-0940-400f-84dc-1071f6c85061\"></div>\n",
       "</div>`;\n",
       "  var scriptTags = document.getElementsByTagName('script');\n",
       "  var parentTag = scriptTags[scriptTags.length-1].parentNode;\n",
       "  parentTag.append(htmlObject)\n",
       "}\n",
       "(function(root) {\n",
       "  function embed_document(root) {\n",
       "    \n",
       "  var docs_json = {\"8bf9f86a-f7b6-436f-918f-79eec5949d34\":{\"roots\":{\"references\":[{\"attributes\":{\"callback\":null,\"data\":{\"Depth\":{\"__ndarray__\":\"9HqwttAdckAa9fJlbDhyQBw8GpfxXHJAMop/hvyAckDk4S737p5yQOJn4H/k0HJA6tOZY8ACc0CxhscQ6g5zQIhvre1yInNAkOXCB78zc0Dl8y6iJEJzQCG/02mOPnNAsJP9lKlEc0BhSNmBSDRzQJLKPPXwLXNAVX+8Y8Qic0DUJ79d6B9zQLQC8b+MEHNAGeOhozECc0DqxCJoY+pyQG1VWc2VzXJAP2P+n26mckACerOCk5dyQJbA9Tu5i3JAq+z6bOJUckApbTe89ElyQFLrZYc+RXJA0G9UelJPckBsIAX39mZyQOtIyvNVj3JAvrQdRizackDINgU1PQ1zQLUCKI+CPnNAGoezAwmDc0CeIjDDJLhzQHQTnMEa/3NAnur/ajwydEBMGYuzvGB0QMbLD6apkXRAqnPf16LWdEBGgCq7Tvh0QH2Wb7NJM3VA4komvrtvdUCo6QAqKLh1QFjrC0Ua+nVAbEA/DRc0dkAwzFLzEjt2QJY2XjklfHZAOqDck2bodkB6eKupqgN3QHgVQx1AynZAwsex+yKzdkDyXF6UxJJ2QCfmASVbl3ZAj3+N/M7FdkA4LeHc0+R2QI5QT9acjHdACLM4KXSueEDbZSpmCUp5QK+rH3eP4XlAQCO8fEp2ekCWcNInTax7QP71k9T4iX1AKe2FFKMuf0AumA0hJ1N/QDY7gTzGO39AO3jXCrn6fkAI1S4OBt1+QB/KR/u3vX5AjDHSkY/JfkAc1hPg3kd/QITbxwTfS4BAEyDDQMhOgUDJV+kAHEiCQNEeQxXy8YJA4ewLvK9dg0BpG9fhnT+EQPYGCz6igYRAiqT+6/NyhEDEE0kJtemDQEatjB3ZYoNAV1MNtLNlgkBTqlbeutiAQPJfAKUG2H5ACOrJaHRofEBbBFRRbc55QJs3vjyCT3dAO9zSC9QFdUDoa7oyzgJzQAD02k+beXFA+3ATyPq4cECJKsV4RXRwQG1OCn7nsnBAQ1jRiEBbcUCqWrKla4txQOyM8bEGzXFADaguBkK/cUC9CVEVJMlxQDSmGQKKWXFABf63jw/+cECeBbMlzFJwQBSyC4dDoW9ABB/k9UzPbUAlz7lSVDpsQMV+WBn3f2tAuT0SI99Ia0CyEaV9rP9qQBh0iOlz9WlA7LNex628aEBqjL02+0JoQJ4t/S9tMmlAW6DdtGpqa0CA5L1JXP9rQIVRoyOJPmtA8eJuqSMIakDM8jUlCcxoQNb0aDUuDWdANQNPw4d2ZUC41CIT4C9kQD6M5zeCO2NARlzJJRzlYkAfIFVaxl5hQHlLbptc41pA87ObWDquVkDiWUkOCs5UQCdlUp83ElRAAAAAAABAU0BsGLhDf0VTQOO5i0k11FJAVEYSm0MCUkCHgGolqgZRQCNsxfY5JFBAg8+NWRpvT0AANrEjIWdMQNrO12tCdklAIQcB06SGR0DD9zpaeuJFQAtlYOVilUVA++okf9SLREDIyu5X67NCQK+BvRTKYkJA\",\"dtype\":\"float64\",\"shape\":[141]},\"dist_VS\":{\"__ndarray__\":\"AAAAAAAAAABZxLZlHVkAQKD8s259WBBAhpifasyDGEBG5uvuPVcgQELs3P9FbCRAkSnjg/6AKECUbdCWZ5UsQAv5Q6rAVDBAfhd/7KVeMkCqXBygY2g0QCkTJ9P5cTZA4++yk2h7OEA4B9zvr4Q6QFKyxvXPjTxAl4Kfs8iWPkAXm80bzU9AQEFO+0ciVEFASUR75WNYQkDO4nP7kVxDQKd+D5GsYERAQVZ8rbNkRUDthuxXp2hGQJUHlpeHbEdAV5uyc1RwSECMzn/zDXRJQInqPh60d0pA2uw0+0Z7S0Asg6qRxn5MQDT96+gygk1A2EhJCIyFTkA15hX30YhPQN9wVF4CRlBAqmYuMJLHUEAH2cd0GElRQFuH0S+VylFAdeX9ZAhMUkBlGAEYcs1SQBnykEzSTlNA2uxkBinQU0DoKDZJdlFUQOZlvxi60lRAawC9ePRTVUAi7uxsJdVVQHy3DvlMVlZA+3bjIGvXVkAM0i3of1hXQKb3sVKL2VdA9Jk1ZI1aWEB8638ghttYQOmbWYt1XFlAxdGMqFvdWUBEKOV7OF5aQJyrLwkM31pApNI6VNZfW0Awf9Zgl+BbQG700zJPYVxAuNcFzv3hXEBpK0A2o2JdQJxIWG8/411A0N4kfdJjXkD87H1jXOReQP/APCbdZF9A5e87yVTlX0Akqiuo4TJgQFEFtl8Uc2BARzYsjUKzYEDrBn4ybPNgQK3bm1GRM2FAZ7J27LFzYUABIAAFzrNhQABOKp3l82FAhvrntvgzYkDjcyxUB3RiQImY63YRtGJALNUZIRf0YkAXIaxUGDRjQNz+lxMVdGNAhHjTXw20Y0BlHlU7AfRjQFAFFKjwM2RA7MQHqNtzZEBEdSg9wrNkQOGtbmmk82RA8ILTLoIzZUDhg1CPW3NlQCq634wws2VAmaZ7KQHzZUCEPx9nzTJmQGrwxUeVcmZArJVrzViyZkCCfQz6F/JmQP5jpc/SMWdAs3IzUIlxZ0ArPrR9O7FnQJHEJVrp8GdAg2uG55IwaEC6/tQnOHBoQDyuEB3Zr2hAJAw5yXXvaEBLDE4uDi9pQPb/T06ibmlAKJc/KzKuaUCb3B3Hve1pQG417CNFLWpAgF6sQ8hsakCAa2AoR6xqQMnECtTB62pArCWuSDgra0D7mk2IqmprQCuB7JQYqmtAFoOOcILpa0C9lzcd6ChsQA8B7JxJaGxAv0mw8aanbEAxRIkdAOdsQNMIfCJVJm1A/PONAqZlbUB1pMS/8qRtQFD6JVw75G1A6RS42X8jbkDdUIE6wGJuQIdHiID8oW5ARszTrTThbkBu62rEaCBvQGrpVMaYX29AID+ZtcSeb0DQmj+U7N1vQHDuJzKIDnBANQvpExgucEBLRGfwpU1wQBPRpsgxbXBAO/+rnbuMcEC0MXtwQ6xwQIDgGELJy3BABZeJE03rcEDx89HlzgpxQKmo9rlOKnFA5Xf8kMxJcUAwNehrSGlxQFjEvkvCiHFA\",\"dtype\":\"float64\",\"shape\":[141]}},\"selected\":{\"id\":\"31cb95b2-35ac-4802-82d1-4ed5cc0d5bc9\",\"type\":\"Selection\"},\"selection_policy\":{\"id\":\"1fc98bf0-23ac-4bc1-8c9a-ed3966648b0b\",\"type\":\"UnionRenderers\"}},\"id\":\"3bd3f2b4-8cc3-4a75-bda2-222fc7d1ae7a\",\"type\":\"ColumnDataSource\"},{\"attributes\":{},\"id\":\"1fc98bf0-23ac-4bc1-8c9a-ed3966648b0b\",\"type\":\"UnionRenderers\"},{\"attributes\":{\"below\":[{\"id\":\"f447931b-a32b-4fc2-b1d4-456a1adca739\",\"type\":\"LinearAxis\"}],\"left\":[{\"id\":\"386a93eb-d69d-4ea6-a4e1-b3c6fda05374\",\"type\":\"LinearAxis\"}],\"min_border_bottom\":10,\"min_border_left\":10,\"min_border_right\":10,\"min_border_top\":10,\"plot_height\":300,\"plot_width\":700,\"renderers\":[{\"id\":\"f447931b-a32b-4fc2-b1d4-456a1adca739\",\"type\":\"LinearAxis\"},{\"id\":\"a40b632c-e63f-46ed-b07e-abe3c193d24c\",\"type\":\"Grid\"},{\"id\":\"386a93eb-d69d-4ea6-a4e1-b3c6fda05374\",\"type\":\"LinearAxis\"},{\"id\":\"49afa779-f786-4613-8cdb-9b2c8a44d059\",\"type\":\"Grid\"},{\"id\":\"de41be65-c5c3-4b2b-afc3-1e29516d4f3b\",\"type\":\"BoxAnnotation\"},{\"id\":\"18fe1bd6-74ec-46c8-994a-fc68bcd99976\",\"type\":\"GlyphRenderer\"}],\"title\":{\"id\":\"478bf844-cbaa-4a83-b1bb-640ad99a46a6\",\"type\":\"Title\"},\"toolbar\":{\"id\":\"e180c759-ae74-4deb-9421-6893fa9d6db3\",\"type\":\"Toolbar\"},\"x_range\":{\"id\":\"e4bdc8d5-97ad-497c-9010-993c60697b10\",\"type\":\"Range1d\"},\"x_scale\":{\"id\":\"66eb46b2-72dc-44b6-b89f-25fb9e6f7c1d\",\"type\":\"LinearScale\"},\"y_range\":{\"id\":\"25eecb59-d0ba-42a6-9c0a-2fb98453307d\",\"type\":\"Range1d\"},\"y_scale\":{\"id\":\"92fec1c0-6450-4a23-a83e-235c55818cd9\",\"type\":\"LinearScale\"}},\"id\":\"197896b0-6ed3-4c5a-b798-b38f4d93b362\",\"subtype\":\"Figure\",\"type\":\"Plot\"},{\"attributes\":{\"axis_label\":\"Depth\",\"bounds\":\"auto\",\"formatter\":{\"id\":\"e95a48c8-17fe-4180-92be-3a69bfd9f34b\",\"type\":\"BasicTickFormatter\"},\"major_label_orientation\":\"horizontal\",\"plot\":{\"id\":\"197896b0-6ed3-4c5a-b798-b38f4d93b362\",\"subtype\":\"Figure\",\"type\":\"Plot\"},\"ticker\":{\"id\":\"43ea7847-5cba-4df9-9bf7-e5f5d5d3f2b3\",\"type\":\"BasicTicker\"}},\"id\":\"386a93eb-d69d-4ea6-a4e1-b3c6fda05374\",\"type\":\"LinearAxis\"},{\"attributes\":{},\"id\":\"e5bc6d27-aaab-4e83-916b-7a91707e26e8\",\"type\":\"PanTool\"},{\"attributes\":{\"plot\":null,\"text\":\"\",\"text_color\":{\"value\":\"black\"},\"text_font_size\":{\"value\":\"12pt\"}},\"id\":\"478bf844-cbaa-4a83-b1bb-640ad99a46a6\",\"type\":\"Title\"},{\"attributes\":{},\"id\":\"00d8e35d-81e6-452e-8e24-9ccbc91a851a\",\"type\":\"WheelZoomTool\"},{\"attributes\":{},\"id\":\"66eb46b2-72dc-44b6-b89f-25fb9e6f7c1d\",\"type\":\"LinearScale\"},{\"attributes\":{\"overlay\":{\"id\":\"de41be65-c5c3-4b2b-afc3-1e29516d4f3b\",\"type\":\"BoxAnnotation\"}},\"id\":\"10609088-209f-4812-86f4-3487f933363a\",\"type\":\"BoxZoomTool\"},{\"attributes\":{\"active_drag\":\"auto\",\"active_inspect\":\"auto\",\"active_multi\":null,\"active_scroll\":\"auto\",\"active_tap\":\"auto\",\"tools\":[{\"id\":\"961a1293-3d58-4300-9e6b-94b85fb75a98\",\"type\":\"HoverTool\"},{\"id\":\"04c28b88-c0a3-4070-a53f-705778379b97\",\"type\":\"SaveTool\"},{\"id\":\"e5bc6d27-aaab-4e83-916b-7a91707e26e8\",\"type\":\"PanTool\"},{\"id\":\"00d8e35d-81e6-452e-8e24-9ccbc91a851a\",\"type\":\"WheelZoomTool\"},{\"id\":\"10609088-209f-4812-86f4-3487f933363a\",\"type\":\"BoxZoomTool\"},{\"id\":\"e3c23ebd-e5aa-4f09-9a34-6f520e367c99\",\"type\":\"ResetTool\"}]},\"id\":\"e180c759-ae74-4deb-9421-6893fa9d6db3\",\"type\":\"Toolbar\"},{\"attributes\":{},\"id\":\"31cb95b2-35ac-4802-82d1-4ed5cc0d5bc9\",\"type\":\"Selection\"},{\"attributes\":{},\"id\":\"e95a48c8-17fe-4180-92be-3a69bfd9f34b\",\"type\":\"BasicTickFormatter\"},{\"attributes\":{\"grid_line_color\":{\"value\":null},\"plot\":{\"id\":\"197896b0-6ed3-4c5a-b798-b38f4d93b362\",\"subtype\":\"Figure\",\"type\":\"Plot\"},\"ticker\":{\"id\":\"74749564-ceff-4ef5-a83c-e3a29c8a7454\",\"type\":\"BasicTicker\"}},\"id\":\"a40b632c-e63f-46ed-b07e-abe3c193d24c\",\"type\":\"Grid\"},{\"attributes\":{},\"id\":\"92fec1c0-6450-4a23-a83e-235c55818cd9\",\"type\":\"LinearScale\"},{\"attributes\":{},\"id\":\"74749564-ceff-4ef5-a83c-e3a29c8a7454\",\"type\":\"BasicTicker\"},{\"attributes\":{\"data_source\":{\"id\":\"3bd3f2b4-8cc3-4a75-bda2-222fc7d1ae7a\",\"type\":\"ColumnDataSource\"},\"glyph\":{\"id\":\"df04a37b-cd76-4d22-bd5a-6e7b50407916\",\"type\":\"Line\"},\"hover_glyph\":null,\"muted_glyph\":{\"id\":\"855f6f40-0209-41b5-8d86-9c182887cd89\",\"type\":\"Line\"},\"nonselection_glyph\":{\"id\":\"0f3f1e4d-332e-496e-b0ab-91222b62c0ac\",\"type\":\"Line\"},\"selection_glyph\":null,\"view\":{\"id\":\"8342812f-8348-4b2f-87fb-540012b76852\",\"type\":\"CDSView\"}},\"id\":\"18fe1bd6-74ec-46c8-994a-fc68bcd99976\",\"type\":\"GlyphRenderer\"},{\"attributes\":{\"axis_label\":\"dist_VS\",\"bounds\":\"auto\",\"formatter\":{\"id\":\"2220be6d-1499-45c4-ae4f-a9c03bc84c07\",\"type\":\"BasicTickFormatter\"},\"major_label_orientation\":\"horizontal\",\"plot\":{\"id\":\"197896b0-6ed3-4c5a-b798-b38f4d93b362\",\"subtype\":\"Figure\",\"type\":\"Plot\"},\"ticker\":{\"id\":\"74749564-ceff-4ef5-a83c-e3a29c8a7454\",\"type\":\"BasicTicker\"}},\"id\":\"f447931b-a32b-4fc2-b1d4-456a1adca739\",\"type\":\"LinearAxis\"},{\"attributes\":{},\"id\":\"e3c23ebd-e5aa-4f09-9a34-6f520e367c99\",\"type\":\"ResetTool\"},{\"attributes\":{},\"id\":\"43ea7847-5cba-4df9-9bf7-e5f5d5d3f2b3\",\"type\":\"BasicTicker\"},{\"attributes\":{\"line_alpha\":0.2,\"line_color\":\"#1f77b4\",\"line_width\":2,\"x\":{\"field\":\"dist_VS\"},\"y\":{\"field\":\"Depth\"}},\"id\":\"855f6f40-0209-41b5-8d86-9c182887cd89\",\"type\":\"Line\"},{\"attributes\":{\"dimension\":1,\"grid_line_color\":{\"value\":null},\"plot\":{\"id\":\"197896b0-6ed3-4c5a-b798-b38f4d93b362\",\"subtype\":\"Figure\",\"type\":\"Plot\"},\"ticker\":{\"id\":\"43ea7847-5cba-4df9-9bf7-e5f5d5d3f2b3\",\"type\":\"BasicTicker\"}},\"id\":\"49afa779-f786-4613-8cdb-9b2c8a44d059\",\"type\":\"Grid\"},{\"attributes\":{\"source\":{\"id\":\"3bd3f2b4-8cc3-4a75-bda2-222fc7d1ae7a\",\"type\":\"ColumnDataSource\"}},\"id\":\"8342812f-8348-4b2f-87fb-540012b76852\",\"type\":\"CDSView\"},{\"attributes\":{\"line_alpha\":0.1,\"line_color\":\"#1f77b4\",\"line_width\":2,\"x\":{\"field\":\"dist_VS\"},\"y\":{\"field\":\"Depth\"}},\"id\":\"0f3f1e4d-332e-496e-b0ab-91222b62c0ac\",\"type\":\"Line\"},{\"attributes\":{\"line_color\":\"#1f77b4\",\"line_width\":2,\"x\":{\"field\":\"dist_VS\"},\"y\":{\"field\":\"Depth\"}},\"id\":\"df04a37b-cd76-4d22-bd5a-6e7b50407916\",\"type\":\"Line\"},{\"attributes\":{\"callback\":null,\"end\":280.54743551748606,\"reset_end\":280.54743551748606,\"reset_start\":0.0},\"id\":\"e4bdc8d5-97ad-497c-9010-993c60697b10\",\"type\":\"Range1d\"},{\"attributes\":{\"callback\":null,\"end\":656.2042199002742,\"reset_end\":656.2042199002742,\"reset_start\":36.77179202321292,\"start\":36.77179202321292},\"id\":\"25eecb59-d0ba-42a6-9c0a-2fb98453307d\",\"type\":\"Range1d\"},{\"attributes\":{\"bottom_units\":\"screen\",\"fill_alpha\":{\"value\":0.5},\"fill_color\":{\"value\":\"lightgrey\"},\"left_units\":\"screen\",\"level\":\"overlay\",\"line_alpha\":{\"value\":1.0},\"line_color\":{\"value\":\"black\"},\"line_dash\":[4,4],\"line_width\":{\"value\":2},\"plot\":null,\"render_mode\":\"css\",\"right_units\":\"screen\",\"top_units\":\"screen\"},\"id\":\"de41be65-c5c3-4b2b-afc3-1e29516d4f3b\",\"type\":\"BoxAnnotation\"},{\"attributes\":{\"callback\":null,\"renderers\":[{\"id\":\"18fe1bd6-74ec-46c8-994a-fc68bcd99976\",\"type\":\"GlyphRenderer\"}],\"tooltips\":[[\"dist_VS\",\"@{dist_VS}\"],[\"Depth\",\"@{Depth}\"]]},\"id\":\"961a1293-3d58-4300-9e6b-94b85fb75a98\",\"type\":\"HoverTool\"},{\"attributes\":{},\"id\":\"2220be6d-1499-45c4-ae4f-a9c03bc84c07\",\"type\":\"BasicTickFormatter\"},{\"attributes\":{},\"id\":\"04c28b88-c0a3-4070-a53f-705778379b97\",\"type\":\"SaveTool\"}],\"root_ids\":[\"197896b0-6ed3-4c5a-b798-b38f4d93b362\"]},\"title\":\"Bokeh Application\",\"version\":\"0.13.0\"}};\n",
       "  var render_items = [{\"docid\":\"8bf9f86a-f7b6-436f-918f-79eec5949d34\",\"roots\":{\"197896b0-6ed3-4c5a-b798-b38f4d93b362\":\"92c90bc6-0940-400f-84dc-1071f6c85061\"}}];\n",
       "  root.Bokeh.embed.embed_items_notebook(docs_json, render_items);\n",
       "\n",
       "  }\n",
       "  if (root.Bokeh !== undefined) {\n",
       "    embed_document(root);\n",
       "  } else {\n",
       "    var attempts = 0;\n",
       "    var timer = setInterval(function(root) {\n",
       "      if (root.Bokeh !== undefined) {\n",
       "        embed_document(root);\n",
       "        clearInterval(timer);\n",
       "      }\n",
       "      attempts++;\n",
       "      if (attempts > 100) {\n",
       "        console.log(\"Bokeh: ERROR: Unable to run BokehJS code because BokehJS library is missing\")\n",
       "        clearInterval(timer);\n",
       "      }\n",
       "    }, 10, root)\n",
       "  }\n",
       "})(window);"
      ],
      "application/vnd.holoviews_exec.v0+json": "",
      "text/html": [
       "<div id='197896b0-6ed3-4c5a-b798-b38f4d93b362' style='display: table; margin: 0 auto;'>\n",
       "\n",
       "\n",
       "\n",
       "\n",
       "\n",
       "  <div class=\"bk-root\" id=\"92c90bc6-0940-400f-84dc-1071f6c85061\"></div>\n",
       "</div>"
      ],
      "text/plain": [
       ":Curve   [dist_VS]   (Depth)"
      ]
     },
     "metadata": {
      "application/vnd.holoviews_exec.v0+json": {
       "id": "197896b0-6ed3-4c5a-b798-b38f4d93b362"
      }
     },
     "output_type": "display_data"
    }
   ],
   "source": [
    "ds_survey, info_survey = ospy.subsample.survey(ds,\n",
    "                                               info,\n",
    "                                               lat1       =  66.9,   \n",
    "                                               lon1       = -29.8,\n",
    "                                               lat2       =  65.5,\n",
    "                                               lon2       = -24.6,\n",
    "                                               delta_km   = 2,\n",
    "                                               varList    = ['U', 'V', 'Depth'],\n",
    "                                               depthRange = [0, -700],\n",
    "                                               timeRange  = ['2008-02-01T00', '2008-02-01T18'],\n",
    "                                               deep_copy  = True)\n",
    "_ = ospy.visualize.interactive(ds_survey, info_survey)"
   ]
  },
  {
   "cell_type": "markdown",
   "metadata": {},
   "source": [
    "![alt](images/tutorial_survey.png)"
   ]
  },
  {
   "cell_type": "markdown",
   "metadata": {},
   "source": [
    "### Rotate axis\n",
    "\n",
    "Often times oceanographers are interested in the velocity components tangential and orthogonal to a section. The axis can be rotated using ``ospy.compute``:"
   ]
  },
  {
   "cell_type": "code",
   "execution_count": 11,
   "metadata": {},
   "outputs": [
    {
     "name": "stdout",
     "output_type": "stream",
     "text": [
      "units : m/s\n",
      "long_name : orthogonal velocity\n",
      "direction : positive: flow keeps larger distances to the right\n",
      "rotation_angle : 328.68838107901024 deg (positive: counterclockwise)\n",
      "history : Computed offline by OceanSpy\n",
      "\n",
      "Dimension : time\n",
      "      long_name : model_time\n",
      "      axis : time\n",
      "Dimension : Z\n",
      "      units : meters\n",
      "      long_name : vertical coordinate of cell center\n",
      "      positive : up\n",
      "      axis : Z\n",
      "Dimension : dist_VS\n",
      "      long_name : Distance from vertex 1\n",
      "      units : km\n"
     ]
    },
    {
     "data": {
      "application/javascript": [
       "\n",
       "// Ugly hack - see #2574 for more information\n",
       "if (!(document.getElementById('f5368a2c-9772-4204-a3b7-4336a5cc4470')) && !(document.getElementById('_anim_img392967d18b244097a3adf19221804788'))) {\n",
       "  console.log(\"Creating DOM nodes dynamically for assumed nbconvert export. To generate clean HTML output set HV_DOC_HTML as an environment variable.\")\n",
       "  var htmlObject = document.createElement('div');\n",
       "  htmlObject.innerHTML = `<div class=\"hololayout row row-fluid\">\n",
       "  <div class=\"holoframe\" id=\"display_area392967d18b244097a3adf19221804788\">\n",
       "    <div id=\"_anim_img392967d18b244097a3adf19221804788\">\n",
       "      \n",
       "      <div id='f5368a2c-9772-4204-a3b7-4336a5cc4470' style='display: table; margin: 0 auto;'>\n",
       "\n",
       "\n",
       "\n",
       "\n",
       "\n",
       "  <div class=\"bk-root\" id=\"6bf3ecb6-be4e-45cf-8dc0-4505d0546353\"></div>\n",
       "</div>\n",
       "      \n",
       "    </div>\n",
       "  </div>\n",
       "  <div class=\"holowidgets\" id=\"widget_area392967d18b244097a3adf19221804788\">\n",
       "    <form class=\"holoform well\" id=\"form392967d18b244097a3adf19221804788\">\n",
       "      \n",
       "      \n",
       "      <div class=\"form-group control-group holoformgroup\" style=''>\n",
       "        <label for=\"textInput392967d18b244097a3adf19221804788_model_time\">\n",
       "          <strong>model_time:</strong>\n",
       "        </label>\n",
       "        <div class=\"holowell\">\n",
       "          <div class=\"hologroup\">\n",
       "            <input type=\"text\" class=\"holotext form-control input-small\"\n",
       "                   id=\"textInput392967d18b244097a3adf19221804788_model_time\" value=\"\" readonly>\n",
       "          </div>\n",
       "          <div class=\"holoslider\"\n",
       "               id=\"_anim_widget392967d18b244097a3adf19221804788_model_time\"></div>\n",
       "        </div>\n",
       "      </div>\n",
       "      \n",
       "        \n",
       "        </form>\n",
       "    </div>\n",
       "</div>`;\n",
       "  var scriptTags = document.getElementsByTagName('script');\n",
       "  var parentTag = scriptTags[scriptTags.length-1].parentNode;\n",
       "  parentTag.append(htmlObject)\n",
       "}\n",
       "/* Instantiate the BokehSelectionWidget class. */\n",
       "/* The IDs given should match those used in the template above. */\n",
       "var widget_ids = new Array(1);\n",
       "\n",
       "\n",
       "widget_ids[0] = \"_anim_widget392967d18b244097a3adf19221804788_model_time\";\n",
       "\n",
       "\n",
       "function create_widget() {\n",
       "  var frame_data = {};\n",
       "  var dim_vals = [0.0];\n",
       "  var keyMap = {};\n",
       "  var notFound = \"<h2 style='vertical-align: middle>No frame at selected dimension value.<h2>\";\n",
       "\n",
       "  var anim = new HoloViews.BokehSelectionWidget(frame_data, \"392967d18b244097a3adf19221804788\", widget_ids,\n",
       "  keyMap, dim_vals, notFound, false, \"default\",\n",
       "  false, \"./json_figures/\", true, \"f5368a2c-9772-4204-a3b7-4336a5cc4470\");\n",
       "\n",
       "  HoloViews.index['f5368a2c-9772-4204-a3b7-4336a5cc4470'] = anim;\n",
       "}\n",
       "\n",
       "\n",
       "\n",
       "\n",
       "HoloViews.init_slider('392967d18b244097a3adf19221804788', 'f5368a2c-9772-4204-a3b7-4336a5cc4470', 'model_time', {0: 0, 1: 1, 2: 2, 3: 3}, {}, ['2008-02-01 00:00:00', '2008-02-01 06:00:00', '2008-02-01 12:00:00', '2008-02-01 18:00:00'], true, 1, 0, 'None', 0, 50, 'https://code.jquery.com/ui/1.10.4/jquery-ui.min.js', 'https://cdnjs.cloudflare.com/ajax/libs/underscore.js/1.8.3/underscore-min.js')\n",
       "\n",
       "\n",
       "\n",
       "\n",
       "create_widget();\n",
       "\n",
       "// Ugly hack - see #2574 for more information\n",
       "if (!(document.getElementById('f5368a2c-9772-4204-a3b7-4336a5cc4470')) && !(document.getElementById('_anim_imgNone'))) {\n",
       "  console.log(\"Creating DOM nodes dynamically for assumed nbconvert export. To generate clean HTML output set HV_DOC_HTML as an environment variable.\")\n",
       "  var htmlObject = document.createElement('div');\n",
       "  htmlObject.innerHTML = `<div id='f5368a2c-9772-4204-a3b7-4336a5cc4470' style='display: table; margin: 0 auto;'>\n",
       "\n",
       "\n",
       "\n",
       "\n",
       "\n",
       "  <div class=\"bk-root\" id=\"6bf3ecb6-be4e-45cf-8dc0-4505d0546353\"></div>\n",
       "</div>`;\n",
       "  var scriptTags = document.getElementsByTagName('script');\n",
       "  var parentTag = scriptTags[scriptTags.length-1].parentNode;\n",
       "  parentTag.append(htmlObject)\n",
       "}\n",
       "(function(root) {\n",
       "  function embed_document(root) {\n",
       "    \n",
       "  var docs_json = {\"9ccc915c-a035-4d07-8dd6-3482eb32aa2a\":{\"roots\":{\"references\":[{\"attributes\":{},\"id\":\"0781f984-85db-4775-a3c4-b4bd7860586b\",\"type\":\"LinearScale\"},{\"attributes\":{\"axis_label\":\"dist_VS\",\"bounds\":\"auto\",\"formatter\":{\"id\":\"f3b7c8c1-7671-43a5-8d15-61713aff4c5a\",\"type\":\"BasicTickFormatter\"},\"major_label_orientation\":\"horizontal\",\"plot\":{\"id\":\"f5368a2c-9772-4204-a3b7-4336a5cc4470\",\"subtype\":\"Figure\",\"type\":\"Plot\"},\"ticker\":{\"id\":\"816f85f7-3a13-4aa0-ac85-bfe02c94787a\",\"type\":\"BasicTicker\"}},\"id\":\"8862f0c4-86de-4e5f-9730-4b6d1d6e447a\",\"type\":\"LinearAxis\"},{\"attributes\":{},\"id\":\"83e104b4-0912-4714-9ec5-688f2eaee150\",\"type\":\"Selection\"},{\"attributes\":{\"axis_label\":\"Z\",\"bounds\":\"auto\",\"formatter\":{\"id\":\"23305144-90e6-4bf3-89c3-e89b9e51745c\",\"type\":\"BasicTickFormatter\"},\"major_label_orientation\":\"horizontal\",\"plot\":{\"id\":\"f5368a2c-9772-4204-a3b7-4336a5cc4470\",\"subtype\":\"Figure\",\"type\":\"Plot\"},\"ticker\":{\"id\":\"7c3f0e2c-00d9-49c1-ba55-3f5df9d3c524\",\"type\":\"BasicTicker\"}},\"id\":\"df44d9ab-740a-4489-b0cc-8c87ba3f4cc0\",\"type\":\"LinearAxis\"},{\"attributes\":{},\"id\":\"14e005bb-7d61-4fee-b55c-88d70eb535ad\",\"type\":\"PanTool\"},{\"attributes\":{\"overlay\":{\"id\":\"5ed3c514-fbf1-4241-907c-41ecf602c10d\",\"type\":\"BoxAnnotation\"}},\"id\":\"afdd65c9-834a-4818-9427-5bf8ff0d0958\",\"type\":\"BoxZoomTool\"},{\"attributes\":{\"bottom_units\":\"screen\",\"fill_alpha\":{\"value\":0.5},\"fill_color\":{\"value\":\"lightgrey\"},\"left_units\":\"screen\",\"level\":\"overlay\",\"line_alpha\":{\"value\":1.0},\"line_color\":{\"value\":\"black\"},\"line_dash\":[4,4],\"line_width\":{\"value\":2},\"plot\":null,\"render_mode\":\"css\",\"right_units\":\"screen\",\"top_units\":\"screen\"},\"id\":\"5ed3c514-fbf1-4241-907c-41ecf602c10d\",\"type\":\"BoxAnnotation\"},{\"attributes\":{\"callback\":null,\"renderers\":[{\"id\":\"5695e676-1c00-4c20-8673-189553169787\",\"type\":\"GlyphRenderer\"}],\"tooltips\":[[\"ort_Vel\",\"@{ort_Vel}\"]]},\"id\":\"aca46263-477a-4ca8-b098-6fd5b2905a30\",\"type\":\"HoverTool\"},{\"attributes\":{\"callback\":null,\"end\":278.5801810331932,\"reset_end\":278.5801810331932,\"reset_start\":0.0},\"id\":\"58215d89-2ba1-4598-9805-5ff20d36c36e\",\"type\":\"Range1d\"},{\"attributes\":{},\"id\":\"af0f8843-eb07-4837-ace9-729d3c7f6a3b\",\"type\":\"SaveTool\"},{\"attributes\":{\"below\":[{\"id\":\"8862f0c4-86de-4e5f-9730-4b6d1d6e447a\",\"type\":\"LinearAxis\"}],\"left\":[{\"id\":\"df44d9ab-740a-4489-b0cc-8c87ba3f4cc0\",\"type\":\"LinearAxis\"}],\"min_border_bottom\":10,\"min_border_left\":10,\"min_border_right\":10,\"min_border_top\":10,\"plot_height\":300,\"plot_width\":700,\"renderers\":[{\"id\":\"8862f0c4-86de-4e5f-9730-4b6d1d6e447a\",\"type\":\"LinearAxis\"},{\"id\":\"73408839-c449-4b93-b5fa-def28d1eb4cf\",\"type\":\"Grid\"},{\"id\":\"df44d9ab-740a-4489-b0cc-8c87ba3f4cc0\",\"type\":\"LinearAxis\"},{\"id\":\"6ab856d5-c83e-40f9-8472-c27f73b5a9e4\",\"type\":\"Grid\"},{\"id\":\"5ed3c514-fbf1-4241-907c-41ecf602c10d\",\"type\":\"BoxAnnotation\"},{\"id\":\"5695e676-1c00-4c20-8673-189553169787\",\"type\":\"GlyphRenderer\"},{\"id\":\"5da97e3d-eb42-4082-9cb1-fa6e6bc74d6c\",\"type\":\"ColorBar\"}],\"right\":[{\"id\":\"5da97e3d-eb42-4082-9cb1-fa6e6bc74d6c\",\"type\":\"ColorBar\"}],\"title\":{\"id\":\"58947aa7-6f13-43be-9b01-2cc59d3a251a\",\"type\":\"Title\"},\"toolbar\":{\"id\":\"73171370-2ad7-4e6d-b2a2-55e75633e221\",\"type\":\"Toolbar\"},\"x_range\":{\"id\":\"58215d89-2ba1-4598-9805-5ff20d36c36e\",\"type\":\"Range1d\"},\"x_scale\":{\"id\":\"12736a66-f850-41b4-ad89-2d5cb15b796a\",\"type\":\"LinearScale\"},\"y_range\":{\"id\":\"10f44553-a8c4-476b-8648-6dcdc89a5611\",\"type\":\"Range1d\"},\"y_scale\":{\"id\":\"0781f984-85db-4775-a3c4-b4bd7860586b\",\"type\":\"LinearScale\"}},\"id\":\"f5368a2c-9772-4204-a3b7-4336a5cc4470\",\"subtype\":\"Figure\",\"type\":\"Plot\"},{\"attributes\":{\"plot\":null,\"text\":\"model_time: 2008-02-01 00:00:00\",\"text_color\":{\"value\":\"black\"},\"text_font_size\":{\"value\":\"12pt\"}},\"id\":\"58947aa7-6f13-43be-9b01-2cc59d3a251a\",\"type\":\"Title\"},{\"attributes\":{},\"id\":\"7c3f0e2c-00d9-49c1-ba55-3f5df9d3c524\",\"type\":\"BasicTicker\"},{\"attributes\":{\"dimension\":1,\"grid_line_color\":{\"value\":null},\"plot\":{\"id\":\"f5368a2c-9772-4204-a3b7-4336a5cc4470\",\"subtype\":\"Figure\",\"type\":\"Plot\"},\"ticker\":{\"id\":\"7c3f0e2c-00d9-49c1-ba55-3f5df9d3c524\",\"type\":\"BasicTicker\"}},\"id\":\"6ab856d5-c83e-40f9-8472-c27f73b5a9e4\",\"type\":\"Grid\"},{\"attributes\":{},\"id\":\"12982753-51de-4aaf-ac4e-a2f51f295190\",\"type\":\"ResetTool\"},{\"attributes\":{\"high\":1,\"low\":-1,\"palette\":[\"#00004c\",\"#000070\",\"#000095\",\"#0000bc\",\"#0000e0\",\"#0d0dff\",\"#4141ff\",\"#7979ff\",\"#adadff\",\"#e5e5ff\",\"#ffe5e5\",\"#ffadad\",\"#ff7979\",\"#ff4141\",\"#ff0d0d\",\"#e90000\",\"#cf0000\",\"#b30000\",\"#990000\",\"#7f0000\"]},\"id\":\"7cd5bef8-c4ca-4df1-91c5-fa4e8daf26a8\",\"type\":\"LinearColorMapper\"},{\"attributes\":{},\"id\":\"de2eca2b-7267-47a3-ac1a-5a3d4579a266\",\"type\":\"WheelZoomTool\"},{\"attributes\":{\"callback\":null,\"data\":{\"ort_Vel\":{\"__ndarray__\":\"AAAAAAAA8L89z/M8z/Psv3qe53me5+m/t23btm3b5r/0PM/zPM/jvzEMwzAMw+C/3LZt27Zt279WVVVVVVXVv6DneZ7nec6/lCRJkiRJwr8ghmEYhmGovwCGYRiGYag/kCRJkiRJwj+g53me53nOP1RVVVVVVdU/2LZt27Zt2z8wDMMwDMPgP/Q8z/M8z+M/tm3btm3b5j94nud5nufpPzzP8zzP8+w/\",\"dtype\":\"float64\",\"shape\":[21]},\"xs\":[{\"__ndarray__\":\"\",\"dtype\":\"float64\",\"shape\":[0]},{\"__ndarray__\":\"TvGbx/EIY0As1RkhF/RiQINxugcg1GJALNUZIRf0YkAs1RkhF/RiQE7xm8fxCGNAAAAAAAAA+H+JmOt2EbRiQKYpdH5OymJAiZjrdhG0YkBSrws1E6piQImY63YRtGJA\",\"dtype\":\"float64\",\"shape\":[12]},{\"__ndarray__\":\"HjwyQOhBY0CfCPqvpEZjQBchrFQYNGNAsy6oO90NY0DwB4V6IhxjQBchrFQYNGNAS0xZ1H5HY0AePDJA6EFjQAAAAAAAAPh/OmR/AhQmY0As1RkhF/RiQJNKLV6z7WJALNUZIRf0YkC0Hb1AtgljQBfLeJ3V/WJALNUZIRf0YkBeqXvWg9NiQImY63YRtGJAVD85ePGSYkCW7CmftHxiQPS+jl31fGJAMt230AObYkCJmOt2EbRiQINxugcg1GJALNUZIRf0YkBO8ZvH8QhjQCzVGSEX9GJALNUZIRf0YkA6ZH8CFCZjQAAAAAAAAPh/Uq8LNROqYkCJmOt2EbRiQKYpdH5OymJAiZjrdhG0YkBSrws1E6piQAAAAAAAAPh/ASAABc6zYUA9t+IeOLxhQDeyQg52w2FAW6elEUfJYUDC5cuwztBhQAEgAAXOs2FAZ7J27LFzYUDjHSwzSm9hQGeyduyxc2FAMqTAjjt8YUDBfUXn4IphQMxxSSuXnWFAASAABc6zYUA=\",\"dtype\":\"float64\",\"shape\":[49]},{\"__ndarray__\":\"aWA77XRaY0AIi9j71mZjQBchrFQYNGNABSkgf676YkAWIaxUGDRjQLIHqn34RmNAFyGsVBg0Y0CwdlSKITBjQEpWgfu+LmNAln2YJCceY0CtmmgSgRFjQMA8jOWrD2NAppAlPAn2YkAs1RkhF/RiQEv0H7eAwGJADW5R2AC6YkCJmOt2EbRiQGAkcby4m2JA43MsVAd0YkAd6PtkO2liQA9jJRxCYGJA5nvQpFdUYkAdZ1sGwk1iQGx559ZOUWJAvsYp9WZSYkDKz8oF/VFiQONzLFQHdGJA43MsVAd0YkDjcyxUB3RiQDLdt9ADm2JA9L6OXfV8YkCW7CmftHxiQFQ/OXjxkmJAiZjrdhG0YkBeqXvWg9NiQCzVGSEX9GJAFst4ndX9YkC0Hb1AtgljQCzVGSEX9GJAk0otXrPtYkAs1RkhF/RiQDpkfwIUJmNALNUZIRf0YkAs1RkhF/RiQCzVGSEX9GJALNUZIRf0YkDwB4V6IhxjQLMuqDvdDWNAFyGsVBg0Y0CfCPqvpEZjQB48MkDoQWNAS0xZ1H5HY0DrNzow+mljQGlgO+10WmNAAAAAAAAA+H8BIAAFzrNhQCfz/TVxwWFAhRBjzz7gYUCvddaofephQAP0YSj672FAAE4qneXzYUDdTLo8t/RhQFH0lG6w+WFAAE4qneXzYUDC5cuwztBhQFunpRFHyWFAN7JCDnbDYUA9t+IeOLxhQAEgAAXOs2FAzHFJK5edYUDBfUXn4IphQDKkwI47fGFAZ7J27LFzYUDjHSwzSm9hQC0Dh9uJP2FAsHMOIy9HYUBkfvipckxhQPRyz70VUmFA4MoFwpVdYUBnsnbssXNhQBDMZ1DFkGFAASAABc6zYUAAAAAAAAD4f7r+1Cc4cGhAYkYB2AV2aECUzK8DwH9oQJ5Tdc5eiGhA0vJiKdOTaEC6/tQnOHBoQINrhueSMGhAxjiHkEocaEAWORhSwiZoQFzuoOBHL2hAg2uG55IwaEAHNmEXjVpoQLr+1Cc4cGhA\",\"dtype\":\"float64\",\"shape\":[96]},{\"__ndarray__\":\"3P6XExV0Y0AAsTHmiYRjQK1+YUTkhmNA3P6XExV0Y0C0hESaAXNjQNz+lxMVdGNAPBikADmHY0Dc/pcTFXRjQL8d9P0tPWNAjgnTNFlrY0AaRSlPvlBjQJYVoAU+VWNAlz1lNYNAY0AHL/WUoTVjQPUO6WjTQWNAFyGsVBg0Y0AIe0oNpi9jQC5DouchEWNALNUZIRf0YkBaLmuv4vNiQLaBW8ir5mJAELsW6ULVYkBpfz5I6cNiQJSxW028wWJAiZjrdhG0YkBpX3N0enhiQONzLFQHdGJAeooKIIZkYkD0FtEzUUpiQLIHeGEwOmJAhvrntvgzYkB2QiDnIzNiQAL/6/rLKWJAJW1hz84mYkCrR+5iWCliQKOdvDEEKmJAhvrntvgzYkDKz8oF/VFiQL7GKfVmUmJAbHnn1k5RYkAdZ1sGwk1iQOZ70KRXVGJAD2MlHEJgYkAc6PtkO2liQONzLFQHdGJAYCRxvLibYkCJmOt2EbRiQAxuUdgAumJAS/Qft4DAYkAs1RkhF/RiQKaQJTwJ9mJAwDyM5asPY0CtmmgSgRFjQJZ9mCQnHmNASlaB+74uY0CwdlSKITBjQBchrFQYNGNAsgeqffhGY0AXIaxUGDRjQAUpIH+u+mJAFyGsVBg0Y0AIi9j71mZjQGlgO+10WmNA6zc6MPppY0Dc/pcTFXRjQNz+lxMVdGNAAAAAAAAA+H+t25tRkTNhQGeyduyxc2FAnRVBDKKIYUABIAAFzrNhQABOKp3l82FAyVp+zwf4YUDDoN8ZOAJiQKrpz6d/CGJANAtErEsMYkB3crwAJQ9iQK5kBJIiEmJAXlSPys8WYkBR9JRusPlhQN1Mujy39GFAAE4qneXzYUAD9GEo+u9hQK911qh96mFAhRBjzz7gYUAn8/01ccFhQAEgAAXOs2FAEMxnUMWQYUBnsnbssXNhQODKBcKVXWFA9HLPvRVSYUBkfvipckxhQLBzDiMvR2FALQOH24k/YUCt25tRkTNhQHbeAJIOEmFARWH6Vw0ZYUDyypQrfR1hQDaZPQNhIWFA0bpOIt0lYUBNzom3rSxhQOxHQ0czL2FAhl1PbfouYUCt25tRkTNhQAAAAAAAAPh/uv7UJzhwaEDVgwky4H9oQCR/Ya5RlWhAsjjLWMSgaECFmuOPtKhoQDyuEB3Zr2hAp8z6k0ewaEC8M6e1I7doQDyuEB3Zr2hA0vJiKdOTaECeU3XOXohoQJTMrwPAf2hAYkYB2AV2aEC6/tQnOHBoQAc2YReNWmhAg2uG55IwaEBb7qDgRy9oQBU5GFLCJmhAxjiHkEocaEB6ADncMPZnQLBM2RRyAGhADFVjj+4IaECNL8iv3hVoQB6CeR9NKWhAg2uG55IwaEDD2I/q3VJoQLr+1Cc4cGhA\",\"dtype\":\"float64\",\"shape\":[132]},{\"__ndarray__\":\"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\",\"dtype\":\"float64\",\"shape\":[197]},{\"__ndarray__\":\"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\",\"dtype\":\"float64\",\"shape\":[286]},{\"__ndarray__\":\"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\",\"dtype\":\"float64\",\"shape\":[415]},{\"__ndarray__\":\"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\",\"dtype\":\"float64\",\"shape\":[673]},{\"__ndarray__\":\"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\",\"dtype\":\"float64\",\"shape\":[1034]},{\"__ndarray__\":\"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\",\"dtype\":\"float64\",\"shape\":[974]},{\"__ndarray__\":\"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\",\"dtype\":\"float64\",\"shape\":[527]},{\"__ndarray__\":\"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\",\"dtype\":\"float64\",\"shape\":[217]},{\"__ndarray__\":\"cbdZt2dJZEBnLh4camxkQKEgbUJWa2RAlhAeLqFUZECmrDMjcF9kQMCzyhrBVmRAnNc6J3BOZEABmT3tTE5kQPmR24lDT2RA6ep8yMhSZEB5zhDnj1ZkQCLZtpBRXGRA0PX6O51iZECnszKNXmZkQMvws0S7c2RA7MQHqNtzZECHcqZAIYBkQER1KD3Cs2RAXrFnCfXaZEDjf9M9YO5kQOGtbmmk82RAprKE4TIDZUCRTg3sthZlQAo9ZUlTGGVAzrqe+/IPZUDwgtMugjNlQPCC0y6CM2VAmS7CAe5rZUAWvX/Ac2plQOGDUI9bc2VA4YNQj1tzZUDhg1CPW3NlQIQ7c10ZoGVAzpW98HqhZUCy0KcV+59lQDRFq9a0mWVA7PzstfaVZUC0Kg6vIZhlQHb+tOdPnWVA3rGO7b+YZUCEsuZJWJ5lQA5+dy3BoGVAENRh5FqnZUB3xnTej6plQGPBrypnn2VAI3OgN1KmZUA8N3C6YZxlQOGDUI9bc2VA8ILTLoIzZUBUs+voKi9lQAABZRl0BWVA4a1uaaTzZED8sFheefNkQEAyLxIu1WRAd1Kqvh25ZEBEdSg9wrNkQOzEB6jbc2RAnurFvoxcZEDqTnXvUVBkQAlo1jMuSWRAqsDVT948ZEANLiooyzRkQFAFFKjwM2RAqivXotkuZEAEQQP8vC1kQKfMAOkdKWRA3qiU7s4sZECbJ8CswStkQKRn2u74K2RAmd3P5+svZED4YCXNgS9kQPtX3w+LK2RAkjLfQsIpZEBenzLBfitkQGwfwlUeLGRAUvz1R5gtZEC1I2DI5C5kQFAFFKjwM2RAsNWzoo41ZEBQBRSo8DNkQO3MZpSyMmRAv/HjYjgpZEBQBRSo8DNkQCXsHHRCQ2RAcbdZt2dJZEAAAAAAAAD4fz9UjN1N7GRA4a1uaaTzZEDhrW5ppPNkQPW5pMHH7WRAP1SM3U3sZEA=\",\"dtype\":\"float64\",\"shape\":[91]},{\"__ndarray__\":\"Zy4eHGpsZEDsxAeo23NkQOzEB6jbc2RA7MQHqNtzZEBEdSg9wrNkQER1KD3Cs2RA7MQHqNtzZEB9ZxfzP29kQCksCqRVcGRA7MQHqNtzZEAa3qzB03dkQER1KD3Cs2RAY/WPyZvCZEC6M4nxHsdkQJyyId3ou2RAP1SM3U3sZED1uaTBx+1kQOGtbmmk82RA4a1uaaTzZEDhrW5ppPNkQOGtbmmk82RAzrqe+/IPZUALPWVJUxhlQJFODey2FmVAprKE4TIDZUDhrW5ppPNkQOR/0z1g7mRAXbFnCfXaZEBEdSg9wrNkQIdypkAhgGRA7MQHqNtzZEDL8LNEu3NkQKizMo1eZmRA0PX6O51iZEAi2baQUVxkQHnOEOePVmRA6ep8yMhSZED5kduJQ09kQACZPe1MTmRAnNc6J3BOZEDAs8oawVZkQKasMyNwX2RAlhAeLqFUZEChIG1CVmtkQGcuHhxqbGRA\",\"dtype\":\"float64\",\"shape\":[45]},{\"__ndarray__\":\"7MQHqNtzZEBEdSg9wrNkQER1KD3Cs2RAnLIh3ei7ZEC6M4nxHsdkQGP1j8mbwmRARHUoPcKzZEAa3qzB03dkQOzEB6jbc2RAKSwKpFVwZEB9ZxfzP29kQOzEB6jbc2RA\",\"dtype\":\"float64\",\"shape\":[12]},{\"__ndarray__\":\"\",\"dtype\":\"float64\",\"shape\":[0]},{\"__ndarray__\":\"\",\"dtype\":\"float64\",\"shape\":[0]},{\"__ndarray__\":\"\",\"dtype\":\"float64\",\"shape\":[0]},{\"__ndarray__\":\"\",\"dtype\":\"float64\",\"shape\":[0]},{\"__ndarray__\":\"\",\"dtype\":\"float64\",\"shape\":[0]}],\"ys\":[{\"__ndarray__\":\"\",\"dtype\":\"float64\",\"shape\":[0]},{\"__ndarray__\":\"AAAAAAAUgcAMzRyU1eKAwNwqBv4V2IDAAAAAAAAUgcDE7rDWvjSBwAAAAAAAFIHAAAAAAAAA+H/eHs6sS0CAwAAAAAAAJIDAsON8aWOif8AAAAAAACSAwN4ezqxLQIDA\",\"dtype\":\"float64\",\"shape\":[12]},{\"__ndarray__\":\"AAAAAAB8gsAAAAAAAASCwHz8sX395oHAAAAAAAAEgsAAAAAAAHyCwAAAAAAAfILADCD8CGKggsAAAAAAAHyCwAAAAAAAAPh/AAAAAAAUgcACeFMHJp6AwAAAAAAAnIDAv2fwwuWVgMAAAAAAACSAwAAAAAAAWH/ABuCnvAvCfsAAAAAAAGh+wL4vCxFbFn7AAAAAAABofsAAAAAAAFh/wAAAAAAAJIDAAAAAAACcgMAAAAAAAJyAwNwqBv4V2IDADM0clNXigMAAAAAAABSBwMTusNa+NIHAD4524H1igcAAAAAAABSBwAAAAAAAAPh/AAAAAAAkgMCw43xpY6J/wAAAAAAAJIDA3h7OrEtAgMAAAAAAACSAwAAAAAAAAPh/VODA+kB3LMAAAAAAAAAnwAAAAAAAABzAAAAAAAAADMAAAAAAAADwvwAAAAAAAPC/AAAAAAAA8L8AAAAAAADwvyYVu9rbAwPAAAAAAAAADMAAAAAAAAAcwAAAAAAAACfAVODA+kB3LMA=\",\"dtype\":\"float64\",\"shape\":[49]},{\"__ndarray__\":\"AAAAAAB8gsAAAAAAAASCwFD96maitIHAAAAAAACMgcDjCOOp9kKBwAAAAAAAFIHAKgdvCyupgMAAAAAAAJyAwAAAAAAAJIDAAAAAAABYf8AAAAAAAGh+wAAAAAAAeH3AAAAAAACIfMA/zIsPXXp8wAAAAAAAmHvAAAAAAACoesCeLJGB20J6wAAAAAAAuHnAfrwj8hU3ecAAAAAAALh5wP//////p3rAAAAAAACYe8AAAAAAAIh8wAAAAAAAeH3AAAAAAABofsCSE415dth+wAAAAAAAWH/AAAAAAAAkgMAAAAAAAJyAwAAAAAAAnIDAAAAAAAAkgMABAAAAAFh/wAAAAAAAaH7Avi8LEVsWfsAAAAAAAGh+wAXgp7wLwn7AAAAAAABYf8AAAAAAACSAwL9n8MLllYDAAAAAAACcgMACeFMHJp6AwAAAAAAAFIHAD4524H1igcAAAAAAAIyBwAAAAAAABILAAAAAAAB8gsAAAAAAAHyCwAAAAAAABILAfPyxff3mgcAAAAAAAASCwAAAAAAAfILADCD8CGKggsBoegKfDOGCwAAAAAAAfILAAAAAAAAA+H+IQsMUFx45wAAAAAAAgDfAAAAAAAAAMcAAAAAAAAAnwAAAAAAAABzAHvQz6M1cEcAAAAAAAAAMwAAAAAAAAPC/AAAAAAAA8L8AAAAAAADwvwAAAAAAAAzAAAAAAAAAHMAAAAAAAAAnwFTgwPpAdyzAAAAAAAAAJ8AAAAAAAAAcwAAAAAAAAAzAJhW72tsDA8AAAAAAAADwvwAAAAAAAPC/AAAAAAAADMAAAAAAAAAcwAAAAAAAACfAAAAAAAAAMcBy1ILVN8M1wAAAAAAAgDfAiELDFBceOcAAAAAAAAD4f09Oieg7KCvAAAAAAAAAJ8AAAAAAAAAcwAAAAAAAAAzAAAAAAAAA8L8AAAAAAADwvwAAAAAAAPC/AAAAAAAA8L8AAAAAAAAMwAEAAAAAABzAfkVhxJgLHsAAAAAAAAAnwE9Oieg7KCvA\",\"dtype\":\"float64\",\"shape\":[96]},{\"__ndarray__\":\"AAAAAABsg8DvyQw+IU2DwAAAAAAA9ILAg0yIhQGDgsAAAAAAAHyCwPCsHi6vc4LAAAAAAAAEgsAvMF7EwduBwAAAAAAAjIHAAAAAAAAUgcAAAAAAAJyAwAAAAAAAJIDAAAAAAABYf8AAAAAAAGh+wAAAAAAAeH3AFVYMB7eqfMAAAAAAAIh8wAAAAAAAmHvAq0Zh8+qpesAAAAAAAKh6wAAAAAAAuHnAAAAAAADIeMAAAAAAANh3wAAAAAAA6HbAM468id4rdsAAAAAAAOh2wNci0H4O9XbAAAAAAADYd8AAAAAAAMh4wAAAAAAAuHnAlEjc10uAesAAAAAAAKh6wAAAAAAAmHvAAAAAAACIfMAAAAAAAHh9wAAAAAAAaH7AAAAAAABofsCSE415dth+wAAAAAAAaH7AAAAAAAB4fcAAAAAAAIh8wAAAAAAAmHvAAAAAAACoesAAAAAAALh5wH68I/IVN3nAAAAAAAC4ecCeLJGB20J6wAAAAAAAqHrAAAAAAACYe8A/zIsPXXp8wAAAAAAAiHzAAAAAAAB4fcAAAAAAAGh+wAAAAAAAWH/AAAAAAAAkgMAAAAAAAJyAwCoHbwsrqYDAAAAAAAAUgcDkCOOp9kKBwAAAAAAAjIHAUP3qZqK0gcAAAAAAAASCwAAAAAAAfILAaHoCnwzhgsAAAAAAAPSCwAAAAAAAbIPAAAAAAAAA+H8eqoUG6cREwOZ49cNGUUTAAAAAAADAQ8ApLh2yh7lCwHMNWR70xEDAAAAAAAAAP8AAAAAAAIA3wAAAAAAAADHAAAAAAAAAJ8AAAAAAAAAcwAAAAAAAAAzAAAAAAAAA8L8AAAAAAADwvwAAAAAAAAzAHvQz6M1cEcAAAAAAAAAcwAAAAAAAACfAAAAAAAAAMcAAAAAAAIA3wIhCwxQXHjnAAAAAAACAN8By1ILVN8M1wAAAAAAAADHAAAAAAAAAJ8AAAAAAAAAcwAAAAAAAAAzAAAAAAAAA8L8AAAAAAADwvwAAAAAAAPC/AAAAAAAADMAAAAAAAAAcwAAAAAAAACfAAAAAAAAAMcAAAAAAAIA3wAAAAAAAAD/AAAAAAADAQ8AeqoUG6cREwAAAAAAAAPh/9jV216WCO8AAAAAAAIA3wAAAAAAAADHAAAAAAAAAJ8AAAAAAAAAcwOSDmU6Djg7AAAAAAAAADMAAAAAAAADwvwAAAAAAAPC/AAAAAAAA8L8AAAAAAAAMwAAAAAAAABzAAAAAAAAAJ8BPTonoOygrwAAAAAAAACfAfUVhxJgLHsAAAAAAAAAcwAAAAAAAAAzAAAAAAAAA8L8AAAAAAADwvwAAAAAAAAzAAAAAAAAAHMAAAAAAAAAnwAAAAAAAADHAle4RALyVM8AAAAAAAIA3wPY1dtelgjvA\",\"dtype\":\"float64\",\"shape\":[132]},{\"__ndarray__\":\"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\",\"dtype\":\"float64\",\"shape\":[197]},{\"__ndarray__\":\"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\",\"dtype\":\"float64\",\"shape\":[286]},{\"__ndarray__\":\"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\",\"dtype\":\"float64\",\"shape\":[415]},{\"__ndarray__\":\"AAAAAAD0gsAWny3bOpiCwAAAAAAAfILAAAAAAAAEgsAZ3mpfqaGBwAAAAAAAjIHAWs7BuG13gcAAAAAAABSBwAAAAAAAnIDAAAAAAAAkgMAAAAAAAFh/wAAAAAAAaH7AAAAAAAB4fcAAAAAAAIh8wAAAAAAAmHvAAAAAAACoesAAAAAAALh5wAAAAAAAyHjASxeU3YE9eMAAAAAAANh3wAAAAAAA6HbAAAAAAAD4dcAAAAAAAAh1wAAAAAAAGHTAAAAAAAAoc8AAAAAAADhywAAAAAAASHHAAAAAAABYcMAAAAAAANBuwAAAAAAA8GzAAAAAAAAQa8AAAAAAADBpwAEAAAAAUGfAAAAAAABwZcAAAAAAAJBjwAAAAAAAsGHAGcptqXcTYcAAAAAAAKBfwAAAAAAA4FvA4V63ibkMWcAAAAAAAEBYwAAAAAAA4FTAAAAAAADAUcAAAAAAAMBNwAAAAAAAgEjA1Oh6GlvERMAAAAAAAMBDwEOrD36NQ0HAAAAAAAAAP8AAAAAAAIA3wAAAAAAAADHAAAAAAAAAJ8AAAAAAAAAcwAAAAAAAAAzAAAAAAAAA8L8AAAAAAADwvwAAAAAAAPC/AAAAAAAADMAAAAAAAAAcwAAAAAAAACfAAAAAAAAAMcAAAAAAAIA3wDE54pshxTvAAAAAAAAAP8AAAAAAAMBDwAAAAAAAgEjAAAAAAADATcAAAAAAAMBRwKAFM+JVNFPAAAAAAADgVMAAAAAAAEBYwAAAAAAA4FvAWNWBMRWPXMAAAAAAAKBfwAAAAAAAsGHAAAAAAACQY8AAAAAAAHBlwAAAAAAAUGfAAAAAAAAwacCBut8j8tFpwAAAAAAAEGvAAAAAAADwbMAAAAAAANBuwAAAAAAAWHDAAAAAAABIccAAAAAAADhywAAAAAAAKHPAAAAAAAAYdMAAAAAAAAh1wAAAAAAA+HXAAAAAAADodsCOkkGISTB3wAAAAAAA2HfAAAAAAADIeMAAAAAAALh5wAAAAAAAqHrAAAAAAACYe8AAAAAAAIh8wP//////d33AAAAAAABofsAAAAAAAFh/wOjYlBqh13/AAAAAAAAkgMAAAAAAAJyAwAAAAAAAFIHAAAAAAACMgcAAAAAAAASCwAAAAAAAfILAAQAAAAD0gsAAAAAAAPSCwAAAAAAAAPh/AAAAAAB4fcAAAAAAAIh8wAAAAAAAmHvAAAAAAACoesAAAAAAALh5wLsArc2Ba3nAAAAAAADIeMAAAAAAANh3wAAAAAAA6HbAAAAAAAD4dcAAAAAAAAh1wAAAAAAAGHTA//////8nc8DSmlU9OfpywP//////J3PABkKa5lwEdMABAAAAABh0wAAAAAAACHXA7mkNtRPQdcAAAAAAAPh1wBKi94O6MXbAAAAAAADodsAAAAAAANh3wAAAAAAAyHjA5h+d21gyecAAAAAAALh5wAAAAAAAqHrAAAAAAACoesAAAAAAAJh7wAAAAAAAiHzAAAAAAAB4fcAFw4VkY5t9wAAAAAAAeH3AAAAAAAAA+H8AAAAAAHh9wAAAAAAAiHzAAAAAAACYe8Awvw6N9X57wAEAAAAAqHrAAQAAAAC4ecAAAAAAAMh4wJMgldr4iXjAAAAAAADYd8AAAAAAAOh2wAAAAAAA+HXAAAAAAAAIdcAAAAAAABh0wAAAAAAAKHPAAAAAAAA4csAAAAAAAEhxwAAAAAAAWHDAAAAAAADQbsDsNQAdUMJtwAAAAAAA8GzAAAAAAAAQa8AAAAAAADBpwAAAAAAAUGfAmMIb3RPLZsAAAAAAAHBlwLQ12ZPVw2TAAAAAAACQY8AAAAAAALBhwPYj0rnDvmDAAAAAAACgX8AAAAAAAOBbwM7HEZUtFFnAAAAAAABAWMDm2jjUhHFVwAAAAAAA4FTAOfIZxwo0VMAAAAAAAMBRwAAAAAAAwE3AAAAAAACASMAAAAAAAMBDwAAAAAAAAD/AFNipJeNbO8D//////383wAAAAAAAADHAAAAAAAAAJ8AAAAAAAAAcwAAAAAAAAAzAAAAAAAAA8L8AAAAAAADwvwAAAAAAAPC/AAAAAAAADMAAAAAAAAAcwAAAAAAAACfAAAAAAAAAMcAAAAAAAIA3wABCrC2GgD7AAAAAAAAAP8AAAAAAAMBDwAAAAAAAgEjAAAAAAADATcAAAAAAAMBRwAAAAAAA4FTAXrdeYyTHV8AAAAAAAEBYwF6EaRCmfVvAAAAAAADgW8BtHG+IetlcwAAAAAAAoF/AAAAAAACwYcCb+mBSLPhhwAAAAAAAkGPAAAAAAABwZcAAAAAAAFBnwAAAAAAAMGnAAAAAAAAQa8ABAAAAAPBswAAAAAAA0G7AAAAAAABYcMAAAAAAAEhxwAAAAAAAOHLAILcCdy6bcsAAAAAAADhywD/DX+TXD3LAVZgN4BHeccAAAAAAADhywAAAAAAAKHPAsiGcXeXoc8AAAAAAABh0wAAAAAAACHXAAAAAAAD4dcAAAAAAAOh2wAAAAAAA2HfAAAAAAADIeMAAAAAAALh5wAAAAAAAqHrAAAAAAACYe8AAAAAAAIh8wAAAAAAAeH3AAAAAAABofsD//////2d+wAAAAAAAeH3AAAAAAAAA+H8AAAAAAOh2wGPIieCg1nbAAAAAAADodsAAAAAAAOh2wLE/StRI83bAAAAAAADodsAAAAAAAAD4f4zA9ukBC3bAAAAAAAD4dcCQFaTBwtB1wAAAAAAA+HXAjMD26QELdsAAAAAAAAD4f6ZeA/PXHXXAAAAAAAAIdcA0syA7ceF0wAAAAAAACHXApl4D89cddcAAAAAAAAD4f8jSQE2xCGzAAAAAAADwbMAAAAAAAPBswAAAAAAA8GzACxJ7/Hh7a8AAAAAAABBrwAAAAAAAMGnAAAAAAABQZ8AAAAAAAHBlwGhe854SbmTAAAAAAACQY8AAAAAAALBhwAAAAAAAoF/AAAAAAADgW8AAAAAAAEBYwAAAAAAA4FTAAAAAAADAUcAAAAAAAMBNwAAAAAAAgEjAAAAAAADAQ8AAAAAAAAA/wAAAAAAAgDfAAAAAAAAAMcAAAAAAAAAnwAAAAAAAABzAAAAAAAAADMAAAAAAAADwvwAAAAAAAPC/AAAAAAAADMAAAAAAAAAcwAAAAAAAACfAAAAAAAAAMcAAAAAAAIA3wJzh0AEaqTnAAAAAAAAAP8AAAAAAAMBDwAAAAAAAgEjAAQAAAADATcAAAAAAAMBRwAAAAAAA4FTAAAAAAABAWMAAAAAAAOBbwKfFO5zcdV/ASq+2uZI9XcAAAAAAAKBfwIeiLGQmRWHAAAAAAACwYcAaf80rH9thwAAAAAAAsGHAAAAAAACgX8AAAAAAAOBbwAAAAAAAQFjASCF5zl5iVcAAAAAAAOBUwAAAAAAAwFHAAAAAAADATcAAAAAAAIBIwAAAAAAAwEPAAAAAAAAAP8ABHwFlsD88wAAAAAAAgDfAAAAAAAAAMcDCXXzaIRswwAAAAAAAACfAAAAAAAAAHMAAAAAAAAAMwAAAAAAAAPC/AAAAAAAA8L8AAAAAAADwvwAAAAAAAPC/AAAAAAAA8L8AAAAAAAAMwHkHJ9QkuwzAAAAAAAAAHMAAAAAAAAAnwAAAAAAAADHAnIq8aG3+NMCyZnCr5Ak1wAAAAAAAgDfAgMko+mLTOMCvYL4zhE88wP///////z7AFBunXYBaQMAAAAAAAMBDwAAAAAAAgEjAAAAAAADATcAAAAAAAMBRwAAAAAAA4FTAAAAAAABAWMAAAAAAAOBbwP//////n1/AwkYLU6tQYMDcTxAvhkpgwAAAAAAAsGHAAAAAAACQY8AAAAAAAHBlwCpOKOmWnGXA4pGnAL/7ZcD4BgZ305llwAAAAAAAUGfAAAAAAAAwacAAAAAAABBrwMjSQE2xCGzAAAAAAAAA+H+nnXLJe1ZmwE6nL5fxG2fAAAAAAABwZcAAAAAAAHBlwC4DAfiXSmXAXC4DEpuoZMAAAAAAAJBjwAAAAAAAsGHAAAAAAACgX8AAAAAAAOBbwAAAAAAAQFjAAAAAAADgVMAAAAAAAMBRwAAAAAAAwE3AAAAAAACASMAAAAAAAMBDwAAAAAAAAD/AAQAAAACAN8AAAAAAAAAxwAAAAAAAACfAAAAAAAAAHMAAAAAAAAAMwAAAAAAAAPC/AAAAAAAA8L8AAAAAAADwvwAAAAAAAAzAAAAAAAAAHMAAAAAAAAAnwAAAAAAAADHAAAAAAACAN8AAAAAAAAA/wAAAAAAAwEPAAAAAAACASMAGqPTasb9KwAAAAAAAgEjAAAAAAADAQ8AAAAAAAAA/wAAAAAAAgDfAAAAAAAAAMcAAAAAAAAAnwAAAAAAAABzAAAAAAAAADMAAAAAAAADwvwAAAAAAAPC/AAAAAAAA8L8AAAAAAAAMwAAAAAAAABzAAAAAAAAAJ8AAAAAAAAAxwAEAAAAAgDfAdpuUF0LLPcAAAAAAAAA/wAAAAAAAwEPAAAAAAACASMAAAAAAAMBNwAAAAAAAwFHAAAAAAADgVMAAAAAAAEBYwAAAAAAA4FvAAAAAAACgX8AAAAAAALBhwAAAAAAAkGPAAAAAAABwZcCnnXLJe1ZmwAAAAAAAAPh/MN6ojZAjXcDUPh7lIwVewOfmfLHu/F3AAAAAAADgW8DrehfkwcNbwEBki/NaeVrAeDfSulomWcB6tt/tonpZwMFruBu4glnAIildqtIpWsCVZhaortpZwBxKnfNsuVjAAAAAAABAWMBzgMXAPZRXwAAAAAAA4FTAAAAAAADAUcAAAAAAAMBNwAAAAAAAgEjAAAAAAADAQ8AAAAAAAAA/wAAAAAAAgDfAyQmVAAJFNsC4rkQHn6IxwAAAAAAAADHAfZFFZGC7LsAAAAAAAAAxwB71lP8GojPAAAAAAAAAMcAAAAAAAAAnwAAAAAAAABzAAAAAAAAADMAAAAAAAADwvwAAAAAAAPC/AAAAAAAA8L8AAAAAAADwvwAAAAAAAPC/AAAAAAAA8L8AAAAAAADwvwAAAAAAAPC/AAAAAAAA8L8AAAAAAADwv3K9hTf2y/i/AAAAAAAA8L8AAAAAAADwvwAAAAAAAPC/AAAAAAAA8L8AAAAAAADwvwAAAAAAAPC/AAAAAAAA8L+6Gx8VtMH9vwAAAAAAAAzAGNtG1LcaEsAAAAAAAAAcwAAAAAAAACfAmZSzNfOhLMCeeqt9QMgvwAAAAAAAADHAwwfrJh6LMcA7I1htO9cxwBo8w2KaJzHAHS12dlQOMcAifrZuj1EywAAAAAAAADHAHKCaCUd1LsAsIuEp54owwAAAAAAAACfA7sxY3NeuI8BgdLutmAYiwEFtf64FFiLAAAAAAAAAHMCKFe2x2OgRwAAAAAAAAAzAAAAAAAAA8L8AAAAAAADwvwAAAAAAAPC/AAAAAAAA8L8AAAAAAAAMwAAAAAAAABzAklMZp75sJMAAAAAAAAAnwAAAAAAAADHAAAAAAACAN8AAAAAAAAA/wIFPIAesVkDAAAAAAADAQ8AAAAAAAIBIwAAAAAAAwE3AkIjivRRQUMAAAAAAAMBRwAAAAAAA4FTAfrNcT3kAVsAeBnRvjVhWwAAAAAAAQFjAudYAdd3zWMDk3TSsI7VbwAAAAAAA4FvAMN6ojZAjXcAAAAAAAAD4fwAAAAAAgEjAqlbBSGw+RcAAAAAAAIBIwJHYkvI01UzAAAAAAACASMAAAAAAAAD4fwAAAAAAAD/AeWEmuk9hPsAAAAAAAAA/wIdYqEmmI0DAAAAAAAAAP8AAAAAAAAD4fwAAAAAAAAzAcsxsiC7RBMABAAAAAAAMwHSinaxnwhHAAAAAAAAADMAAAAAAAAD4f4x9AxPLCl7AAAAAAADgW8AAAAAAAEBYwAAAAAAA4FTAAAAAAADgVMAAAAAAAMBRwAAAAAAAwFHAAAAAAADAUcAAAAAAAMBRwAAAAAAAwE3AAAAAAACASMAAAAAAAMBDwAAAAAAAAD/AAAAAAACAN8BVos+duUc1wAAAAAAAADHAAAAAAAAAJ8AAAAAAAAAcwEBScj/tBRHAAAAAAAAADMBGC1tHW6QIwAAAAAAAAPC/AAAAAAAA8L8AAAAAAADwvwAAAAAAAPC/AAAAAAAA8L8AAAAAAADwvwAAAAAAAPC/AAAAAAAA8L8AAAAAAADwvwAAAAAAAAzAAAAAAAAAHMBexziAmvQkwLE60udYph3AAAAAAAAAHMAAAAAAAAAMwAAAAAAAAPC/AAAAAAAA8L8AAAAAAADwvwAAAAAAAAzAAAAAAAAAHMBcmBo4UdwhwAAAAAAAACfAAAAAAAAAMcAAAAAAAIA3wAAAAAAAAD/AAAAAAADAQ8AAAAAAAIBIwAAAAAAAwE3AAAAAAADAUcAAAAAAAOBUwAAAAAAAQFjAAAAAAADgW8CMfQMTywpewAAAAAAAAPh/EFAQvTfIScCIQTXwK/xKwFPqRIbpG0rAAAAAAACASMDFE5q5q+RHwAAAAAAAwEPAAAAAAAAAP8BbXR/7b4s4wAAAAAAAgDfAAAAAAAAAMcD///////8mwAAAAAAAABzAAQAAAAAADMAAAAAAAADwvwAAAAAAAPC/AAAAAAAA8L8AAAAAAAAMwAAAAAAAABzAAAAAAAAAJ8AAAAAAAAAxwAAAAAAAgDfAyLSMrLe1PsAAAAAAAAA/wF6BwiJE2UHAVpMtMtSSQsBV1otAYQ9BwAAAAAAAAD/AAAAAAACAN8AAAAAAAAAxwAAAAAAAACfAAAAAAAAAHMAAAAAAAAAMwAAAAAAAAPC/AAAAAAAA8L8AAAAAAADwvwAAAAAAAPC/AAAAAAAA8L8AAAAAAAAMwAAAAAAAABzAAQAAAAAAJ8C/2aNJUH8nwAAAAAAAADHA34XO4hV9NMAAAAAAAIA3wAAAAAAAAD/AAAAAAADAQ8D7mNWB7QZGwAAAAAAAgEjAEFAQvTfIScAAAAAAAAD4f+CKmF/k7yvAO5s9hF5SLcD60+q9ro4swIzbSDwYBSjAAQAAAAAAJ8ABAAAAAAAcwAAAAAAAAAzAzsKF1/6hBMAAAAAAAADwvwAAAAAAAPC/AAAAAAAA8L8AAAAAAADwv8x5o8h8YwHAAAAAAAAADMAAAAAAAAAcwAAAAAAAACfA4IqYX+TvK8A=\",\"dtype\":\"float64\",\"shape\":[673]},{\"__ndarray__\":\"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\",\"dtype\":\"float64\",\"shape\":[1034]},{\"__ndarray__\":\"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\",\"dtype\":\"float64\",\"shape\":[974]},{\"__ndarray__\":\"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\",\"dtype\":\"float64\",\"shape\":[527]},{\"__ndarray__\":\"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\",\"dtype\":\"float64\",\"shape\":[217]},{\"__ndarray__\":\"lO99FGf3f8Aw0Wr48nN/wAAAAAAAWH/AAAAAAABofsAAAAAAAHh9wAAAAAAAiHzAAAAAAACYe8AAAAAAAKh6wAAAAAAAuHnAAAAAAADIeMAAAAAAANh3wAAAAAAA6HbAAAAAAAD4dcAAAAAAAAh1wAAAAAAAGHTA025e7u8KdMAAAAAAAChzwC17VVS6jXLAAAAAAAAoc8AAAAAAABh0wHiVcR1+MnTAAAAAAAAIdcAAAAAAAPh1wAAAAAAA6HbAvOOid6Btd8AAAAAAAOh2wAAAAAAA+HXA2btarOsjdcAAAAAAAAh1wLgaE5mqlHTAAAAAAAAYdMAAAAAAAChzwDfAZi7Hf3LAAAAAAAA4csAAAAAAAEhxwAAAAAAAWHDAAAAAAADQbsAAAAAAAPBswAAAAAAAEGvAAAAAAAAwacAAAAAAAFBnwAAAAAAAcGXAAAAAAACQY8AAAAAAALBhwAAAAAAAoF/AAAAAAADgW8AAAAAAAEBYwBZ5OcnzAVfA38U05WUlWMAAAAAAAEBYwAAAAAAA4FvA5qFw46eVX8D//////59fwAAAAAAAsGHAAAAAAACQY8BHgnMopstjwIz7mPLuwmPAAAAAAABwZcAAAAAAAFBnwAAAAAAAMGnAAAAAAAAQa8AAAAAAAPBswBDL6VeHCG3AAAAAAADQbsAAAAAAAFhwwAAAAAAASHHAAAAAAAA4csAAAAAAAChzwAEAAAAAGHTAAQAAAAAIdcAAAAAAAPh1wAAAAAAA6HbAAAAAAADYd8ABAAAAAMh4wAAAAAAAuHnAAAAAAACoesAAAAAAAJh7wLYaekyEV3zAAAAAAACIfMCYimxVzwR9wAAAAAAAeH3AAAAAAABofsBQ40h88Ol+wAAAAAAAWH/AlO99FGf3f8AAAAAAAAD4f8JApmWRw3rAAAAAAACoesDuoPJzKeV5wAAAAAAAqHrAwkCmZZHDesA=\",\"dtype\":\"float64\",\"shape\":[91]},{\"__ndarray__\":\"MNFq+PJzf8AAAAAAAFh/wAAAAAAAaH7AAAAAAAB4fcAAAAAAAIh8wARa4/n06HvA1JhTIcwXfMAAAAAAAJh7wAAAAAAAqHrAHI/x/cvdecAAAAAAALh5wIZnF9A413jAAAAAAAC4ecAAAAAAAKh6wPSasuJgeXvAwkCmZZHDesAAAAAAAKh6wO6g8nMp5XnAAAAAAAC4ecAAAAAAAMh4wAAAAAAA2HfAvOOid6Btd8AAAAAAAOh2wAAAAAAA+HXAAAAAAAAIdcB4lXEdfjJ0wAAAAAAAGHTAAAAAAAAoc8Ate1VUuo1ywAAAAAAAKHPA025e7u8KdMAAAAAAABh0wAAAAAAACHXAAAAAAAD4dcAAAAAAAOh2wAAAAAAA2HfAAAAAAADIeMAAAAAAALh5wAAAAAAAqHrAAAAAAACYe8AAAAAAAIh8wAAAAAAAeH3AAAAAAABofsAAAAAAAFh/wDDRavjyc3/A\",\"dtype\":\"float64\",\"shape\":[45]},{\"__ndarray__\":\"05hTIcwXfMAEWuP59Oh7wAAAAAAAmHvA9Jqy4mB5e8AAAAAAAKh6wAAAAAAAuHnAhmcX0DjXeMAAAAAAALh5wByP8f3L3XnAAAAAAACoesAAAAAAAJh7wNOYUyHMF3zA\",\"dtype\":\"float64\",\"shape\":[12]},{\"__ndarray__\":\"\",\"dtype\":\"float64\",\"shape\":[0]},{\"__ndarray__\":\"\",\"dtype\":\"float64\",\"shape\":[0]},{\"__ndarray__\":\"\",\"dtype\":\"float64\",\"shape\":[0]},{\"__ndarray__\":\"\",\"dtype\":\"float64\",\"shape\":[0]},{\"__ndarray__\":\"\",\"dtype\":\"float64\",\"shape\":[0]}]},\"selected\":{\"id\":\"83e104b4-0912-4714-9ec5-688f2eaee150\",\"type\":\"Selection\"},\"selection_policy\":{\"id\":\"9bebc132-ddbd-4cb2-a7de-a642e9491a9d\",\"type\":\"UnionRenderers\"}},\"id\":\"86a82e37-040a-428b-9cd9-493308eca239\",\"type\":\"ColumnDataSource\"},{\"attributes\":{\"callback\":null,\"end\":-1.0,\"reset_end\":-1.0,\"reset_start\":-621.5,\"start\":-621.5},\"id\":\"10f44553-a8c4-476b-8648-6dcdc89a5611\",\"type\":\"Range1d\"},{\"attributes\":{\"fill_alpha\":{\"value\":0.2},\"fill_color\":{\"field\":\"ort_Vel\",\"transform\":{\"id\":\"7cd5bef8-c4ca-4df1-91c5-fa4e8daf26a8\",\"type\":\"LinearColorMapper\"}},\"line_alpha\":{\"value\":0.2},\"line_color\":{\"value\":\"black\"},\"xs\":{\"field\":\"xs\"},\"ys\":{\"field\":\"ys\"}},\"id\":\"b81a579c-980c-464f-b551-f364afbd3116\",\"type\":\"Patches\"},{\"attributes\":{\"fill_alpha\":{\"value\":0.1},\"fill_color\":{\"field\":\"ort_Vel\",\"transform\":{\"id\":\"7cd5bef8-c4ca-4df1-91c5-fa4e8daf26a8\",\"type\":\"LinearColorMapper\"}},\"line_alpha\":{\"value\":0},\"line_color\":{\"value\":\"black\"},\"xs\":{\"field\":\"xs\"},\"ys\":{\"field\":\"ys\"}},\"id\":\"2ffcc9e1-d050-4b3d-ac2b-6fe23992d20a\",\"type\":\"Patches\"},{\"attributes\":{\"grid_line_color\":{\"value\":null},\"plot\":{\"id\":\"f5368a2c-9772-4204-a3b7-4336a5cc4470\",\"subtype\":\"Figure\",\"type\":\"Plot\"},\"ticker\":{\"id\":\"816f85f7-3a13-4aa0-ac85-bfe02c94787a\",\"type\":\"BasicTicker\"}},\"id\":\"73408839-c449-4b93-b5fa-def28d1eb4cf\",\"type\":\"Grid\"},{\"attributes\":{\"source\":{\"id\":\"86a82e37-040a-428b-9cd9-493308eca239\",\"type\":\"ColumnDataSource\"}},\"id\":\"36d689bf-90a7-4982-b9a2-ad3bf94a8392\",\"type\":\"CDSView\"},{\"attributes\":{},\"id\":\"cf450a9b-94a4-4861-b155-cbc2ab476387\",\"type\":\"BasicTickFormatter\"},{\"attributes\":{},\"id\":\"dfe4d79a-747f-4263-83b6-0d7c515f9b1b\",\"type\":\"BasicTicker\"},{\"attributes\":{},\"id\":\"12736a66-f850-41b4-ad89-2d5cb15b796a\",\"type\":\"LinearScale\"},{\"attributes\":{},\"id\":\"23305144-90e6-4bf3-89c3-e89b9e51745c\",\"type\":\"BasicTickFormatter\"},{\"attributes\":{\"active_drag\":\"auto\",\"active_inspect\":\"auto\",\"active_multi\":null,\"active_scroll\":\"auto\",\"active_tap\":\"auto\",\"tools\":[{\"id\":\"aca46263-477a-4ca8-b098-6fd5b2905a30\",\"type\":\"HoverTool\"},{\"id\":\"af0f8843-eb07-4837-ace9-729d3c7f6a3b\",\"type\":\"SaveTool\"},{\"id\":\"14e005bb-7d61-4fee-b55c-88d70eb535ad\",\"type\":\"PanTool\"},{\"id\":\"de2eca2b-7267-47a3-ac1a-5a3d4579a266\",\"type\":\"WheelZoomTool\"},{\"id\":\"afdd65c9-834a-4818-9427-5bf8ff0d0958\",\"type\":\"BoxZoomTool\"},{\"id\":\"12982753-51de-4aaf-ac4e-a2f51f295190\",\"type\":\"ResetTool\"}]},\"id\":\"73171370-2ad7-4e6d-b2a2-55e75633e221\",\"type\":\"Toolbar\"},{\"attributes\":{},\"id\":\"9bebc132-ddbd-4cb2-a7de-a642e9491a9d\",\"type\":\"UnionRenderers\"},{\"attributes\":{\"bar_line_color\":{\"value\":\"black\"},\"color_mapper\":{\"id\":\"7cd5bef8-c4ca-4df1-91c5-fa4e8daf26a8\",\"type\":\"LinearColorMapper\"},\"formatter\":{\"id\":\"cf450a9b-94a4-4861-b155-cbc2ab476387\",\"type\":\"BasicTickFormatter\"},\"label_standoff\":8,\"location\":[0,0],\"major_tick_line_color\":{\"value\":\"black\"},\"plot\":{\"id\":\"f5368a2c-9772-4204-a3b7-4336a5cc4470\",\"subtype\":\"Figure\",\"type\":\"Plot\"},\"ticker\":{\"id\":\"dfe4d79a-747f-4263-83b6-0d7c515f9b1b\",\"type\":\"BasicTicker\"}},\"id\":\"5da97e3d-eb42-4082-9cb1-fa6e6bc74d6c\",\"type\":\"ColorBar\"},{\"attributes\":{},\"id\":\"f3b7c8c1-7671-43a5-8d15-61713aff4c5a\",\"type\":\"BasicTickFormatter\"},{\"attributes\":{\"data_source\":{\"id\":\"86a82e37-040a-428b-9cd9-493308eca239\",\"type\":\"ColumnDataSource\"},\"glyph\":{\"id\":\"577486bf-481b-4421-b03a-c6d3c4821ad3\",\"type\":\"Patches\"},\"hover_glyph\":null,\"muted_glyph\":{\"id\":\"b81a579c-980c-464f-b551-f364afbd3116\",\"type\":\"Patches\"},\"nonselection_glyph\":{\"id\":\"2ffcc9e1-d050-4b3d-ac2b-6fe23992d20a\",\"type\":\"Patches\"},\"selection_glyph\":null,\"view\":{\"id\":\"36d689bf-90a7-4982-b9a2-ad3bf94a8392\",\"type\":\"CDSView\"}},\"id\":\"5695e676-1c00-4c20-8673-189553169787\",\"type\":\"GlyphRenderer\"},{\"attributes\":{\"fill_color\":{\"field\":\"ort_Vel\",\"transform\":{\"id\":\"7cd5bef8-c4ca-4df1-91c5-fa4e8daf26a8\",\"type\":\"LinearColorMapper\"}},\"line_alpha\":{\"value\":0},\"xs\":{\"field\":\"xs\"},\"ys\":{\"field\":\"ys\"}},\"id\":\"577486bf-481b-4421-b03a-c6d3c4821ad3\",\"type\":\"Patches\"},{\"attributes\":{},\"id\":\"816f85f7-3a13-4aa0-ac85-bfe02c94787a\",\"type\":\"BasicTicker\"}],\"root_ids\":[\"f5368a2c-9772-4204-a3b7-4336a5cc4470\"]},\"title\":\"Bokeh Application\",\"version\":\"0.13.0\"}};\n",
       "  var render_items = [{\"docid\":\"9ccc915c-a035-4d07-8dd6-3482eb32aa2a\",\"notebook_comms_target\":\"392967d18b244097a3adf19221804788\",\"roots\":{\"f5368a2c-9772-4204-a3b7-4336a5cc4470\":\"6bf3ecb6-be4e-45cf-8dc0-4505d0546353\"}}];\n",
       "  root.Bokeh.embed.embed_items_notebook(docs_json, render_items);\n",
       "\n",
       "  }\n",
       "  if (root.Bokeh !== undefined) {\n",
       "    embed_document(root);\n",
       "  } else {\n",
       "    var attempts = 0;\n",
       "    var timer = setInterval(function(root) {\n",
       "      if (root.Bokeh !== undefined) {\n",
       "        embed_document(root);\n",
       "        clearInterval(timer);\n",
       "      }\n",
       "      attempts++;\n",
       "      if (attempts > 100) {\n",
       "        console.log(\"Bokeh: ERROR: Unable to run BokehJS code because BokehJS library is missing\")\n",
       "        clearInterval(timer);\n",
       "      }\n",
       "    }, 10, root)\n",
       "  }\n",
       "})(window);"
      ],
      "application/vnd.holoviews_exec.v0+json": "",
      "text/html": [
       "<div class=\"hololayout row row-fluid\">\n",
       "  <div class=\"holoframe\" id=\"display_area392967d18b244097a3adf19221804788\">\n",
       "    <div id=\"_anim_img392967d18b244097a3adf19221804788\">\n",
       "      \n",
       "      <div id='f5368a2c-9772-4204-a3b7-4336a5cc4470' style='display: table; margin: 0 auto;'>\n",
       "\n",
       "\n",
       "\n",
       "\n",
       "\n",
       "  <div class=\"bk-root\" id=\"6bf3ecb6-be4e-45cf-8dc0-4505d0546353\"></div>\n",
       "</div>\n",
       "      \n",
       "    </div>\n",
       "  </div>\n",
       "  <div class=\"holowidgets\" id=\"widget_area392967d18b244097a3adf19221804788\">\n",
       "    <form class=\"holoform well\" id=\"form392967d18b244097a3adf19221804788\">\n",
       "      \n",
       "      \n",
       "      <div class=\"form-group control-group holoformgroup\" style=''>\n",
       "        <label for=\"textInput392967d18b244097a3adf19221804788_model_time\">\n",
       "          <strong>model_time:</strong>\n",
       "        </label>\n",
       "        <div class=\"holowell\">\n",
       "          <div class=\"hologroup\">\n",
       "            <input type=\"text\" class=\"holotext form-control input-small\"\n",
       "                   id=\"textInput392967d18b244097a3adf19221804788_model_time\" value=\"\" readonly>\n",
       "          </div>\n",
       "          <div class=\"holoslider\"\n",
       "               id=\"_anim_widget392967d18b244097a3adf19221804788_model_time\"></div>\n",
       "        </div>\n",
       "      </div>\n",
       "      \n",
       "        \n",
       "        </form>\n",
       "    </div>\n",
       "</div>"
      ],
      "text/plain": [
       ":DynamicMap   [time]\n",
       "   :Polygons   [dist_VS,Z]   (ort_Vel)"
      ]
     },
     "metadata": {
      "application/vnd.holoviews_exec.v0+json": {
       "id": "f5368a2c-9772-4204-a3b7-4336a5cc4470"
      }
     },
     "output_type": "display_data"
    }
   ],
   "source": [
    "ds_rot, info_rot = ospy.compute.ort_Vel(ds_survey, info_survey, deep_copy=True)\n",
    "ds_rot, info_rot = ospy.compute.tan_Vel(ds_rot, info_rot)\n",
    "_ = ospy.visualize.interactive(ds_rot.ort_Vel, info_rot, hvplot_kwargs={'kind': 'contourf',\n",
    "                                                                        'cmap':'seismic', \n",
    "                                                                        'clim':(-1,1), \n",
    "                                                                        'levels':20})"
   ]
  },
  {
   "cell_type": "markdown",
   "metadata": {},
   "source": [
    "![alt](images/tutorial_rotation.png)"
   ]
  },
  {
   "cell_type": "code",
   "execution_count": null,
   "metadata": {},
   "outputs": [],
   "source": []
  }
 ],
 "metadata": {
  "kernelspec": {
   "display_name": "Python 3",
   "language": "python",
   "name": "python3"
  },
  "language_info": {
   "codemirror_mode": {
    "name": "ipython",
    "version": 3
   },
   "file_extension": ".py",
   "mimetype": "text/x-python",
   "name": "python",
   "nbconvert_exporter": "python",
   "pygments_lexer": "ipython3",
   "version": "3.6.5"
  }
 },
 "nbformat": 4,
 "nbformat_minor": 2
}
