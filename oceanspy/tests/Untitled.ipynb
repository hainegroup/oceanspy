{
 "cells": [
  {
   "cell_type": "code",
   "execution_count": 1,
   "metadata": {},
   "outputs": [],
   "source": [
    "import numpy as np\n",
    "import matplotlib.pyplot as plt"
   ]
  },
  {
   "cell_type": "code",
   "execution_count": 2,
   "metadata": {},
   "outputs": [],
   "source": [
    "import oceanspy as ospy"
   ]
  },
  {
   "cell_type": "code",
   "execution_count": 3,
   "metadata": {},
   "outputs": [],
   "source": [
    "run datasets.py"
   ]
  },
  {
   "cell_type": "code",
   "execution_count": 4,
   "metadata": {},
   "outputs": [
    {
     "data": {
      "text/plain": [
       "<xarray.Dataset>\n",
       "Dimensions:  (X: 9, Xp1: 10, Y: 10, Yp1: 11, Z: 11, Zl: 11, Zp1: 12, Zu: 11)\n",
       "Coordinates:\n",
       "  * X        (X) float64 0.0 0.1 0.2 0.3 0.4 0.5 0.6 0.7 0.8\n",
       "  * Xp1      (Xp1) float64 -0.05 0.05 0.15 0.25 0.35 0.45 0.55 0.65 0.75 0.85\n",
       "  * Y        (Y) float64 0.0 0.1 0.2 0.3 0.4 0.5 0.6 0.7 0.8 0.9\n",
       "  * Yp1      (Yp1) float64 -0.05 0.05 0.15 0.25 0.35 ... 0.65 0.75 0.85 0.95\n",
       "  * Z        (Z) float64 -0.05 -0.15 -0.25 -0.35 ... -0.75 -0.85 -0.95 -1.05\n",
       "  * Zp1      (Zp1) float64 0.0 -0.1 -0.2 -0.3 -0.4 ... -0.7 -0.8 -0.9 -1.0 -1.1\n",
       "  * Zu       (Zu) float64 -0.1 -0.2 -0.3 -0.4 -0.5 -0.6 -0.7 -0.8 -0.9 -1.0 -1.1\n",
       "  * Zl       (Zl) float64 0.0 -0.1 -0.2 -0.3 -0.4 -0.5 -0.6 -0.7 -0.8 -0.9 -1.0\n",
       "Data variables:\n",
       "    YC       (Y, X) float64 0.0 0.0 0.0 0.0 0.0 0.0 ... 0.9 0.9 0.9 0.9 0.9 0.9\n",
       "    XC       (Y, X) float64 0.0 0.1 0.2 0.3 0.4 0.5 ... 0.3 0.4 0.5 0.6 0.7 0.8\n",
       "    YG       (Yp1, Xp1) float64 -0.05 -0.05 -0.05 -0.05 ... 0.95 0.95 0.95 0.95\n",
       "    XG       (Yp1, Xp1) float64 -0.05 0.05 0.15 0.25 ... 0.55 0.65 0.75 0.85\n",
       "    YU       (Y, Xp1) float64 0.0 0.0 0.0 0.0 0.0 0.0 ... 0.9 0.9 0.9 0.9 0.9\n",
       "    XU       (Y, Xp1) float64 -0.05 0.05 0.15 0.25 0.35 ... 0.55 0.65 0.75 0.85\n",
       "    YV       (Yp1, X) float64 -0.05 -0.05 -0.05 -0.05 ... 0.95 0.95 0.95 0.95\n",
       "    XV       (Yp1, X) float64 0.0 0.1 0.2 0.3 0.4 0.5 ... 0.4 0.5 0.6 0.7 0.8\n",
       "    drC      (Zp1) float64 0.1 0.1 0.1 0.1 0.1 0.1 0.1 0.1 0.1 0.1 0.1 0.1\n",
       "    drF      (Z) float64 0.1 0.1 0.1 0.1 0.1 0.1 0.1 0.1 0.1 0.1 0.1\n",
       "    dxC      (Y, Xp1) float64 0.1 0.1 0.1 0.1 0.1 0.1 ... 0.1 0.1 0.1 0.1 0.1\n",
       "    dyC      (Yp1, X) float64 0.1 0.1 0.1 0.1 0.1 0.1 ... 0.1 0.1 0.1 0.1 0.1\n",
       "    dxF      (Y, X) float64 0.1 0.1 0.1 0.1 0.1 0.1 ... 0.1 0.1 0.1 0.1 0.1 0.1\n",
       "    dyF      (Y, X) float64 0.1 0.1 0.1 0.1 0.1 0.1 ... 0.1 0.1 0.1 0.1 0.1 0.1\n",
       "    dxG      (Yp1, X) float64 0.1 0.1 0.1 0.1 0.1 0.1 ... 0.1 0.1 0.1 0.1 0.1\n",
       "    dyG      (Y, Xp1) float64 0.1 0.1 0.1 0.1 0.1 0.1 ... 0.1 0.1 0.1 0.1 0.1\n",
       "    dxV      (Yp1, Xp1) float64 0.1 0.1 0.1 0.1 0.1 0.1 ... 0.1 0.1 0.1 0.1 0.1\n",
       "    dyU      (Yp1, Xp1) float64 0.1 0.1 0.1 0.1 0.1 0.1 ... 0.1 0.1 0.1 0.1 0.1\n",
       "    rA       (Y, X) float64 0.01 0.01 0.01 0.01 0.01 ... 0.01 0.01 0.01 0.01\n",
       "    rAw      (Y, Xp1) float64 0.01 0.01 0.01 0.01 0.01 ... 0.01 0.01 0.01 0.01\n",
       "    rAs      (Yp1, X) float64 0.01 0.01 0.01 0.01 0.01 ... 0.01 0.01 0.01 0.01\n",
       "    rAz      (Yp1, Xp1) float64 0.01 0.01 0.01 0.01 0.01 ... 0.01 0.01 0.01 0.01\n",
       "    HFacC    (Z, Y, X) float64 1.0 1.0 1.0 1.0 1.0 1.0 ... 1.0 1.0 1.0 1.0 1.0\n",
       "    HFacW    (Z, Y, Xp1) float64 1.0 1.0 1.0 1.0 1.0 1.0 ... 1.0 1.0 1.0 1.0 1.0\n",
       "    HFacS    (Z, Yp1, X) float64 1.0 1.0 1.0 1.0 1.0 1.0 ... 1.0 1.0 1.0 1.0 1.0\n",
       "    sinZ     (Z, Y, X) float64 -0.04998 -0.04998 -0.04998 ... -0.8674 -0.8674\n",
       "    sinY     (Z, Y, X) float64 0.0 0.0 0.0 0.0 ... 0.7833 0.7833 0.7833 0.7833\n",
       "    sinX     (Z, Y, X) float64 0.0 0.09983 0.1987 ... 0.5646 0.6442 0.7174\n",
       "    sinUZ    (Z, Y, Xp1) float64 -0.04998 -0.04998 -0.04998 ... -0.8674 -0.8674\n",
       "    sinUY    (Z, Y, Xp1) float64 0.0 0.0 0.0 0.0 ... 0.7833 0.7833 0.7833 0.7833\n",
       "    sinUX    (Z, Y, Xp1) float64 -0.04998 0.04998 0.1494 ... 0.6816 0.7513\n",
       "    sinVZ    (Z, Yp1, X) float64 -0.04998 -0.04998 -0.04998 ... -0.8674 -0.8674\n",
       "    sinVY    (Z, Yp1, X) float64 -0.04998 -0.04998 -0.04998 ... 0.8134 0.8134\n",
       "    sinVX    (Z, Yp1, X) float64 0.0 0.09983 0.1987 ... 0.5646 0.6442 0.7174\n",
       "    sinWZ    (Zl, Y, X) float64 0.0 0.0 0.0 0.0 ... -0.8415 -0.8415 -0.8415\n",
       "    sinWY    (Zl, Y, X) float64 0.0 0.0 0.0 0.0 ... 0.7833 0.7833 0.7833 0.7833\n",
       "    sinWX    (Zl, Y, X) float64 0.0 0.09983 0.1987 ... 0.5646 0.6442 0.7174\n",
       "Attributes:\n",
       "    OceanSpy_grid_coords:  {'Y': {'Y': None, 'Yp1': 0.5}, 'X': {'X': None, 'X..."
      ]
     },
     "execution_count": 4,
     "metadata": {},
     "output_type": "execute_result"
    }
   ],
   "source": [
    "sin_od.dataset"
   ]
  },
  {
   "cell_type": "code",
   "execution_count": 6,
   "metadata": {},
   "outputs": [],
   "source": [
    "curl_ds = ospy.compute.curl(sin_od, iName='sinUY', jName='sinVX')     "
   ]
  },
  {
   "cell_type": "code",
   "execution_count": 17,
   "metadata": {},
   "outputs": [],
   "source": [
    "for var in curl_ds.data_vars:\n",
    "    var = curl_ds[var]"
   ]
  },
  {
   "cell_type": "code",
   "execution_count": 19,
   "metadata": {},
   "outputs": [
    {
     "data": {
      "text/plain": [
       "<xarray.DataArray (Z: 11, Yp1: 11, Xp1: 10)>\n",
       "array([[[          nan,           nan, ...,           nan,           nan],\n",
       "        [          nan,  0.000000e+00, ...,  1.112617e-04,           nan],\n",
       "        ...,\n",
       "        [          nan, -1.411353e-04, ..., -2.987365e-05,           nan],\n",
       "        [          nan,           nan, ...,           nan,           nan]],\n",
       "\n",
       "       [[          nan,           nan, ...,           nan,           nan],\n",
       "        [          nan,  0.000000e+00, ...,  1.112617e-04,           nan],\n",
       "        ...,\n",
       "        [          nan, -1.411353e-04, ..., -2.987365e-05,           nan],\n",
       "        [          nan,           nan, ...,           nan,           nan]],\n",
       "\n",
       "       ...,\n",
       "\n",
       "       [[          nan,           nan, ...,           nan,           nan],\n",
       "        [          nan,  0.000000e+00, ...,  1.112617e-04,           nan],\n",
       "        ...,\n",
       "        [          nan, -1.411353e-04, ..., -2.987365e-05,           nan],\n",
       "        [          nan,           nan, ...,           nan,           nan]],\n",
       "\n",
       "       [[          nan,           nan, ...,           nan,           nan],\n",
       "        [          nan,  0.000000e+00, ...,  1.112617e-04,           nan],\n",
       "        ...,\n",
       "        [          nan, -1.411353e-04, ..., -2.987365e-05,           nan],\n",
       "        [          nan,           nan, ...,           nan,           nan]]])\n",
       "Coordinates:\n",
       "  * Z        (Z) float64 -0.05 -0.15 -0.25 -0.35 ... -0.75 -0.85 -0.95 -1.05\n",
       "  * Yp1      (Yp1) float64 -0.05 0.05 0.15 0.25 0.35 ... 0.65 0.75 0.85 0.95\n",
       "  * Xp1      (Xp1) float64 -0.05 0.05 0.15 0.25 0.35 0.45 0.55 0.65 0.75 0.85"
      ]
     },
     "execution_count": 19,
     "metadata": {},
     "output_type": "execute_result"
    }
   ],
   "source": [
    "var - (np.cos(var['Xp1'])-np.cos(var['Yp1']))"
   ]
  },
  {
   "cell_type": "code",
   "execution_count": 45,
   "metadata": {},
   "outputs": [
    {
     "name": "stdout",
     "output_type": "stream",
     "text": [
      "[None, 'sinVZ', 'sinWY']\n",
      "['sinUZ', None, 'sinWX']\n",
      "['sinUY', 'sinVX', None]\n"
     ]
    }
   ],
   "source": [
    "from numpy.testing import assert_allclose\n",
    "\n",
    "velocities = [[None   , 'sinVZ', 'sinWY'],\n",
    "              ['sinUZ',    None, 'sinWX'],\n",
    "              ['sinUY', 'sinVX',    None]]\n",
    "for _, vels in enumerate(velocities):\n",
    "    print(vels)\n",
    "    curl_ds = ospy.compute.curl(sin_od, iName=vels[0], jName=vels[1], kName=vels[2]) \n",
    "    for var in curl_ds.data_vars: var = curl_ds[var]\n",
    "\n",
    "    coords  = {coord[0]: var[coord] for coord in var.coords}\n",
    "    coords['Z'], coords['Y'], coords['X'] = xr.broadcast(coords['Z'], coords['Y'], coords['X'])\n",
    "\n",
    "    terms = var.name.split('-')\n",
    "    for i, term in enumerate(terms):\n",
    "        axis = term[-1]\n",
    "        terms[i] = np.cos(coords[axis])\n",
    "    check = terms[0] - terms[1]\n",
    "    mask = xr.where(np.logical_or(check.isnull(), var.isnull()), 0, 1)\n",
    "    \n",
    "    # Assert using numpy\n",
    "    assert_allclose(var.where(mask).values, check.where(mask).values, 1.E-2)"
   ]
  },
  {
   "cell_type": "code",
   "execution_count": 41,
   "metadata": {},
   "outputs": [
    {
     "data": {
      "text/plain": [
       "<matplotlib.collections.QuadMesh at 0x7f45de305dd8>"
      ]
     },
     "execution_count": 41,
     "metadata": {},
     "output_type": "execute_result"
    },
    {
     "data": {
      "image/png": "[encoded data removed]",
      "text/plain": [
       "<Figure size 432x288 with 2 Axes>"
      ]
     },
     "metadata": {
      "needs_background": "light"
     },
     "output_type": "display_data"
    }
   ],
   "source": [
    "check.isel(X=0).plot()"
   ]
  },
  {
   "cell_type": "code",
   "execution_count": 42,
   "metadata": {},
   "outputs": [
    {
     "data": {
      "text/plain": [
       "<matplotlib.collections.QuadMesh at 0x7f45de226080>"
      ]
     },
     "execution_count": 42,
     "metadata": {},
     "output_type": "execute_result"
    },
    {
     "data": {
      "image/png": "[encoded data removed]",
      "text/plain": [
       "<Figure size 432x288 with 2 Axes>"
      ]
     },
     "metadata": {
      "needs_background": "light"
     },
     "output_type": "display_data"
    }
   ],
   "source": [
    "var.isel(X=0).plot()"
   ]
  },
  {
   "cell_type": "code",
   "execution_count": null,
   "metadata": {},
   "outputs": [],
   "source": [
    "sin_od.dataset['sinY'].isel(X=0, Z=0).plot()"
   ]
  },
  {
   "cell_type": "code",
   "execution_count": null,
   "metadata": {},
   "outputs": [],
   "source": [
    "varNameList = ['sinZ', 'sinX', 'sinY']\n",
    "grad_ds = ospy.compute.gradient(sin_od, varNameList=varNameList)"
   ]
  },
  {
   "cell_type": "code",
   "execution_count": null,
   "metadata": {},
   "outputs": [],
   "source": [
    "grad_ds['dsinX_dX'].isel(Z=0, Y=0).plot()\n",
    "grad_ds['dsinY_dY'].isel(Z=0, X=0).plot()\n",
    "grad_ds['dsinZ_dZ'].isel(Y=0, X=0).plot()"
   ]
  },
  {
   "cell_type": "code",
   "execution_count": null,
   "metadata": {},
   "outputs": [],
   "source": [
    "grad_ds['dsinX_dX'].isel(Z=0, Y=0).plot()\n",
    "np.cos(sin_od.dataset['X']).plot(marker='x')\n",
    "\n",
    "print(grad_ds['dsinX_dX'].isel(Z=0, Y=0).values)\n",
    "np.cos(sin_od.dataset['Xp1']).plot(marker='x')"
   ]
  },
  {
   "cell_type": "code",
   "execution_count": null,
   "metadata": {},
   "outputs": [],
   "source": [
    "sin_od.dataset['Xp1']"
   ]
  },
  {
   "cell_type": "code",
   "execution_count": null,
   "metadata": {},
   "outputs": [],
   "source": [
    "grad_ds['dsinX_dX']"
   ]
  },
  {
   "cell_type": "code",
   "execution_count": null,
   "metadata": {},
   "outputs": [],
   "source": [
    "grad_ds['dsinY_dY'].isel(Z=0, X=0).plot()\n",
    "np.cos(sin_od.dataset['Y']-.05).plot(marker='x')"
   ]
  },
  {
   "cell_type": "code",
   "execution_count": null,
   "metadata": {},
   "outputs": [],
   "source": [
    "grad_ds['dsinZ_dZ'].isel(Y=0, X=0).plot()\n",
    "np.cos(sin_od.dataset['Z']).plot(marker='x')"
   ]
  },
  {
   "cell_type": "code",
   "execution_count": null,
   "metadata": {},
   "outputs": [],
   "source": [
    "sin_od.dataset"
   ]
  },
  {
   "cell_type": "code",
   "execution_count": null,
   "metadata": {},
   "outputs": [],
   "source": [
    "import numpy as np"
   ]
  },
  {
   "cell_type": "code",
   "execution_count": null,
   "metadata": {},
   "outputs": [],
   "source": [
    "np.testing.assert_array_almost_equal_nulp(od.dataset['XC'], od.dataset['XC'])"
   ]
  },
  {
   "cell_type": "code",
   "execution_count": null,
   "metadata": {},
   "outputs": [],
   "source": [
    "import xarray as xr\n",
    "import numpy as np\n",
    "import pandas as pd\n",
    "from oceanspy import OceanDataset\n",
    "\n",
    "class Datasets:\n",
    "    def __init__(self):\n",
    "        # Create a small datasets\n",
    "        self.NX = 9\n",
    "        self.NY = 10\n",
    "        self.NZ = 11\n",
    "        self.NT = 12\n",
    "        \n",
    "    def sinusoidal(self):\n",
    "        \n",
    "        step = 0.1\n",
    "        \n",
    "        # Horizontal Dimensions\n",
    "        X      = xr.DataArray( np.arange(self.NX),     dims = 'X')  * step\n",
    "        Xp1    = xr.DataArray( np.arange(self.NX+1),   dims = 'Xp1')* step\n",
    "        Y      = xr.DataArray( np.arange(self.NY),     dims = 'Y')  * step\n",
    "        Yp1    = xr.DataArray( np.arange(self.NY+1),   dims = 'Yp1')* step\n",
    "        \n",
    "        # Vertical Dimensions\n",
    "        Z      = xr.DataArray(-np.arange(self.NZ)-0.5, dims = 'Z')  * step\n",
    "        Zp1    = xr.DataArray(-np.arange(self.NZ+1),   dims = 'Zp1')* step\n",
    "        Zu     = xr.DataArray(-np.arange(self.NZ)-1,   dims = 'Zu') * step\n",
    "        Zl     = xr.DataArray(-np.arange(self.NZ),     dims = 'Zl') * step\n",
    "        \n",
    "        # Space Coordinates\n",
    "        YC, XC = xr.broadcast(Y+0.5*step, X+0.5*step)\n",
    "        YG, XG = xr.broadcast(Yp1       , Xp1)\n",
    "        YU, XU = xr.broadcast(Y+0.5*step, Xp1)\n",
    "        YV, XV = xr.broadcast(Yp1       , X+0.5*step)\n",
    "        \n",
    "        # Spacing\n",
    "        drC = xr.full_like(Zp1, step)\n",
    "        drF = xr.full_like(Z  , step)\n",
    "        dxC = xr.full_like(XU,  step)\n",
    "        dyC = xr.full_like(XV,  step)\n",
    "        dxF = xr.full_like(XC,  step)\n",
    "        dyF = xr.full_like(XC,  step)\n",
    "        dxG = xr.full_like(XV,  step)\n",
    "        dyG = xr.full_like(XU,  step)\n",
    "        dxV = xr.full_like(XG,  step)\n",
    "        dyU = xr.full_like(XG,  step)\n",
    "        \n",
    "        # HFac\n",
    "        HFacC, _ = xr.broadcast(xr.full_like(Z, 1), xr.full_like(XC, 1))\n",
    "        HFacW, _ = xr.broadcast(xr.full_like(Z, 1), xr.full_like(XU, 1))\n",
    "        HFacS, _ = xr.broadcast(xr.full_like(Z, 1), xr.full_like(XV, 1))\n",
    "\n",
    "        return xr.Dataset({'X'    : X,     'Xp1': Xp1, \n",
    "                           'Y'    : Y,     'Yp1': Yp1,\n",
    "                           'Z'    : Z,     'Zp1': Zp1, 'Zu': Zu, 'Zl': Zl,\n",
    "                           'YC'   : YC,    'XC' : XC, \n",
    "                           'YG'   : YG,    'XG' : XG, \n",
    "                           'YU'   : YU,    'XU' : XU, \n",
    "                           'YV'   : YV,    'XV' : XV,\n",
    "                           'drC'  : drC,   'drF': drF,\n",
    "                           'dxC'  : dxC,   'dyC': dyC,\n",
    "                           'dxF'  : dxF,   'dyF': dyF,\n",
    "                           'dxG'  : dxG,   'dyG': dyG,\n",
    "                           'dxV'  : dxV,   'dyU': dyU,\n",
    "                           'HFacC': HFacC, 'HFacW': HFacW, 'HFacS': HFacS})"
   ]
  },
  {
   "cell_type": "code",
   "execution_count": null,
   "metadata": {},
   "outputs": [],
   "source": [
    "ds = Datasets().sinusoidal()"
   ]
  },
  {
   "cell_type": "code",
   "execution_count": null,
   "metadata": {},
   "outputs": [],
   "source": [
    "testod = ospy.OceanDataset(ds).set_grid_coords({'Y'    : {'Y': None, 'Yp1': 0.5},\n",
    "                                                'X'    : {'X': None, 'Xp1': 0.5},\n",
    "                                                'Z'    : {'Z': None, 'Zp1': 0.5, 'Zu': 0.5, 'Zl': -0.5}})"
   ]
  },
  {
   "cell_type": "code",
   "execution_count": null,
   "metadata": {},
   "outputs": [],
   "source": [
    "grad = ospy.compute.gradient(testod, varNameList='Z_test')"
   ]
  },
  {
   "cell_type": "code",
   "execution_count": null,
   "metadata": {},
   "outputs": [],
   "source": [
    "grad['dZ_test_dY'].max()"
   ]
  },
  {
   "cell_type": "code",
   "execution_count": null,
   "metadata": {},
   "outputs": [],
   "source": [
    "Zf  = ds.Z.values\n",
    "f   = ds.Z_test.isel(Y=0, X=0).values\n",
    "Zfp = ds.Zl\n",
    "fp  = grad.dZ_test_dZ.isel(Y=0, X=0).values"
   ]
  },
  {
   "cell_type": "code",
   "execution_count": null,
   "metadata": {},
   "outputs": [],
   "source": [
    "grad['dZ_test_dY'].min()"
   ]
  },
  {
   "cell_type": "code",
   "execution_count": null,
   "metadata": {},
   "outputs": [],
   "source": [
    "grad['dZ_test_dY'].coords"
   ]
  },
  {
   "cell_type": "code",
   "execution_count": null,
   "metadata": {},
   "outputs": [],
   "source": [
    "xr.broadcast(xr.Dataset({coord: grad[coord] for coord in grad['dZ_test_dY'].coords}))"
   ]
  },
  {
   "cell_type": "code",
   "execution_count": null,
   "metadata": {},
   "outputs": [],
   "source": [
    "plt.plot(Zf, f)\n",
    "plt.plot(Zfp, fp)\n",
    "plt.plot(Zfp, np.cos(Zfp))"
   ]
  },
  {
   "cell_type": "code",
   "execution_count": null,
   "metadata": {},
   "outputs": [],
   "source": [
    "np.float32(fp) - np.float32(np.cos(Zfp))"
   ]
  },
  {
   "cell_type": "code",
   "execution_count": null,
   "metadata": {},
   "outputs": [],
   "source": [
    "ds['Z_test'].isel(X=0, Y=0).plot({'Y'    : {'Y': None, 'Yp1': 0.5},\n",
    "                                  'X'    : {'X': None, 'Xp1': 0.5},\n",
    "                                  'Z'    : {'Z': None, 'Zp1': 0.5, 'Zu': 0.5, 'Zl': -0.5})"
   ]
  },
  {
   "cell_type": "code",
   "execution_count": null,
   "metadata": {},
   "outputs": [],
   "source": [
    "class Datasets:\n",
    "    def __init__(self):\n",
    "        # Create a small datasets\n",
    "        self.NX = 9\n",
    "        self.NY = 10\n",
    "        self.NZ = 11\n",
    "        self.NT = 12\n",
    "        \n",
    "    def sinusoidal(self):\n",
    "        \n",
    "        scale = 5\n",
    "        step  = 0.1\n",
    "        \n",
    "        # Horizontal Dimensions\n",
    "        X      = xr.DataArray( np.arange(self.NX*scale),     dims = 'X')  * step\n",
    "        Xp1    = xr.DataArray( np.arange(self.NX*scale+1),   dims = 'Xp1')* step\n",
    "        Y      = xr.DataArray( np.arange(self.NY*scale),     dims = 'Y')  * step\n",
    "        Yp1    = xr.DataArray( np.arange(self.NY*scale+1),   dims = 'Yp1')* step\n",
    "        \n",
    "        # Vertical Dimensions\n",
    "        Z      = xr.DataArray(-np.arange(self.NZ*scale)-0.5, dims = 'Z')  * step\n",
    "        Zp1    = xr.DataArray(-np.arange(self.NZ*scale+1),   dims = 'Zp1')* step\n",
    "        Zu     = xr.DataArray(-np.arange(self.NZ*scale)-1,   dims = 'Zu') * step\n",
    "        Zl     = xr.DataArray(-np.arange(self.NZ*scale),     dims = 'Zl') * step\n",
    "        \n",
    "        # Space Coordinates\n",
    "        YC, XC = xr.broadcast(Y+0.5*step, X+0.5*step)\n",
    "        YG, XG = xr.broadcast(Yp1       , Xp1)\n",
    "        YU, XU = xr.broadcast(Y+0.5*step, Xp1)\n",
    "        YV, XV = xr.broadcast(Yp1       , X+0.5*step)\n",
    "        \n",
    "        # Spacing\n",
    "        drC = xr.full_like(Zp1, step)\n",
    "        drF = xr.full_like(Z  , step)\n",
    "        dxC = xr.full_like(XU,  step)\n",
    "        dyC = xr.full_like(XV,  step)\n",
    "        dxF = xr.full_like(XC,  step)\n",
    "        dyF = xr.full_like(XC,  step)\n",
    "        dxG = xr.full_like(XV,  step)\n",
    "        dyG = xr.full_like(XU,  step)\n",
    "        dxV = xr.full_like(XG,  step)\n",
    "        dyU = xr.full_like(XG,  step)\n",
    "        \n",
    "        # HFac\n",
    "        HFacC, _ = xr.broadcast(xr.full_like(Z, 1), xr.full_like(XC, 1))\n",
    "        HFacW, _ = xr.broadcast(xr.full_like(Z, 1), xr.full_like(XU, 1))\n",
    "        HFacS, _ = xr.broadcast(xr.full_like(Z, 1), xr.full_like(XV, 1))\n",
    "        \n",
    "        # Sin test\n",
    "        Z_test, Y_test, X_test = xr.broadcast(np.sin(Z), np.sin(Y), np.sin(X))\n",
    "\n",
    "        return xr.Dataset({'X'     : X,      'Xp1'   : Xp1, \n",
    "                           'Y'     : Y,      'Yp1'   : Yp1,\n",
    "                           'Z'     : Z,      'Zp1'   : Zp1, 'Zu': Zu, 'Zl': Zl,\n",
    "                           'YC'    : YC,     'XC'    : XC, \n",
    "                           'YG'    : YG,     'XG'    : XG, \n",
    "                           'YU'    : YU,     'XU'    : XU, \n",
    "                           'YV'    : YV,     'XV'    : XV,\n",
    "                           'drC'   : drC,    'drF'   : drF,\n",
    "                           'dxC'   : dxC,    'dyC'   : dyC,\n",
    "                           'dxF'   : dxF,    'dyF'   : dyF,\n",
    "                           'dxG'   : dxG,    'dyG'   : dyG,\n",
    "                           'dxV'   : dxV,    'dyU'   : dyU,\n",
    "                           'HFacC' : HFacC,  'HFacW' : HFacW, 'HFacS': HFacS,\n",
    "                           'Z_test': Z_test, 'Y_test': Y_test, 'X_test': X_test})"
   ]
  },
  {
   "cell_type": "code",
   "execution_count": null,
   "metadata": {},
   "outputs": [],
   "source": [
    "b"
   ]
  },
  {
   "cell_type": "code",
   "execution_count": null,
   "metadata": {},
   "outputs": [],
   "source": [
    "for var in ds.variables:\n",
    "    print(set(ds[var].dims).issubset(od.dataset[var].dims))"
   ]
  },
  {
   "cell_type": "code",
   "execution_count": null,
   "metadata": {},
   "outputs": [],
   "source": [
    "X = np.arange(0, 50)*0.1\n",
    "f = np.sin(X)\n",
    "fp = np.cos(X)\n",
    "X1 = (X[1:]+X[:-1])/2\n",
    "dfdx = (f[1:]-f[:-1])/(X[1:]-X[:-1])\n",
    "ddfdxdx = (dfdx[1:]-dfdx[:-1])/(X1[1:]-X1[:-1])\n",
    "X2 = (X1[1:]+X1[:-1])/2"
   ]
  },
  {
   "cell_type": "code",
   "execution_count": null,
   "metadata": {},
   "outputs": [],
   "source": [
    "plt.plot(X, -f)\n",
    "plt.plot(X, fp)\n",
    "plt.plot(X1, dfdx, 'o')\n",
    "plt.plot(X2, ddfdxdx, 'o')"
   ]
  },
  {
   "cell_type": "code",
   "execution_count": null,
   "metadata": {},
   "outputs": [],
   "source": [
    "-f[1:-1] - ddfdxdx"
   ]
  },
  {
   "cell_type": "code",
   "execution_count": null,
   "metadata": {},
   "outputs": [],
   "source": [
    "ddfdxdx"
   ]
  },
  {
   "cell_type": "code",
   "execution_count": null,
   "metadata": {},
   "outputs": [],
   "source": [
    "plt.plot(grad)"
   ]
  },
  {
   "cell_type": "code",
   "execution_count": null,
   "metadata": {},
   "outputs": [],
   "source": []
  }
 ],
 "metadata": {
  "kernelspec": {
   "display_name": "Python 3",
   "language": "python",
   "name": "python3"
  },
  "language_info": {
   "codemirror_mode": {
    "name": "ipython",
    "version": 3
   },
   "file_extension": ".py",
   "mimetype": "text/x-python",
   "name": "python",
   "nbconvert_exporter": "python",
   "pygments_lexer": "ipython3",
   "version": "3.6.6"
  }
 },
 "nbformat": 4,
 "nbformat_minor": 2
}
