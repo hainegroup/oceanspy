{
 "cells": [
  {
   "cell_type": "code",
   "execution_count": 1,
   "metadata": {},
   "outputs": [
    {
     "name": "stderr",
     "output_type": "stream",
     "text": [
      "/home/mattia/anaconda3/envs/test_env/lib/python3.6/site-packages/dask/config.py:168: YAMLLoadWarning: calling yaml.load() without Loader=... is deprecated, as the default Loader is unsafe. Please read https://msg.pyyaml.org/load for full details.\n",
      "  data = yaml.load(f.read()) or {}\n",
      "/home/mattia/anaconda3/envs/test_env/lib/python3.6/site-packages/distributed/config.py:20: YAMLLoadWarning: calling yaml.load() without Loader=... is deprecated, as the default Loader is unsafe. Please read https://msg.pyyaml.org/load for full details.\n",
      "  defaults = yaml.load(f)\n"
     ]
    }
   ],
   "source": [
    "%matplotlib inline\n",
    "import oceanspy as ospy"
   ]
  },
  {
   "cell_type": "code",
   "execution_count": 2,
   "metadata": {},
   "outputs": [
    {
     "name": "stdout",
     "output_type": "stream",
     "text": [
      "Opening dataset from [Data/MITgcm_rect_nc.nc].\n"
     ]
    }
   ],
   "source": [
    "od = ospy.open_oceandataset.from_netcdf('Data/MITgcm_rect_nc.nc')"
   ]
  },
  {
   "cell_type": "code",
   "execution_count": 3,
   "metadata": {},
   "outputs": [
    {
     "name": "stdout",
     "output_type": "stream",
     "text": [
      "Computing integral.\n"
     ]
    }
   ],
   "source": [
    "ds_int = ospy.compute.integral(od, varNameList='Temp')"
   ]
  },
  {
   "cell_type": "code",
   "execution_count": 7,
   "metadata": {},
   "outputs": [
    {
     "name": "stdout",
     "output_type": "stream",
     "text": [
      "Computing weighted_mean.\n"
     ]
    }
   ],
   "source": [
    "ds_mean = ospy.compute.weighted_mean(od, varNameList='Temp', axesList=['time'])"
   ]
  },
  {
   "cell_type": "code",
   "execution_count": 9,
   "metadata": {},
   "outputs": [
    {
     "data": {
      "text/plain": [
       "<xarray.DataArray 'weight_Temp' (time: 17, Z: 14, Y: 13, X: 11)>\n",
       "array([[[[21600., ..., 21600.],\n",
       "         ...,\n",
       "         [21600., ..., 21600.]],\n",
       "\n",
       "        ...,\n",
       "\n",
       "        [[21600., ..., 21600.],\n",
       "         ...,\n",
       "         [21600., ..., 21600.]]],\n",
       "\n",
       "\n",
       "       ...,\n",
       "\n",
       "\n",
       "       [[[21600., ..., 21600.],\n",
       "         ...,\n",
       "         [21600., ..., 21600.]],\n",
       "\n",
       "        ...,\n",
       "\n",
       "        [[21600., ..., 21600.],\n",
       "         ...,\n",
       "         [21600., ..., 21600.]]]])\n",
       "Coordinates:\n",
       "  * Z        (Z) float64 -1.0 -3.5 -7.0 -11.5 -17.0 ... -71.0 -83.5 -97.0 -111.5\n",
       "  * X        (X) float64 -17.98 -17.93 -17.89 -17.84 ... -17.62 -17.58 -17.54\n",
       "  * Y        (Y) float64 70.27 70.29 70.3 70.32 70.34 ... 70.44 70.46 70.48 70.5\n",
       "    XC       (Y, X) float64 -17.98 -17.93 -17.89 -17.84 ... -17.62 -17.58 -17.54\n",
       "    YC       (Y, X) float64 70.27 70.27 70.27 70.27 ... 70.5 70.5 70.5 70.5\n",
       "  * time     (time) datetime64[ns] 2007-09-01 2007-09-01T06:00:00 ... 2007-09-05\n",
       "Attributes:\n",
       "    long_name:  Weights for average\n",
       "    units:      s"
      ]
     },
     "execution_count": 9,
     "metadata": {},
     "output_type": "execute_result"
    }
   ],
   "source": [
    "ds_mean['weight_Temp']"
   ]
  },
  {
   "cell_type": "code",
   "execution_count": null,
   "metadata": {},
   "outputs": [],
   "source": [
    "ds_mean1 = ospy.compute._integral_and_mean(od, varNameList='Temp', operation='mean', axesList=['X', 'Y'])\n",
    "ds_mean1"
   ]
  },
  {
   "cell_type": "code",
   "execution_count": null,
   "metadata": {},
   "outputs": [],
   "source": [
    "ds_mean2 = ospy.compute.weighted_mean(od, varNameList='Temp', axesList=['X', 'Y'])\n",
    "ds_mean2"
   ]
  },
  {
   "cell_type": "code",
   "execution_count": null,
   "metadata": {},
   "outputs": [],
   "source": [
    "(ds_mean2['w_mean_Temp'] - ds_mean1['w_mean_Temp']).plot()"
   ]
  },
  {
   "cell_type": "code",
   "execution_count": null,
   "metadata": {},
   "outputs": [],
   "source": [
    "ds['dTemp_dtime'].isel(time_midp=0, Z=0).plot()"
   ]
  },
  {
   "cell_type": "code",
   "execution_count": null,
   "metadata": {},
   "outputs": [],
   "source": [
    "ds['ddTemp_dX_dX']"
   ]
  },
  {
   "cell_type": "code",
   "execution_count": null,
   "metadata": {},
   "outputs": [],
   "source": [
    "ds['dV_dX-dU_dY'].isel(time=0,Z=0).plot()"
   ]
  },
  {
   "cell_type": "code",
   "execution_count": null,
   "metadata": {},
   "outputs": [],
   "source": [
    "od.dataset"
   ]
  },
  {
   "cell_type": "code",
   "execution_count": null,
   "metadata": {},
   "outputs": [],
   "source": []
  }
 ],
 "metadata": {
  "kernelspec": {
   "display_name": "Python [conda env:test_env] *",
   "language": "python",
   "name": "conda-env-test_env-py"
  },
  "language_info": {
   "codemirror_mode": {
    "name": "ipython",
    "version": 3
   },
   "file_extension": ".py",
   "mimetype": "text/x-python",
   "name": "python",
   "nbconvert_exporter": "python",
   "pygments_lexer": "ipython3",
   "version": "3.6.7"
  }
 },
 "nbformat": 4,
 "nbformat_minor": 2
}
