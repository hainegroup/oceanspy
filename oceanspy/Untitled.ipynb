{
 "cells": [
  {
   "cell_type": "code",
   "execution_count": 1,
   "metadata": {},
   "outputs": [],
   "source": [
    "import oceanspy as ospy"
   ]
  },
  {
   "cell_type": "code",
   "execution_count": 2,
   "metadata": {},
   "outputs": [
    {
     "name": "stdout",
     "output_type": "stream",
     "text": [
      "Opening get_started.\n"
     ]
    },
    {
     "name": "stderr",
     "output_type": "stream",
     "text": [
      "/home/idies/miniconda3/lib/python3.7/site-packages/dask/array/blockwise.py:204: UserWarning: The da.atop function has moved to da.blockwise\n",
      "  warnings.warn(\"The da.atop function has moved to da.blockwise\")\n"
     ]
    },
    {
     "name": "stdout",
     "output_type": "stream",
     "text": [
      "High-resolution (~2km) numerical simulation covering the east Greenland shelf (EGshelf), \n",
      "and the Iceland and Irminger Seas (IIseas) forced by the Arctic System Reanalysis (ASR). \n",
      "Citation: \n",
      "  * Almansi et al., 2017 - JPO.\n",
      "Mates: \n",
      "  * EGshelfIIseas2km_ASR_full: Full domain without variables to close budgets.\n",
      "  * EGshelfIIseas2km_ASR_crop: Cropped domain with variables to close budgets.\n"
     ]
    }
   ],
   "source": [
    "od = ospy.open_oceandataset.from_catalog('get_started')"
   ]
  },
  {
   "cell_type": "code",
   "execution_count": 7,
   "metadata": {},
   "outputs": [
    {
     "name": "stdout",
     "output_type": "stream",
     "text": [
      "Cutting out the oceandataset.\n",
      "Extracting mooring array.\n"
     ]
    }
   ],
   "source": [
    "Xmoor = [od.dataset['XC'].min().values,\n",
    "         od.dataset['XC'].max().values]\n",
    "Ymoor = [od.dataset['YC'].min().values,\n",
    "         od.dataset['YC'].max().values]\n",
    "od_moor = od.subsample.mooring_array(Xmoor=Xmoor, Ymoor=Ymoor, timeRange='2007-09-01',\n",
    "                                    varList=['Temp', 'Depth'])"
   ]
  },
  {
   "cell_type": "code",
   "execution_count": 8,
   "metadata": {},
   "outputs": [
    {
     "ename": "IndexError",
     "evalue": "list index out of range",
     "output_type": "error",
     "traceback": [
      "\u001b[0;31m\u001b[0m",
      "\u001b[0;31mIndexError\u001b[0mTraceback (most recent call last)",
      "\u001b[0;32m<ipython-input-8-7abe41a2703c>\u001b[0m in \u001b[0;36m<module>\u001b[0;34m\u001b[0m\n\u001b[1;32m      1\u001b[0m \u001b[0mget_ipython\u001b[0m\u001b[0;34m(\u001b[0m\u001b[0;34m)\u001b[0m\u001b[0;34m.\u001b[0m\u001b[0mrun_line_magic\u001b[0m\u001b[0;34m(\u001b[0m\u001b[0;34m'matplotlib'\u001b[0m\u001b[0;34m,\u001b[0m \u001b[0;34m'inline'\u001b[0m\u001b[0;34m)\u001b[0m\u001b[0;34m\u001b[0m\u001b[0;34m\u001b[0m\u001b[0m\n\u001b[0;32m----> 2\u001b[0;31m \u001b[0max\u001b[0m \u001b[0;34m=\u001b[0m \u001b[0mospy\u001b[0m\u001b[0;34m.\u001b[0m\u001b[0mplot\u001b[0m\u001b[0;34m.\u001b[0m\u001b[0mvertical_section\u001b[0m\u001b[0;34m(\u001b[0m\u001b[0mod_moor\u001b[0m\u001b[0;34m,\u001b[0m \u001b[0mvarName\u001b[0m\u001b[0;34m=\u001b[0m\u001b[0;34m'Temp'\u001b[0m\u001b[0;34m,\u001b[0m \u001b[0mcontourName\u001b[0m\u001b[0;34m=\u001b[0m\u001b[0;34m'Depth'\u001b[0m\u001b[0;34m)\u001b[0m\u001b[0;34m\u001b[0m\u001b[0;34m\u001b[0m\u001b[0m\n\u001b[0m",
      "\u001b[0;32m~/workspace/Storage/malmans2/persistent/Poseidon_Meeting/oceanspy/oceanspy/plot.py\u001b[0m in \u001b[0;36mvertical_section\u001b[0;34m(od, varName, plotType, use_dist, subsampMethod, contourName, meanAxes, intAxes, contour_kwargs, clabel_kwargs, subsamp_kwargs, cutout_kwargs, **kwargs)\u001b[0m\n\u001b[1;32m    891\u001b[0m         ver_name_cont = [dim\n\u001b[1;32m    892\u001b[0m                          \u001b[0;32mfor\u001b[0m \u001b[0mdim\u001b[0m \u001b[0;32min\u001b[0m \u001b[0mod\u001b[0m\u001b[0;34m.\u001b[0m\u001b[0mgrid_coords\u001b[0m\u001b[0;34m[\u001b[0m\u001b[0;34m'Z'\u001b[0m\u001b[0;34m]\u001b[0m\u001b[0;34m\u001b[0m\u001b[0;34m\u001b[0m\u001b[0m\n\u001b[0;32m--> 893\u001b[0;31m                          if dim in da_contour.dims][0]\n\u001b[0m\u001b[1;32m    894\u001b[0m         \u001b[0mda_contour\u001b[0m \u001b[0;34m=\u001b[0m \u001b[0mda_contour\u001b[0m\u001b[0;34m.\u001b[0m\u001b[0msqueeze\u001b[0m\u001b[0;34m(\u001b[0m\u001b[0;34m)\u001b[0m\u001b[0;34m\u001b[0m\u001b[0;34m\u001b[0m\u001b[0m\n\u001b[1;32m    895\u001b[0m \u001b[0;34m\u001b[0m\u001b[0m\n",
      "\u001b[0;31mIndexError\u001b[0m: list index out of range"
     ]
    }
   ],
   "source": [
    "%matplotlib inline\n",
    "ax = ospy.plot.vertical_section(od_moor, varName='Temp', contourName='Depth')"
   ]
  },
  {
   "cell_type": "code",
   "execution_count": 9,
   "metadata": {},
   "outputs": [
    {
     "name": "stdout",
     "output_type": "stream",
     "text": [
      "Computing weighted_mean.\n"
     ]
    }
   ],
   "source": [
    "od = od.compute.weighted_mean(varNameList='Temp')"
   ]
  },
  {
   "cell_type": "code",
   "execution_count": 12,
   "metadata": {},
   "outputs": [
    {
     "data": {
      "text/plain": [
       "<xarray.Dataset>\n",
       "Dimensions:      (X: 207, Xp1: 208, Y: 154, Yp1: 155, Z: 55, Zl: 55, Zp1: 56, Zu: 55, time: 40, time_midp: 39)\n",
       "Coordinates:\n",
       "  * X            (X) float64 -22.02 -21.98 -21.93 ... -13.05 -13.01 -12.96\n",
       "  * Y            (Y) float64 68.99 69.01 69.03 69.04 ... 71.95 71.97 72.0 72.02\n",
       "  * Z            (Z) float64 -1.0 -3.5 -7.0 -11.5 ... -696.5 -711.5 -726.5\n",
       "  * time         (time) datetime64[ns] 2007-09-01 ... 2007-09-10T18:00:00\n",
       "  * time_midp    (time_midp) datetime64[ns] 2007-09-01T03:00:00 ... 2007-09-10T15:00:00\n",
       "  * Zl           (Zl) float64 0.0 -2.0 -5.0 -9.0 ... -674.0 -689.0 -704.0 -719.0\n",
       "  * Zp1          (Zp1) float64 0.0 -2.0 -5.0 -9.0 ... -704.0 -719.0 -734.0\n",
       "  * Zu           (Zu) float64 -2.0 -5.0 -9.0 -14.0 ... -704.0 -719.0 -734.0\n",
       "    XC           (Y, X) float64 dask.array<shape=(154, 207), chunksize=(154, 207)>\n",
       "    YC           (Y, X) float64 dask.array<shape=(154, 207), chunksize=(154, 207)>\n",
       "  * Xp1          (Xp1) float64 -22.04 -22.0 -21.96 ... -13.03 -12.98 -12.94\n",
       "    XU           (Y, Xp1) float64 dask.array<shape=(154, 208), chunksize=(154, 208)>\n",
       "    YU           (Y, Xp1) float64 dask.array<shape=(154, 208), chunksize=(154, 208)>\n",
       "  * Yp1          (Yp1) float64 68.98 69.0 69.02 69.03 ... 71.98 72.01 72.03\n",
       "    XV           (Yp1, X) float64 dask.array<shape=(155, 207), chunksize=(155, 207)>\n",
       "    YV           (Yp1, X) float64 dask.array<shape=(155, 207), chunksize=(155, 207)>\n",
       "    XG           (Yp1, Xp1) float64 dask.array<shape=(155, 208), chunksize=(155, 208)>\n",
       "    YG           (Yp1, Xp1) float64 dask.array<shape=(155, 208), chunksize=(155, 208)>\n",
       "Data variables:\n",
       "    drC          (Zp1) float64 dask.array<shape=(56,), chunksize=(56,)>\n",
       "    drF          (Z) float64 dask.array<shape=(55,), chunksize=(55,)>\n",
       "    dxC          (Y, Xp1) float64 dask.array<shape=(154, 208), chunksize=(154, 208)>\n",
       "    dyC          (Yp1, X) float64 dask.array<shape=(155, 207), chunksize=(155, 207)>\n",
       "    dxF          (Y, X) float64 dask.array<shape=(154, 207), chunksize=(154, 207)>\n",
       "    dyF          (Y, X) float64 dask.array<shape=(154, 207), chunksize=(154, 207)>\n",
       "    dxG          (Yp1, X) float64 dask.array<shape=(155, 207), chunksize=(155, 207)>\n",
       "    dyG          (Y, Xp1) float64 dask.array<shape=(154, 208), chunksize=(154, 208)>\n",
       "    dxV          (Yp1, Xp1) float64 dask.array<shape=(155, 208), chunksize=(155, 208)>\n",
       "    dyU          (Yp1, Xp1) float64 dask.array<shape=(155, 208), chunksize=(155, 208)>\n",
       "    rA           (Y, X) float64 dask.array<shape=(154, 207), chunksize=(154, 207)>\n",
       "    rAw          (Y, Xp1) float64 dask.array<shape=(154, 208), chunksize=(154, 208)>\n",
       "    rAs          (Yp1, X) float64 dask.array<shape=(155, 207), chunksize=(155, 207)>\n",
       "    rAz          (Yp1, Xp1) float64 dask.array<shape=(155, 208), chunksize=(155, 208)>\n",
       "    fCori        (Y, X) float64 dask.array<shape=(154, 207), chunksize=(154, 207)>\n",
       "    fCoriG       (Yp1, Xp1) float64 dask.array<shape=(155, 208), chunksize=(155, 208)>\n",
       "    R_low        (Y, X) float64 dask.array<shape=(154, 207), chunksize=(154, 207)>\n",
       "    Ro_surf      (Y, X) float64 dask.array<shape=(154, 207), chunksize=(154, 207)>\n",
       "    Depth        (Y, X) float64 dask.array<shape=(154, 207), chunksize=(154, 207)>\n",
       "    HFacC        (Z, Y, X) float64 dask.array<shape=(55, 154, 207), chunksize=(55, 154, 207)>\n",
       "    HFacW        (Z, Y, Xp1) float64 dask.array<shape=(55, 154, 208), chunksize=(55, 154, 208)>\n",
       "    HFacS        (Z, Yp1, X) float64 dask.array<shape=(55, 155, 207), chunksize=(55, 155, 207)>\n",
       "    KPPGHAT      (Z, Y, X) float64 dask.array<shape=(55, 154, 207), chunksize=(55, 154, 207)>\n",
       "    KPPHBL       (Y, X) float64 dask.array<shape=(154, 207), chunksize=(154, 207)>\n",
       "    KPPdiffKzS   (Z, Y, X) float64 dask.array<shape=(55, 154, 207), chunksize=(55, 154, 207)>\n",
       "    KPPdiffKzT   (Z, Y, X) float64 dask.array<shape=(55, 154, 207), chunksize=(55, 154, 207)>\n",
       "    KPPviscAz    (Z, Y, X) float64 dask.array<shape=(55, 154, 207), chunksize=(55, 154, 207)>\n",
       "    EXFaqh       (time, Y, X) float64 dask.array<shape=(40, 154, 207), chunksize=(40, 154, 207)>\n",
       "    EXFatemp     (time, Y, X) float64 dask.array<shape=(40, 154, 207), chunksize=(40, 154, 207)>\n",
       "    EXFempmr     (time, Y, X) float64 dask.array<shape=(40, 154, 207), chunksize=(40, 154, 207)>\n",
       "    EXFevap      (time, Y, X) float64 dask.array<shape=(40, 154, 207), chunksize=(40, 154, 207)>\n",
       "    EXFhl        (time, Y, X) float64 dask.array<shape=(40, 154, 207), chunksize=(40, 154, 207)>\n",
       "    EXFhs        (time, Y, X) float64 dask.array<shape=(40, 154, 207), chunksize=(40, 154, 207)>\n",
       "    EXFlwnet     (time, Y, X) float64 dask.array<shape=(40, 154, 207), chunksize=(40, 154, 207)>\n",
       "    EXFpreci     (time, Y, X) float64 dask.array<shape=(40, 154, 207), chunksize=(40, 154, 207)>\n",
       "    EXFpress     (time, Y, X) float64 dask.array<shape=(40, 154, 207), chunksize=(40, 154, 207)>\n",
       "    EXFqnet      (time, Y, X) float64 dask.array<shape=(40, 154, 207), chunksize=(40, 154, 207)>\n",
       "    EXFroff      (time, Y, X) float64 dask.array<shape=(40, 154, 207), chunksize=(40, 154, 207)>\n",
       "    EXFroft      (time, Y, X) float64 dask.array<shape=(40, 154, 207), chunksize=(40, 154, 207)>\n",
       "    EXFsnow      (time, Y, X) float64 dask.array<shape=(40, 154, 207), chunksize=(40, 154, 207)>\n",
       "    EXFswnet     (time, Y, X) float64 dask.array<shape=(40, 154, 207), chunksize=(40, 154, 207)>\n",
       "    EXFtaux      (time, Y, X) float64 dask.array<shape=(40, 154, 207), chunksize=(40, 154, 207)>\n",
       "    EXFtauy      (time, Y, X) float64 dask.array<shape=(40, 154, 207), chunksize=(40, 154, 207)>\n",
       "    EXFuwind     (time, Y, X) float64 dask.array<shape=(40, 154, 207), chunksize=(40, 154, 207)>\n",
       "    EXFvwind     (time, Y, X) float64 dask.array<shape=(40, 154, 207), chunksize=(40, 154, 207)>\n",
       "    Eta          (time, Y, X) float64 dask.array<shape=(40, 154, 207), chunksize=(40, 154, 207)>\n",
       "    S            (time, Z, Y, X) float64 dask.array<shape=(40, 55, 154, 207), chunksize=(40, 55, 154, 207)>\n",
       "    Temp         (time, Z, Y, X) float64 dask.array<shape=(40, 55, 154, 207), chunksize=(40, 55, 154, 207)>\n",
       "    U            (time, Z, Y, Xp1) float64 dask.array<shape=(40, 55, 154, 208), chunksize=(40, 55, 154, 208)>\n",
       "    V            (time, Z, Yp1, X) float64 dask.array<shape=(40, 55, 155, 207), chunksize=(40, 55, 155, 207)>\n",
       "    W            (time, Zl, Y, X) float64 dask.array<shape=(40, 55, 154, 207), chunksize=(40, 55, 154, 207)>\n",
       "    KPPhbl       (time, Y, X) float64 dask.array<shape=(40, 154, 207), chunksize=(40, 154, 207)>\n",
       "    MXLDEPTH     (time, Y, X) float64 dask.array<shape=(40, 154, 207), chunksize=(40, 154, 207)>\n",
       "    RHOAnoma     (time, Z, Y, X) float64 dask.array<shape=(40, 55, 154, 207), chunksize=(40, 55, 154, 207)>\n",
       "    SIarea       (time, Y, X) float64 dask.array<shape=(40, 154, 207), chunksize=(40, 154, 207)>\n",
       "    SIheff       (time, Y, X) float64 dask.array<shape=(40, 154, 207), chunksize=(40, 154, 207)>\n",
       "    SIhsnow      (time, Y, X) float64 dask.array<shape=(40, 154, 207), chunksize=(40, 154, 207)>\n",
       "    SIhsalt      (time, Y, X) float64 dask.array<shape=(40, 154, 207), chunksize=(40, 154, 207)>\n",
       "    SIuice       (time, Y, Xp1) float64 dask.array<shape=(40, 154, 208), chunksize=(40, 154, 208)>\n",
       "    SIvice       (time, Yp1, X) float64 dask.array<shape=(40, 155, 207), chunksize=(40, 155, 207)>\n",
       "    TRELAX       (time, Y, X) float64 dask.array<shape=(40, 154, 207), chunksize=(40, 154, 207)>\n",
       "    SRELAX       (time, Y, X) float64 dask.array<shape=(40, 154, 207), chunksize=(40, 154, 207)>\n",
       "    momVort3     (time, Z, Yp1, Xp1) float64 dask.array<shape=(40, 55, 155, 208), chunksize=(40, 55, 155, 208)>\n",
       "    oceTAUX      (time, Y, Xp1) float64 dask.array<shape=(40, 154, 208), chunksize=(40, 154, 208)>\n",
       "    oceTAUY      (time, Yp1, X) float64 dask.array<shape=(40, 155, 207), chunksize=(40, 155, 207)>\n",
       "    oceFWflx     (time, Y, X) float64 dask.array<shape=(40, 154, 207), chunksize=(40, 154, 207)>\n",
       "    oceSflux     (time, Y, X) float64 dask.array<shape=(40, 154, 207), chunksize=(40, 154, 207)>\n",
       "    oceQnet      (time, Y, X) float64 dask.array<shape=(40, 154, 207), chunksize=(40, 154, 207)>\n",
       "    oceQsw       (time, Y, X) float64 dask.array<shape=(40, 154, 207), chunksize=(40, 154, 207)>\n",
       "    oceFreez     (time, Y, X) float64 dask.array<shape=(40, 154, 207), chunksize=(40, 154, 207)>\n",
       "    oceSPflx     (time, Y, X) float64 dask.array<shape=(40, 154, 207), chunksize=(40, 154, 207)>\n",
       "    oceSPDep     (time, Y, X) float64 dask.array<shape=(40, 154, 207), chunksize=(40, 154, 207)>\n",
       "    phiHyd       (time, Z, Y, X) float64 dask.array<shape=(40, 55, 154, 207), chunksize=(40, 55, 154, 207)>\n",
       "    phiHydLow    (time, Y, X) float64 dask.array<shape=(40, 154, 207), chunksize=(40, 154, 207)>\n",
       "    surForcT     (time, Y, X) float64 dask.array<shape=(40, 154, 207), chunksize=(40, 154, 207)>\n",
       "    surForcS     (time, Y, X) float64 dask.array<shape=(40, 154, 207), chunksize=(40, 154, 207)>\n",
       "    ADVr_SLT     (time_midp, Zl, Y, X) float64 dask.array<shape=(39, 55, 154, 207), chunksize=(39, 55, 154, 207)>\n",
       "    ADVr_TH      (time_midp, Zl, Y, X) float64 dask.array<shape=(39, 55, 154, 207), chunksize=(39, 55, 154, 207)>\n",
       "    ADVx_SLT     (time_midp, Z, Y, Xp1) float64 dask.array<shape=(39, 55, 154, 208), chunksize=(39, 55, 154, 208)>\n",
       "    ADVx_TH      (time_midp, Z, Y, Xp1) float64 dask.array<shape=(39, 55, 154, 208), chunksize=(39, 55, 154, 208)>\n",
       "    ADVy_SLT     (time_midp, Z, Yp1, X) float64 dask.array<shape=(39, 55, 155, 207), chunksize=(39, 55, 155, 207)>\n",
       "    ADVy_TH      (time_midp, Z, Yp1, X) float64 dask.array<shape=(39, 55, 155, 207), chunksize=(39, 55, 155, 207)>\n",
       "    DFrI_SLT     (time_midp, Zl, Y, X) float64 dask.array<shape=(39, 55, 154, 207), chunksize=(39, 55, 154, 207)>\n",
       "    DFrI_TH      (time_midp, Zl, Y, X) float64 dask.array<shape=(39, 55, 154, 207), chunksize=(39, 55, 154, 207)>\n",
       "    KPPg_SLT     (time_midp, Zl, Y, X) float64 dask.array<shape=(39, 55, 154, 207), chunksize=(39, 55, 154, 207)>\n",
       "    KPPg_TH      (time_midp, Zl, Y, X) float64 dask.array<shape=(39, 55, 154, 207), chunksize=(39, 55, 154, 207)>\n",
       "    SFLUX        (time_midp, Y, X) float64 dask.array<shape=(39, 154, 207), chunksize=(39, 154, 207)>\n",
       "    TFLUX        (time_midp, Y, X) float64 dask.array<shape=(39, 154, 207), chunksize=(39, 154, 207)>\n",
       "    oceQsw_AVG   (time_midp, Y, X) float64 dask.array<shape=(39, 154, 207), chunksize=(39, 154, 207)>\n",
       "    oceSPtnd     (time_midp, Z, Y, X) float64 dask.array<shape=(39, 55, 154, 207), chunksize=(39, 55, 154, 207)>\n",
       "    w_mean_Temp  float64 dask.array<shape=(), chunksize=()>\n",
       "    weight_Temp  (time, Z, Y, X) float64 dask.array<shape=(40, 55, 154, 207), chunksize=(40, 55, 154, 207)>\n",
       "Attributes:\n",
       "    OceanSpy_grid_coords:  {'Y': {'Y': None, 'Yp1': 0.5}, 'X': {'X': None, 'X...\n",
       "    OceanSpy_parameters:   {'rSphere': 6371.0, 'eq_state': 'jmd95', 'rho0': 1...\n",
       "    OceanSpy_name:         EGshelfIIseas2km_ASR_full\n",
       "    OceanSpy_description:  High-resolution (~2km) numerical simulation coveri...\n",
       "    OceanSpy_projection:   Mercator(**{})"
      ]
     },
     "execution_count": 12,
     "metadata": {},
     "output_type": "execute_result"
    }
   ],
   "source": [
    "od.dataset"
   ]
  },
  {
   "cell_type": "code",
   "execution_count": 13,
   "metadata": {},
   "outputs": [],
   "source": [
    "from oceanspy._ospy_utils import _rename_aliased"
   ]
  },
  {
   "cell_type": "code",
   "execution_count": 17,
   "metadata": {},
   "outputs": [
    {
     "data": {
      "text/plain": [
       "'X'"
      ]
     },
     "execution_count": 17,
     "metadata": {},
     "output_type": "execute_result"
    }
   ],
   "source": [
    "_rename_aliased(od, varNameList='X')"
   ]
  },
  {
   "cell_type": "code",
   "execution_count": null,
   "metadata": {},
   "outputs": [],
   "source": []
  }
 ],
 "metadata": {
  "kernelspec": {
   "display_name": "Python 3",
   "language": "python",
   "name": "python3"
  },
  "language_info": {
   "codemirror_mode": {
    "name": "ipython",
    "version": 3
   },
   "file_extension": ".py",
   "mimetype": "text/x-python",
   "name": "python",
   "nbconvert_exporter": "python",
   "pygments_lexer": "ipython3",
   "version": "3.7.2"
  }
 },
 "nbformat": 4,
 "nbformat_minor": 2
}
